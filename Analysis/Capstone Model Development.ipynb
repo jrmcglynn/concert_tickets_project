{
 "cells": [
  {
   "cell_type": "markdown",
   "metadata": {},
   "source": [
    "# Load Libraries / Modules"
   ]
  },
  {
   "cell_type": "code",
   "execution_count": 365,
   "metadata": {},
   "outputs": [],
   "source": [
    "# Basic\n",
    "\n",
    "import pandas as pd\n",
    "import numpy as np\n",
    "from matplotlib import pyplot as plt\n",
    "import seaborn as sns\n",
    "from datetime import datetime"
   ]
  },
  {
   "cell_type": "code",
   "execution_count": 364,
   "metadata": {},
   "outputs": [],
   "source": [
    "# Model selection \n",
    "\n",
    "from sklearn.model_selection import StratifiedKFold\n",
    "from sklearn.model_selection import cross_val_score\n",
    "from sklearn.model_selection import GridSearchCV\n",
    "\n",
    "from sklearn.preprocessing import StandardScaler\n",
    "from sklearn.pipeline import make_pipeline"
   ]
  },
  {
   "cell_type": "code",
   "execution_count": 273,
   "metadata": {},
   "outputs": [],
   "source": [
    "# Scoring\n",
    "\n",
    "# Make roc auc scoring func\n",
    "from sklearn.metrics import roc_auc_score\n",
    "from sklearn.metrics import make_scorer\n",
    "def roc_scorer_fun(ground_truth, predictions):\n",
    "    return roc_auc_score(ground_truth, predictions[:, 1])\n",
    "roc_scorer = make_scorer(roc_scorer_fun, needs_proba = True)\n",
    "\n",
    "# Other success metrics\n",
    "from sklearn.metrics import recall_score\n",
    "from sklearn.metrics import confusion_matrix"
   ]
  },
  {
   "cell_type": "code",
   "execution_count": 192,
   "metadata": {},
   "outputs": [],
   "source": [
    "# Define folds... to be used rest of testing\n",
    "\n",
    "folds = StratifiedKFold(n_splits = 5, shuffle = True, random_state = 30) "
   ]
  },
  {
   "cell_type": "code",
   "execution_count": 551,
   "metadata": {},
   "outputs": [],
   "source": [
    "# Start model tracking lists\n",
    "\n",
    "models = []\n",
    "AUC_training = []\n",
    "AUC_holdout = []"
   ]
  },
  {
   "cell_type": "markdown",
   "metadata": {},
   "source": [
    "# Get data"
   ]
  },
  {
   "cell_type": "code",
   "execution_count": 95,
   "metadata": {},
   "outputs": [],
   "source": [
    "import ticket_prediction_data\n",
    "import importlib\n",
    "_ = importlib.reload(ticket_prediction_data)"
   ]
  },
  {
   "cell_type": "code",
   "execution_count": 114,
   "metadata": {
    "scrolled": true
   },
   "outputs": [
    {
     "name": "stdout",
     "output_type": "stream",
     "text": [
      "Connection working!\n",
      "Querying for main table\n",
      "Got main table\n",
      "Querying for performers\n",
      "Dummying performers\n",
      "Performers dummied\n"
     ]
    }
   ],
   "source": [
    "data_fetcher = ticket_prediction_data.Ticket_PredictionData()\n",
    "data_fetcher._get_main()\n",
    "data_fetcher._get_perf()"
   ]
  },
  {
   "cell_type": "code",
   "execution_count": 297,
   "metadata": {},
   "outputs": [
    {
     "name": "stdout",
     "output_type": "stream",
     "text": [
      "Already have data... don't need to query again\n",
      "Simplifying venues\n",
      "Venues simplified\n",
      "Simplifying events\n",
      "Events simplified\n",
      "Simplifying zones\n",
      "Zones simplified\n",
      "Dummying performers\n",
      "Performers dummied\n",
      "Concatanating dummied performers\n",
      "Performers concatanated\n",
      "Starting final cleanup\n",
      "Done\n"
     ]
    }
   ],
   "source": [
    "X_train, X_holdout, Y_train, Y_holdout = data_fetcher.get_data(max_venues=50, max_events=50, \n",
    "                                                               max_zones=15, max_perf=50)"
   ]
  },
  {
   "cell_type": "code",
   "execution_count": 376,
   "metadata": {},
   "outputs": [
    {
     "data": {
      "text/plain": [
       "(853755, 180)"
      ]
     },
     "execution_count": 376,
     "metadata": {},
     "output_type": "execute_result"
    }
   ],
   "source": [
    "X_train.shape"
   ]
  },
  {
   "cell_type": "markdown",
   "metadata": {},
   "source": [
    "# Logistic Regression -- Getting Started"
   ]
  },
  {
   "cell_type": "code",
   "execution_count": 12,
   "metadata": {},
   "outputs": [],
   "source": [
    "from sklearn.linear_model import LogisticRegression"
   ]
  },
  {
   "cell_type": "code",
   "execution_count": 170,
   "metadata": {},
   "outputs": [
    {
     "data": {
      "text/html": [
       "<div>\n",
       "<style scoped>\n",
       "    .dataframe tbody tr th:only-of-type {\n",
       "        vertical-align: middle;\n",
       "    }\n",
       "\n",
       "    .dataframe tbody tr th {\n",
       "        vertical-align: top;\n",
       "    }\n",
       "\n",
       "    .dataframe thead th {\n",
       "        text-align: right;\n",
       "    }\n",
       "</style>\n",
       "<table border=\"1\" class=\"dataframe\">\n",
       "  <thead>\n",
       "    <tr style=\"text-align: right;\">\n",
       "      <th></th>\n",
       "      <th>0</th>\n",
       "      <th>1</th>\n",
       "      <th>2</th>\n",
       "      <th>3</th>\n",
       "      <th>4</th>\n",
       "      <th>5</th>\n",
       "      <th>6</th>\n",
       "      <th>7</th>\n",
       "      <th>8</th>\n",
       "      <th>9</th>\n",
       "      <th>...</th>\n",
       "      <th>170</th>\n",
       "      <th>171</th>\n",
       "      <th>172</th>\n",
       "      <th>173</th>\n",
       "      <th>174</th>\n",
       "      <th>175</th>\n",
       "      <th>176</th>\n",
       "      <th>177</th>\n",
       "      <th>178</th>\n",
       "      <th>179</th>\n",
       "    </tr>\n",
       "  </thead>\n",
       "  <tbody>\n",
       "    <tr>\n",
       "      <th>0</th>\n",
       "      <td>-0.479675</td>\n",
       "      <td>-0.98843</td>\n",
       "      <td>0.862062</td>\n",
       "      <td>-0.102235</td>\n",
       "      <td>-0.345902</td>\n",
       "      <td>-0.041947</td>\n",
       "      <td>-0.680071</td>\n",
       "      <td>-0.075160</td>\n",
       "      <td>-0.344806</td>\n",
       "      <td>-0.849360</td>\n",
       "      <td>...</td>\n",
       "      <td>-0.231083</td>\n",
       "      <td>-0.230664</td>\n",
       "      <td>-0.261845</td>\n",
       "      <td>-0.142271</td>\n",
       "      <td>-0.251591</td>\n",
       "      <td>-0.510419</td>\n",
       "      <td>-0.114431</td>\n",
       "      <td>-0.244608</td>\n",
       "      <td>-0.113434</td>\n",
       "      <td>-0.16964</td>\n",
       "    </tr>\n",
       "    <tr>\n",
       "      <th>1</th>\n",
       "      <td>0.431464</td>\n",
       "      <td>-0.98843</td>\n",
       "      <td>0.862062</td>\n",
       "      <td>-0.102235</td>\n",
       "      <td>-0.345902</td>\n",
       "      <td>-0.041947</td>\n",
       "      <td>-0.680071</td>\n",
       "      <td>-0.075160</td>\n",
       "      <td>-0.344806</td>\n",
       "      <td>1.177357</td>\n",
       "      <td>...</td>\n",
       "      <td>-0.231083</td>\n",
       "      <td>-0.230664</td>\n",
       "      <td>-0.261845</td>\n",
       "      <td>-0.142271</td>\n",
       "      <td>-0.251591</td>\n",
       "      <td>-0.510419</td>\n",
       "      <td>-0.114431</td>\n",
       "      <td>-0.244608</td>\n",
       "      <td>-0.113434</td>\n",
       "      <td>-0.16964</td>\n",
       "    </tr>\n",
       "    <tr>\n",
       "      <th>2</th>\n",
       "      <td>-0.935244</td>\n",
       "      <td>-0.98843</td>\n",
       "      <td>0.862062</td>\n",
       "      <td>-0.102235</td>\n",
       "      <td>-0.345902</td>\n",
       "      <td>-0.041947</td>\n",
       "      <td>-0.680071</td>\n",
       "      <td>-0.075160</td>\n",
       "      <td>-0.344806</td>\n",
       "      <td>-0.849360</td>\n",
       "      <td>...</td>\n",
       "      <td>-0.231083</td>\n",
       "      <td>-0.230664</td>\n",
       "      <td>-0.261845</td>\n",
       "      <td>-0.142271</td>\n",
       "      <td>-0.251591</td>\n",
       "      <td>-0.510419</td>\n",
       "      <td>-0.114431</td>\n",
       "      <td>-0.244608</td>\n",
       "      <td>-0.113434</td>\n",
       "      <td>-0.16964</td>\n",
       "    </tr>\n",
       "    <tr>\n",
       "      <th>3</th>\n",
       "      <td>3.620449</td>\n",
       "      <td>-0.98843</td>\n",
       "      <td>0.862062</td>\n",
       "      <td>-0.056247</td>\n",
       "      <td>1.862449</td>\n",
       "      <td>-0.041947</td>\n",
       "      <td>-0.680071</td>\n",
       "      <td>-0.028554</td>\n",
       "      <td>-0.344806</td>\n",
       "      <td>1.177357</td>\n",
       "      <td>...</td>\n",
       "      <td>4.327444</td>\n",
       "      <td>-0.230664</td>\n",
       "      <td>-0.261845</td>\n",
       "      <td>-0.142271</td>\n",
       "      <td>-0.251591</td>\n",
       "      <td>-0.510419</td>\n",
       "      <td>-0.114431</td>\n",
       "      <td>-0.244608</td>\n",
       "      <td>-0.113434</td>\n",
       "      <td>-0.16964</td>\n",
       "    </tr>\n",
       "    <tr>\n",
       "      <th>4</th>\n",
       "      <td>2.709311</td>\n",
       "      <td>-0.98843</td>\n",
       "      <td>0.862062</td>\n",
       "      <td>-0.056247</td>\n",
       "      <td>1.862449</td>\n",
       "      <td>-0.041947</td>\n",
       "      <td>-0.680071</td>\n",
       "      <td>-0.028554</td>\n",
       "      <td>-0.344806</td>\n",
       "      <td>-0.849360</td>\n",
       "      <td>...</td>\n",
       "      <td>4.327444</td>\n",
       "      <td>-0.230664</td>\n",
       "      <td>-0.261845</td>\n",
       "      <td>-0.142271</td>\n",
       "      <td>-0.251591</td>\n",
       "      <td>-0.510419</td>\n",
       "      <td>-0.114431</td>\n",
       "      <td>-0.244608</td>\n",
       "      <td>-0.113434</td>\n",
       "      <td>-0.16964</td>\n",
       "    </tr>\n",
       "  </tbody>\n",
       "</table>\n",
       "<p>5 rows × 180 columns</p>\n",
       "</div>"
      ],
      "text/plain": [
       "        0        1         2         3         4         5         6    \\\n",
       "0 -0.479675 -0.98843  0.862062 -0.102235 -0.345902 -0.041947 -0.680071   \n",
       "1  0.431464 -0.98843  0.862062 -0.102235 -0.345902 -0.041947 -0.680071   \n",
       "2 -0.935244 -0.98843  0.862062 -0.102235 -0.345902 -0.041947 -0.680071   \n",
       "3  3.620449 -0.98843  0.862062 -0.056247  1.862449 -0.041947 -0.680071   \n",
       "4  2.709311 -0.98843  0.862062 -0.056247  1.862449 -0.041947 -0.680071   \n",
       "\n",
       "        7         8         9     ...          170       171       172  \\\n",
       "0 -0.075160 -0.344806 -0.849360   ...    -0.231083 -0.230664 -0.261845   \n",
       "1 -0.075160 -0.344806  1.177357   ...    -0.231083 -0.230664 -0.261845   \n",
       "2 -0.075160 -0.344806 -0.849360   ...    -0.231083 -0.230664 -0.261845   \n",
       "3 -0.028554 -0.344806  1.177357   ...     4.327444 -0.230664 -0.261845   \n",
       "4 -0.028554 -0.344806 -0.849360   ...     4.327444 -0.230664 -0.261845   \n",
       "\n",
       "        173       174       175       176       177       178      179  \n",
       "0 -0.142271 -0.251591 -0.510419 -0.114431 -0.244608 -0.113434 -0.16964  \n",
       "1 -0.142271 -0.251591 -0.510419 -0.114431 -0.244608 -0.113434 -0.16964  \n",
       "2 -0.142271 -0.251591 -0.510419 -0.114431 -0.244608 -0.113434 -0.16964  \n",
       "3 -0.142271 -0.251591 -0.510419 -0.114431 -0.244608 -0.113434 -0.16964  \n",
       "4 -0.142271 -0.251591 -0.510419 -0.114431 -0.244608 -0.113434 -0.16964  \n",
       "\n",
       "[5 rows x 180 columns]"
      ]
     },
     "execution_count": 170,
     "metadata": {},
     "output_type": "execute_result"
    }
   ],
   "source": [
    "scale = StandardScaler()\n",
    "X_train_s = scale.fit_transform(X = X_train)"
   ]
  },
  {
   "cell_type": "code",
   "execution_count": 171,
   "metadata": {
    "scrolled": true
   },
   "outputs": [
    {
     "name": "stdout",
     "output_type": "stream",
     "text": [
      "CPU times: user 33.7 s, sys: 2.3 s, total: 36 s\n",
      "Wall time: 36.2 s\n"
     ]
    },
    {
     "data": {
      "text/plain": [
       "LogisticRegression(C=1.0, class_weight=None, dual=False, fit_intercept=True,\n",
       "          intercept_scaling=1, max_iter=100, multi_class='ovr', n_jobs=1,\n",
       "          penalty='l2', random_state=None, solver='liblinear', tol=0.0001,\n",
       "          verbose=0, warm_start=False)"
      ]
     },
     "execution_count": 171,
     "metadata": {},
     "output_type": "execute_result"
    }
   ],
   "source": [
    "logit = LogisticRegression()\n",
    "\n",
    "%time logit.fit(X_train, Y_train)"
   ]
  },
  {
   "cell_type": "code",
   "execution_count": 172,
   "metadata": {},
   "outputs": [
    {
     "data": {
      "text/plain": [
       "<matplotlib.axes._subplots.AxesSubplot at 0x224bac828>"
      ]
     },
     "execution_count": 172,
     "metadata": {},
     "output_type": "execute_result"
    },
    {
     "data": {
      "text/plain": [
       "<matplotlib.lines.Line2D at 0x224bacba8>"
      ]
     },
     "execution_count": 172,
     "metadata": {},
     "output_type": "execute_result"
    },
    {
     "data": {
      "image/png": "[encoded data removed]",
      "text/plain": [
       "<Figure size 432x288 with 1 Axes>"
      ]
     },
     "metadata": {},
     "output_type": "display_data"
    }
   ],
   "source": [
    "sns.distplot(logit.predict_proba(X_train)[:, 1])\n",
    "plt.axvline(Y_train.mean(), c='red')"
   ]
  },
  {
   "cell_type": "code",
   "execution_count": 173,
   "metadata": {},
   "outputs": [
    {
     "data": {
      "text/plain": [
       "0.7820578338368105"
      ]
     },
     "execution_count": 173,
     "metadata": {},
     "output_type": "execute_result"
    }
   ],
   "source": [
    "roc_auc_score(Y_train, logit.predict_proba(X_train)[:, 1])"
   ]
  },
  {
   "cell_type": "code",
   "execution_count": 174,
   "metadata": {},
   "outputs": [
    {
     "data": {
      "text/plain": [
       "array([[776972,    456],\n",
       "       [ 75595,    732]])"
      ]
     },
     "execution_count": 174,
     "metadata": {},
     "output_type": "execute_result"
    }
   ],
   "source": [
    "confusion_matrix(Y_train, logit.predict_proba(X_train)[:, 1]>0.5)"
   ]
  },
  {
   "cell_type": "code",
   "execution_count": 175,
   "metadata": {
    "scrolled": true
   },
   "outputs": [
    {
     "data": {
      "text/plain": [
       "array([[530490, 246938],\n",
       "       [ 18517,  57810]])"
      ]
     },
     "execution_count": 175,
     "metadata": {},
     "output_type": "execute_result"
    }
   ],
   "source": [
    "confusion_matrix(Y_train, logit.predict_proba(X_train)[:, 1]>Y_train.mean())"
   ]
  },
  {
   "cell_type": "code",
   "execution_count": 158,
   "metadata": {},
   "outputs": [
    {
     "data": {
      "text/plain": [
       "0.19257190130254648"
      ]
     },
     "execution_count": 158,
     "metadata": {},
     "output_type": "execute_result"
    },
    {
     "data": {
      "text/plain": [
       "0.7532852070695822"
      ]
     },
     "execution_count": 158,
     "metadata": {},
     "output_type": "execute_result"
    }
   ],
   "source": [
    "precision_score(Y_train, logit.predict_proba(X_train)[:, 1]>Y_train.mean())\n",
    "recall_score(Y_train, logit.predict_proba(X_train)[:, 1]>Y_train.mean())"
   ]
  },
  {
   "cell_type": "code",
   "execution_count": 182,
   "metadata": {},
   "outputs": [
    {
     "data": {
      "text/plain": [
       "0.525266733910376"
      ]
     },
     "execution_count": 182,
     "metadata": {},
     "output_type": "execute_result"
    }
   ],
   "source": [
    "X_holdout_s = scale.transform(X_holdout)\n",
    "roc_auc_score(Y_holdout, logit.predict_proba(X_holdout_s)[:, 1])"
   ]
  },
  {
   "cell_type": "code",
   "execution_count": 181,
   "metadata": {},
   "outputs": [
    {
     "data": {
      "text/plain": [
       "array([[ 62948, 253244],\n",
       "       [  2714,  25562]])"
      ]
     },
     "execution_count": 181,
     "metadata": {},
     "output_type": "execute_result"
    }
   ],
   "source": [
    "confusion_matrix(Y_holdout, logit.predict_proba(X_holdout_s)[:, 1] > Y_train.mean())"
   ]
  },
  {
   "cell_type": "code",
   "execution_count": 176,
   "metadata": {},
   "outputs": [
    {
     "data": {
      "text/plain": [
       "0.10571705926214248"
      ]
     },
     "execution_count": 176,
     "metadata": {},
     "output_type": "execute_result"
    },
    {
     "data": {
      "text/plain": [
       "0.7972485500070732"
      ]
     },
     "execution_count": 176,
     "metadata": {},
     "output_type": "execute_result"
    }
   ],
   "source": [
    "precision_score(Y_holdout, logit.predict_proba(X_holdout_s)[:, 1] > Y_train.mean())\n",
    "recall_score(Y_holdout, logit.predict_proba(X_holdout_s)[:, 1] > Y_train.mean())"
   ]
  },
  {
   "cell_type": "code",
   "execution_count": 177,
   "metadata": {},
   "outputs": [
    {
     "data": {
      "text/plain": [
       "<matplotlib.axes._subplots.AxesSubplot at 0x237669f60>"
      ]
     },
     "execution_count": 177,
     "metadata": {},
     "output_type": "execute_result"
    },
    {
     "data": {
      "image/png": "[encoded data removed]",
      "text/plain": [
       "<Figure size 432x288 with 1 Axes>"
      ]
     },
     "metadata": {},
     "output_type": "display_data"
    }
   ],
   "source": [
    "sns.distplot(logit.predict_proba(X_holdout_s)[:, 1])"
   ]
  },
  {
   "cell_type": "code",
   "execution_count": 178,
   "metadata": {},
   "outputs": [
    {
     "data": {
      "text/html": [
       "<div>\n",
       "<style scoped>\n",
       "    .dataframe tbody tr th:only-of-type {\n",
       "        vertical-align: middle;\n",
       "    }\n",
       "\n",
       "    .dataframe tbody tr th {\n",
       "        vertical-align: top;\n",
       "    }\n",
       "\n",
       "    .dataframe thead th {\n",
       "        text-align: right;\n",
       "    }\n",
       "</style>\n",
       "<table border=\"1\" class=\"dataframe\">\n",
       "  <thead>\n",
       "    <tr style=\"text-align: right;\">\n",
       "      <th></th>\n",
       "      <th>coeff</th>\n",
       "      <th>abs</th>\n",
       "    </tr>\n",
       "  </thead>\n",
       "  <tbody>\n",
       "    <tr>\n",
       "      <th>event_id_simp_103471931</th>\n",
       "      <td>2.851554</td>\n",
       "      <td>2.851554</td>\n",
       "    </tr>\n",
       "    <tr>\n",
       "      <th>venue_id_simp_8650</th>\n",
       "      <td>-2.575817</td>\n",
       "      <td>2.575817</td>\n",
       "    </tr>\n",
       "    <tr>\n",
       "      <th>venue_id_simp_13804</th>\n",
       "      <td>-2.505751</td>\n",
       "      <td>2.505751</td>\n",
       "    </tr>\n",
       "    <tr>\n",
       "      <th>venue_id_simp_9223</th>\n",
       "      <td>-2.311416</td>\n",
       "      <td>2.311416</td>\n",
       "    </tr>\n",
       "    <tr>\n",
       "      <th>venue_id_simp_424</th>\n",
       "      <td>-2.102489</td>\n",
       "      <td>2.102489</td>\n",
       "    </tr>\n",
       "    <tr>\n",
       "      <th>venue_id_simp_301</th>\n",
       "      <td>-2.043251</td>\n",
       "      <td>2.043251</td>\n",
       "    </tr>\n",
       "    <tr>\n",
       "      <th>venue_id_simp_8170</th>\n",
       "      <td>-1.983798</td>\n",
       "      <td>1.983798</td>\n",
       "    </tr>\n",
       "    <tr>\n",
       "      <th>event_id_simp_103482013</th>\n",
       "      <td>1.923205</td>\n",
       "      <td>1.923205</td>\n",
       "    </tr>\n",
       "    <tr>\n",
       "      <th>venue_id_simp_139004</th>\n",
       "      <td>-1.779379</td>\n",
       "      <td>1.779379</td>\n",
       "    </tr>\n",
       "    <tr>\n",
       "      <th>venue_id_simp_2101</th>\n",
       "      <td>-1.778130</td>\n",
       "      <td>1.778130</td>\n",
       "    </tr>\n",
       "    <tr>\n",
       "      <th>geos_New_York</th>\n",
       "      <td>1.685957</td>\n",
       "      <td>1.685957</td>\n",
       "    </tr>\n",
       "    <tr>\n",
       "      <th>category_Comedy</th>\n",
       "      <td>1.636735</td>\n",
       "      <td>1.636735</td>\n",
       "    </tr>\n",
       "    <tr>\n",
       "      <th>event_id_simp_103766679</th>\n",
       "      <td>-1.596898</td>\n",
       "      <td>1.596898</td>\n",
       "    </tr>\n",
       "    <tr>\n",
       "      <th>venue_id_simp_2041</th>\n",
       "      <td>-1.549222</td>\n",
       "      <td>1.549222</td>\n",
       "    </tr>\n",
       "    <tr>\n",
       "      <th>venue_id_simp_4981</th>\n",
       "      <td>1.423720</td>\n",
       "      <td>1.423720</td>\n",
       "    </tr>\n",
       "    <tr>\n",
       "      <th>venue_id_simp_97399</th>\n",
       "      <td>-1.407416</td>\n",
       "      <td>1.407416</td>\n",
       "    </tr>\n",
       "    <tr>\n",
       "      <th>event_id_simp_103472184</th>\n",
       "      <td>1.359317</td>\n",
       "      <td>1.359317</td>\n",
       "    </tr>\n",
       "    <tr>\n",
       "      <th>venue_id_simp_94</th>\n",
       "      <td>-1.349681</td>\n",
       "      <td>1.349681</td>\n",
       "    </tr>\n",
       "    <tr>\n",
       "      <th>venue_id_simp_106100</th>\n",
       "      <td>-1.332654</td>\n",
       "      <td>1.332654</td>\n",
       "    </tr>\n",
       "    <tr>\n",
       "      <th>event_id_simp_103472194</th>\n",
       "      <td>1.330247</td>\n",
       "      <td>1.330247</td>\n",
       "    </tr>\n",
       "  </tbody>\n",
       "</table>\n",
       "</div>"
      ],
      "text/plain": [
       "                            coeff       abs\n",
       "event_id_simp_103471931  2.851554  2.851554\n",
       "venue_id_simp_8650      -2.575817  2.575817\n",
       "venue_id_simp_13804     -2.505751  2.505751\n",
       "venue_id_simp_9223      -2.311416  2.311416\n",
       "venue_id_simp_424       -2.102489  2.102489\n",
       "venue_id_simp_301       -2.043251  2.043251\n",
       "venue_id_simp_8170      -1.983798  1.983798\n",
       "event_id_simp_103482013  1.923205  1.923205\n",
       "venue_id_simp_139004    -1.779379  1.779379\n",
       "venue_id_simp_2101      -1.778130  1.778130\n",
       "geos_New_York            1.685957  1.685957\n",
       "category_Comedy          1.636735  1.636735\n",
       "event_id_simp_103766679 -1.596898  1.596898\n",
       "venue_id_simp_2041      -1.549222  1.549222\n",
       "venue_id_simp_4981       1.423720  1.423720\n",
       "venue_id_simp_97399     -1.407416  1.407416\n",
       "event_id_simp_103472184  1.359317  1.359317\n",
       "venue_id_simp_94        -1.349681  1.349681\n",
       "venue_id_simp_106100    -1.332654  1.332654\n",
       "event_id_simp_103472194  1.330247  1.330247"
      ]
     },
     "execution_count": 178,
     "metadata": {},
     "output_type": "execute_result"
    }
   ],
   "source": [
    "pd.DataFrame({'coeff': logit.coef_.flatten(), 'abs': abs(logit.coef_.flatten())},\n",
    "                 X_train.columns).sort_values(by='abs', ascending=False).nlargest(20, 'abs')"
   ]
  },
  {
   "cell_type": "markdown",
   "metadata": {},
   "source": [
    "# Logistic Regression -- Getting Serious"
   ]
  },
  {
   "cell_type": "code",
   "execution_count": 377,
   "metadata": {},
   "outputs": [
    {
     "data": {
      "text/plain": [
       "array([0.77367549, 0.77682868, 0.77907531, 0.7785837 , 0.78288232])"
      ]
     },
     "execution_count": 377,
     "metadata": {},
     "output_type": "execute_result"
    }
   ],
   "source": [
    "# See cross-val scores using defaults parameters\n",
    "cross_val_score(LogisticRegression(), X_train, Y_train, scoring = roc_scorer, cv=folds)"
   ]
  },
  {
   "cell_type": "code",
   "execution_count": 338,
   "metadata": {},
   "outputs": [
    {
     "name": "stdout",
     "output_type": "stream",
     "text": [
      "CPU times: user 2min 11s, sys: 6.18 s, total: 2min 18s\n",
      "Wall time: 2min 19s\n"
     ]
    },
    {
     "data": {
      "text/plain": [
       "Pipeline(memory=None,\n",
       "     steps=[('standardscaler', StandardScaler(copy=True, with_mean=True, with_std=True)), ('logisticregression', LogisticRegression(C=1.0, class_weight=None, dual=False, fit_intercept=True,\n",
       "          intercept_scaling=1, max_iter=100, multi_class='ovr', n_jobs=1,\n",
       "          penalty='l2', random_state=None, solver='liblinear', tol=0.0001,\n",
       "          verbose=0, warm_start=False))])"
      ]
     },
     "execution_count": 338,
     "metadata": {},
     "output_type": "execute_result"
    }
   ],
   "source": [
    "# See how long it takes to fit a single logistic regression\n",
    "%time logit_pipe.fit(X_train, Y_train)"
   ]
  },
  {
   "cell_type": "code",
   "execution_count": 344,
   "metadata": {
    "scrolled": false
   },
   "outputs": [
    {
     "name": "stdout",
     "output_type": "stream",
     "text": [
      "Started at 2018-09-16 15:07:38.414579\n",
      "CPU times: user 7min 26s, sys: 13.2 s, total: 7min 39s\n",
      "Wall time: 1h 11min 13s\n"
     ]
    },
    {
     "data": {
      "text/plain": [
       "GridSearchCV(cv=StratifiedKFold(n_splits=5, random_state=30, shuffle=True),\n",
       "       error_score='raise',\n",
       "       estimator=Pipeline(memory=None,\n",
       "     steps=[('standardscaler', StandardScaler(copy=True, with_mean=True, with_std=True)), ('logisticregression', LogisticRegression(C=1.0, class_weight=None, dual=False, fit_intercept=True,\n",
       "          intercept_scaling=1, max_iter=100, multi_class='ovr', n_jobs=1,\n",
       "          penalty='l2', random_state=None, solver='liblinear', tol=0.0001,\n",
       "          verbose=0, warm_start=False))]),\n",
       "       fit_params=None, iid=True, n_jobs=3,\n",
       "       param_grid={'logisticregression__C': array([1.e-03, 1.e-01, 1.e+01]), 'logisticregression__penalty': ['l1', 'l2']},\n",
       "       pre_dispatch='2*n_jobs', refit=True, return_train_score='warn',\n",
       "       scoring=make_scorer(roc_scorer_fun, needs_proba=True), verbose=0)"
      ]
     },
     "execution_count": 344,
     "metadata": {},
     "output_type": "execute_result"
    }
   ],
   "source": [
    "# Grid search over C values and penalty type\n",
    "\n",
    "logit_pipe = make_pipeline(StandardScaler(), LogisticRegression())\n",
    "\n",
    "logit_grid = {'logisticregression__C': np.ones(3)*10.0**np.arange(-3, 3, 2),\n",
    "              'logisticregression__penalty': ['l1', 'l2']}\n",
    "\n",
    "lgs = GridSearchCV(logit_pipe, logit_grid, n_jobs=3, scoring=roc_scorer, cv=folds)\n",
    "print('Started at', datetime.now())\n",
    "%time lgs.fit(X_train, Y_train)"
   ]
  },
  {
   "cell_type": "code",
   "execution_count": 345,
   "metadata": {},
   "outputs": [
    {
     "data": {
      "text/plain": [
       "{'logisticregression__C': 0.1, 'logisticregression__penalty': 'l1'}"
      ]
     },
     "execution_count": 345,
     "metadata": {},
     "output_type": "execute_result"
    },
    {
     "data": {
      "text/plain": [
       "0.7826069664908984"
      ]
     },
     "execution_count": 345,
     "metadata": {},
     "output_type": "execute_result"
    }
   ],
   "source": [
    "lgs.best_params_\n",
    "lgs.best_score_"
   ]
  },
  {
   "cell_type": "code",
   "execution_count": 346,
   "metadata": {},
   "outputs": [
    {
     "data": {
      "text/plain": [
       "[mean: 0.76893, std: 0.00304, params: {'logisticregression__C': 0.001, 'logisticregression__penalty': 'l1'},\n",
       " mean: 0.77780, std: 0.00207, params: {'logisticregression__C': 0.001, 'logisticregression__penalty': 'l2'},\n",
       " mean: 0.78261, std: 0.00101, params: {'logisticregression__C': 0.1, 'logisticregression__penalty': 'l1'},\n",
       " mean: 0.78253, std: 0.00100, params: {'logisticregression__C': 0.1, 'logisticregression__penalty': 'l2'},\n",
       " mean: 0.78259, std: 0.00099, params: {'logisticregression__C': 10.0, 'logisticregression__penalty': 'l1'},\n",
       " mean: 0.78259, std: 0.00099, params: {'logisticregression__C': 10.0, 'logisticregression__penalty': 'l2'}]"
      ]
     },
     "execution_count": 346,
     "metadata": {},
     "output_type": "execute_result"
    }
   ],
   "source": [
    "lgs.grid_scores_"
   ]
  },
  {
   "cell_type": "code",
   "execution_count": 347,
   "metadata": {},
   "outputs": [
    {
     "data": {
      "text/plain": [
       "Pipeline(memory=None,\n",
       "     steps=[('standardscaler', StandardScaler(copy=True, with_mean=True, with_std=True)), ('logisticregression', LogisticRegression(C=0.1, class_weight=None, dual=False, fit_intercept=True,\n",
       "          intercept_scaling=1, max_iter=100, multi_class='ovr', n_jobs=1,\n",
       "          penalty='l1', random_state=None, solver='liblinear', tol=0.0001,\n",
       "          verbose=0, warm_start=False))])"
      ]
     },
     "execution_count": 347,
     "metadata": {},
     "output_type": "execute_result"
    },
    {
     "data": {
      "text/plain": [
       "0.7567574225409979"
      ]
     },
     "execution_count": 347,
     "metadata": {},
     "output_type": "execute_result"
    }
   ],
   "source": [
    "logit_tuned = lgs.best_estimator_\n",
    "%time logit_tuned.fit(X_train, Y_train)\n",
    "\n",
    "Y_holdout_pred = logit_tuned.predict_proba(X_holdout)[:, 1]\n",
    "roc_auc_score(Y_holdout, Y_holdout_pred)"
   ]
  },
  {
   "cell_type": "code",
   "execution_count": 362,
   "metadata": {},
   "outputs": [
    {
     "data": {
      "text/plain": [
       "Pipeline(memory=None,\n",
       "     steps=[('standardscaler', StandardScaler(copy=True, with_mean=True, with_std=True)), ('logisticregression', LogisticRegression(C=0.1, class_weight=None, dual=False, fit_intercept=True,\n",
       "          intercept_scaling=1, max_iter=100, multi_class='ovr', n_jobs=1,\n",
       "          penalty='l1', random_state=None, solver='liblinear', tol=0.0001,\n",
       "          verbose=0, warm_start=False))])"
      ]
     },
     "execution_count": 362,
     "metadata": {},
     "output_type": "execute_result"
    },
    {
     "data": {
      "text/plain": [
       "Pipeline(memory=None,\n",
       "     steps=[('standardscaler', StandardScaler(copy=True, with_mean=True, with_std=True)), ('logisticregression', LogisticRegression(C=1, class_weight=None, dual=False, fit_intercept=True,\n",
       "          intercept_scaling=1, max_iter=100, multi_class='ovr', n_jobs=1,\n",
       "          penalty='l1', random_state=None, solver='liblinear', tol=0.0001,\n",
       "          verbose=0, warm_start=False))])"
      ]
     },
     "execution_count": 362,
     "metadata": {},
     "output_type": "execute_result"
    },
    {
     "name": "stdout",
     "output_type": "stream",
     "text": [
      "CPU times: user 10min 12s, sys: 9.99 s, total: 10min 22s\n",
      "Wall time: 10min 36s\n"
     ]
    },
    {
     "data": {
      "text/plain": [
       "Pipeline(memory=None,\n",
       "     steps=[('standardscaler', StandardScaler(copy=True, with_mean=True, with_std=True)), ('logisticregression', LogisticRegression(C=1, class_weight=None, dual=False, fit_intercept=True,\n",
       "          intercept_scaling=1, max_iter=100, multi_class='ovr', n_jobs=1,\n",
       "          penalty='l1', random_state=None, solver='liblinear', tol=0.0001,\n",
       "          verbose=0, warm_start=False))])"
      ]
     },
     "execution_count": 362,
     "metadata": {},
     "output_type": "execute_result"
    },
    {
     "ename": "IndexError",
     "evalue": "too many indices for array",
     "output_type": "error",
     "traceback": [
      "\u001b[0;31m---------------------------------------------------------------------------\u001b[0m",
      "\u001b[0;31mIndexError\u001b[0m                                Traceback (most recent call last)",
      "\u001b[0;32m<ipython-input-362-7052da9387a6>\u001b[0m in \u001b[0;36m<module>\u001b[0;34m()\u001b[0m\n\u001b[1;32m      4\u001b[0m \u001b[0mget_ipython\u001b[0m\u001b[0;34m(\u001b[0m\u001b[0;34m)\u001b[0m\u001b[0;34m.\u001b[0m\u001b[0mrun_line_magic\u001b[0m\u001b[0;34m(\u001b[0m\u001b[0;34m'time'\u001b[0m\u001b[0;34m,\u001b[0m \u001b[0;34m'logit_pipe.fit(X_train, Y_train)'\u001b[0m\u001b[0;34m)\u001b[0m\u001b[0;34m\u001b[0m\u001b[0m\n\u001b[1;32m      5\u001b[0m \u001b[0;34m\u001b[0m\u001b[0m\n\u001b[0;32m----> 6\u001b[0;31m \u001b[0mroc_scorer_fun\u001b[0m\u001b[0;34m(\u001b[0m\u001b[0mY_holdout\u001b[0m\u001b[0;34m,\u001b[0m \u001b[0mlogit_pipe\u001b[0m\u001b[0;34m.\u001b[0m\u001b[0mpredict\u001b[0m\u001b[0;34m(\u001b[0m\u001b[0mX_holdout\u001b[0m\u001b[0;34m)\u001b[0m\u001b[0;34m)\u001b[0m\u001b[0;34m\u001b[0m\u001b[0m\n\u001b[0m",
      "\u001b[0;32m<ipython-input-273-37baf5115803>\u001b[0m in \u001b[0;36mroc_scorer_fun\u001b[0;34m(ground_truth, predictions)\u001b[0m\n\u001b[1;32m      7\u001b[0m \u001b[0;34m\u001b[0m\u001b[0m\n\u001b[1;32m      8\u001b[0m \u001b[0;32mdef\u001b[0m \u001b[0mroc_scorer_fun\u001b[0m\u001b[0;34m(\u001b[0m\u001b[0mground_truth\u001b[0m\u001b[0;34m,\u001b[0m \u001b[0mpredictions\u001b[0m\u001b[0;34m)\u001b[0m\u001b[0;34m:\u001b[0m\u001b[0;34m\u001b[0m\u001b[0m\n\u001b[0;32m----> 9\u001b[0;31m     \u001b[0;32mreturn\u001b[0m \u001b[0mroc_auc_score\u001b[0m\u001b[0;34m(\u001b[0m\u001b[0mground_truth\u001b[0m\u001b[0;34m,\u001b[0m \u001b[0mpredictions\u001b[0m\u001b[0;34m[\u001b[0m\u001b[0;34m:\u001b[0m\u001b[0;34m,\u001b[0m \u001b[0;36m1\u001b[0m\u001b[0;34m]\u001b[0m\u001b[0;34m)\u001b[0m\u001b[0;34m\u001b[0m\u001b[0m\n\u001b[0m\u001b[1;32m     10\u001b[0m \u001b[0mroc_scorer\u001b[0m \u001b[0;34m=\u001b[0m \u001b[0mmake_scorer\u001b[0m\u001b[0;34m(\u001b[0m\u001b[0mroc_scorer_fun\u001b[0m\u001b[0;34m,\u001b[0m \u001b[0mneeds_proba\u001b[0m \u001b[0;34m=\u001b[0m \u001b[0;32mTrue\u001b[0m\u001b[0;34m)\u001b[0m\u001b[0;34m\u001b[0m\u001b[0m\n\u001b[1;32m     11\u001b[0m \u001b[0;34m\u001b[0m\u001b[0m\n",
      "\u001b[0;31mIndexError\u001b[0m: too many indices for array"
     ]
    }
   ],
   "source": [
    "logit_pipe.set_params(**lgs.best_params_)\n",
    "logit_pipe.set_params(logisticregression__C = 1)\n",
    "\n",
    "%time logit_pipe.fit(X_train, Y_train)\n",
    "\n",
    "roc_scorer_fun(Y_holdout, logit_pipe.predict_proba(X_holdout))"
   ]
  },
  {
   "cell_type": "code",
   "execution_count": 378,
   "metadata": {},
   "outputs": [
    {
     "data": {
      "text/plain": [
       "0.7831446037183488"
      ]
     },
     "execution_count": 378,
     "metadata": {},
     "output_type": "execute_result"
    },
    {
     "data": {
      "text/plain": [
       "0.7567076318379335"
      ]
     },
     "execution_count": 378,
     "metadata": {},
     "output_type": "execute_result"
    }
   ],
   "source": [
    "roc_scorer_fun(Y_train, logit_pipe.predict_proba(X_train))\n",
    "roc_scorer_fun(Y_holdout, logit_pipe.predict_proba(X_holdout))"
   ]
  },
  {
   "cell_type": "code",
   "execution_count": 458,
   "metadata": {},
   "outputs": [
    {
     "data": {
      "text/plain": [
       "<matplotlib.axes._subplots.AxesSubplot at 0x18c55c908>"
      ]
     },
     "execution_count": 458,
     "metadata": {},
     "output_type": "execute_result"
    },
    {
     "data": {
      "image/png": "[encoded data removed]",
      "text/plain": [
       "<Figure size 432x288 with 1 Axes>"
      ]
     },
     "metadata": {},
     "output_type": "display_data"
    }
   ],
   "source": [
    "sns.distplot(logit_pipe.predict_proba(X_train)[:,1])"
   ]
  },
  {
   "cell_type": "code",
   "execution_count": 552,
   "metadata": {},
   "outputs": [],
   "source": [
    "models.append('Logistic Regression')\n",
    "AUC_training.append(roc_scorer_fun(Y_train, logit_pipe.predict_proba(X_train)))\n",
    "AUC_holdout.append(roc_scorer_fun(Y_holdout, logit_pipe.predict_proba(X_holdout)))"
   ]
  },
  {
   "cell_type": "markdown",
   "metadata": {},
   "source": [
    "# Naive Bayes"
   ]
  },
  {
   "cell_type": "markdown",
   "metadata": {},
   "source": [
    "## Try doing Gaussian NB on the full dataset.... nope :("
   ]
  },
  {
   "cell_type": "code",
   "execution_count": 278,
   "metadata": {},
   "outputs": [],
   "source": [
    "from sklearn.naive_bayes import GaussianNB"
   ]
  },
  {
   "cell_type": "code",
   "execution_count": 279,
   "metadata": {},
   "outputs": [
    {
     "data": {
      "text/plain": [
       "GaussianNB(priors=None)"
      ]
     },
     "execution_count": 279,
     "metadata": {},
     "output_type": "execute_result"
    }
   ],
   "source": [
    "gnb = GaussianNB()\n",
    "gnb.fit(X_train, Y_train)"
   ]
  },
  {
   "cell_type": "code",
   "execution_count": 282,
   "metadata": {},
   "outputs": [
    {
     "data": {
      "text/plain": [
       "0.7251924930334048"
      ]
     },
     "execution_count": 282,
     "metadata": {},
     "output_type": "execute_result"
    },
    {
     "data": {
      "text/plain": [
       "0.5281360374139772"
      ]
     },
     "execution_count": 282,
     "metadata": {},
     "output_type": "execute_result"
    }
   ],
   "source": [
    "roc_scorer_fun(Y_train, gnb.predict_proba(X_train))\n",
    "roc_scorer_fun(Y_holdout, gnb.predict_proba(X_holdout))"
   ]
  },
  {
   "cell_type": "markdown",
   "metadata": {},
   "source": [
    "## Bernoulli NB on the Bernoulli variables... pretty good!"
   ]
  },
  {
   "cell_type": "code",
   "execution_count": 289,
   "metadata": {},
   "outputs": [
    {
     "name": "stdout",
     "output_type": "stream",
     "text": [
      "CPU times: user 22.6 s, sys: 2.09 s, total: 24.7 s\n",
      "Wall time: 25.7 s\n"
     ]
    }
   ],
   "source": [
    "%time bernoulli_vars = X_train.apply(lambda x: x.min() == 0 and x.max() == 1, axis=0)"
   ]
  },
  {
   "cell_type": "code",
   "execution_count": 292,
   "metadata": {},
   "outputs": [],
   "source": [
    "from sklearn.naive_bayes import BernoulliNB"
   ]
  },
  {
   "cell_type": "code",
   "execution_count": 294,
   "metadata": {},
   "outputs": [
    {
     "data": {
      "text/plain": [
       "BernoulliNB(alpha=1.0, binarize=0.0, class_prior=None, fit_prior=True)"
      ]
     },
     "execution_count": 294,
     "metadata": {},
     "output_type": "execute_result"
    }
   ],
   "source": [
    "bnb = BernoulliNB()\n",
    "bnb.fit(X_train.loc[:, bernoulli_vars], Y_train)"
   ]
  },
  {
   "cell_type": "code",
   "execution_count": 298,
   "metadata": {},
   "outputs": [
    {
     "data": {
      "text/plain": [
       "0.7080947960471119"
      ]
     },
     "execution_count": 298,
     "metadata": {},
     "output_type": "execute_result"
    },
    {
     "data": {
      "text/plain": [
       "0.6972912059564303"
      ]
     },
     "execution_count": 298,
     "metadata": {},
     "output_type": "execute_result"
    }
   ],
   "source": [
    "roc_scorer_fun(Y_train, bnb.predict_proba(X_train.loc[:, bernoulli_vars]))\n",
    "roc_scorer_fun(Y_holdout, bnb.predict_proba(X_holdout.loc[:, bernoulli_vars]))"
   ]
  },
  {
   "cell_type": "code",
   "execution_count": null,
   "metadata": {},
   "outputs": [],
   "source": [
    "models"
   ]
  },
  {
   "cell_type": "markdown",
   "metadata": {},
   "source": [
    "## Try Gaussian NB on just the continuous variables... a little bit better!"
   ]
  },
  {
   "cell_type": "code",
   "execution_count": 322,
   "metadata": {},
   "outputs": [
    {
     "data": {
      "text/plain": [
       "GaussianNB(priors=None)"
      ]
     },
     "execution_count": 322,
     "metadata": {},
     "output_type": "execute_result"
    }
   ],
   "source": [
    "gnb.fit(X_train.loc[:, ~bernoulli_vars], Y_train)"
   ]
  },
  {
   "cell_type": "code",
   "execution_count": 323,
   "metadata": {},
   "outputs": [
    {
     "data": {
      "text/plain": [
       "0.7324203579193624"
      ]
     },
     "execution_count": 323,
     "metadata": {},
     "output_type": "execute_result"
    },
    {
     "data": {
      "text/plain": [
       "0.703974967872206"
      ]
     },
     "execution_count": 323,
     "metadata": {},
     "output_type": "execute_result"
    }
   ],
   "source": [
    "roc_scorer_fun(Y_train, gnb.predict_proba(X_train.loc[:, ~bernoulli_vars]))\n",
    "roc_scorer_fun(Y_holdout, gnb.predict_proba(X_holdout.loc[:, ~bernoulli_vars]))"
   ]
  },
  {
   "cell_type": "code",
   "execution_count": 555,
   "metadata": {},
   "outputs": [],
   "source": [
    "models.append('Gaussian Naive Bayes')\n",
    "AUC_training.append(roc_scorer_fun(Y_train, gnb.predict_proba(X_train.loc[:, ~bernoulli_vars])))\n",
    "AUC_holdout.append(roc_scorer_fun(Y_holdout, gnb.predict_proba(X_holdout.loc[:, ~bernoulli_vars])))"
   ]
  },
  {
   "cell_type": "code",
   "execution_count": 472,
   "metadata": {},
   "outputs": [
    {
     "data": {
      "text/plain": [
       "<matplotlib.axes._subplots.AxesSubplot at 0x1941b2358>"
      ]
     },
     "execution_count": 472,
     "metadata": {},
     "output_type": "execute_result"
    },
    {
     "data": {
      "image/png": "[encoded data removed]",
      "text/plain": [
       "<Figure size 432x288 with 1 Axes>"
      ]
     },
     "metadata": {},
     "output_type": "display_data"
    }
   ],
   "source": [
    "sns.distplot(gnb.predict_proba(X_train.loc[:, ~bernoulli_vars])[:,1])"
   ]
  },
  {
   "cell_type": "code",
   "execution_count": 469,
   "metadata": {},
   "outputs": [
    {
     "data": {
      "text/html": [
       "<div>\n",
       "<style scoped>\n",
       "    .dataframe tbody tr th:only-of-type {\n",
       "        vertical-align: middle;\n",
       "    }\n",
       "\n",
       "    .dataframe tbody tr th {\n",
       "        vertical-align: top;\n",
       "    }\n",
       "\n",
       "    .dataframe thead th {\n",
       "        text-align: right;\n",
       "    }\n",
       "</style>\n",
       "<table border=\"1\" class=\"dataframe\">\n",
       "  <thead>\n",
       "    <tr style=\"text-align: right;\">\n",
       "      <th></th>\n",
       "      <th>proba</th>\n",
       "      <th>truth</th>\n",
       "    </tr>\n",
       "  </thead>\n",
       "  <tbody>\n",
       "    <tr>\n",
       "      <th>0</th>\n",
       "      <td>(0.8, 0.9]</td>\n",
       "      <td>0</td>\n",
       "    </tr>\n",
       "    <tr>\n",
       "      <th>1</th>\n",
       "      <td>(0.8, 0.9]</td>\n",
       "      <td>0</td>\n",
       "    </tr>\n",
       "    <tr>\n",
       "      <th>2</th>\n",
       "      <td>(0.8, 0.9]</td>\n",
       "      <td>0</td>\n",
       "    </tr>\n",
       "    <tr>\n",
       "      <th>3</th>\n",
       "      <td>(0.8, 0.9]</td>\n",
       "      <td>0</td>\n",
       "    </tr>\n",
       "    <tr>\n",
       "      <th>4</th>\n",
       "      <td>(0.8, 0.9]</td>\n",
       "      <td>0</td>\n",
       "    </tr>\n",
       "  </tbody>\n",
       "</table>\n",
       "</div>"
      ],
      "text/plain": [
       "        proba  truth\n",
       "0  (0.8, 0.9]      0\n",
       "1  (0.8, 0.9]      0\n",
       "2  (0.8, 0.9]      0\n",
       "3  (0.8, 0.9]      0\n",
       "4  (0.8, 0.9]      0"
      ]
     },
     "execution_count": 469,
     "metadata": {},
     "output_type": "execute_result"
    }
   ],
   "source": [
    "ev = pd.DataFrame({'proba': pd.cut(gnb.predict_proba(X_train.loc[:, ~bernoulli_vars])[:,1], bins=10),\n",
    "                   'truth': Y_train})\n",
    "ev.head()"
   ]
  },
  {
   "cell_type": "code",
   "execution_count": 471,
   "metadata": {},
   "outputs": [
    {
     "data": {
      "text/plain": [
       "<matplotlib.axes._subplots.AxesSubplot at 0x18ded5208>"
      ]
     },
     "execution_count": 471,
     "metadata": {},
     "output_type": "execute_result"
    },
    {
     "data": {
      "image/png": "[encoded data removed]",
      "text/plain": [
       "<Figure size 432x288 with 1 Axes>"
      ]
     },
     "metadata": {},
     "output_type": "display_data"
    }
   ],
   "source": [
    "ev.groupby('proba').truth.mean().plot.bar()"
   ]
  },
  {
   "cell_type": "markdown",
   "metadata": {},
   "source": [
    "## Ensemble... even better!"
   ]
  },
  {
   "cell_type": "code",
   "execution_count": 329,
   "metadata": {},
   "outputs": [],
   "source": [
    "train_predicts_gnb = gnb.predict_proba(X_train.loc[:, ~bernoulli_vars])[:, 0]\n",
    "holdout_predicts_gnb = gnb.predict_proba(X_holdout.loc[:, ~bernoulli_vars])[:, 0]\n",
    "\n",
    "train_predicts_bnb = bnb.predict_proba(X_train.loc[:, bernoulli_vars])[:, 1]\n",
    "holdout_predicts_bnb = bnb.predict_proba(X_holdout.loc[:, bernoulli_vars])[:, 1]"
   ]
  },
  {
   "cell_type": "code",
   "execution_count": 332,
   "metadata": {},
   "outputs": [],
   "source": [
    "train_predicts = np.column_stack([train_predicts_bnb, train_predicts_gnb])\n",
    "holdout_predicts = np.column_stack([holdout_predicts_bnb, holdout_predicts_gnb])"
   ]
  },
  {
   "cell_type": "code",
   "execution_count": 324,
   "metadata": {},
   "outputs": [],
   "source": [
    "ensemble_logit = LogisticRegression()"
   ]
  },
  {
   "cell_type": "code",
   "execution_count": 333,
   "metadata": {},
   "outputs": [
    {
     "data": {
      "text/plain": [
       "LogisticRegression(C=1.0, class_weight=None, dual=False, fit_intercept=True,\n",
       "          intercept_scaling=1, max_iter=100, multi_class='ovr', n_jobs=1,\n",
       "          penalty='l2', random_state=None, solver='liblinear', tol=0.0001,\n",
       "          verbose=0, warm_start=False)"
      ]
     },
     "execution_count": 333,
     "metadata": {},
     "output_type": "execute_result"
    }
   ],
   "source": [
    "ensemble_logit.fit(train_predicts, Y_train)"
   ]
  },
  {
   "cell_type": "code",
   "execution_count": 379,
   "metadata": {},
   "outputs": [
    {
     "data": {
      "text/plain": [
       "0.7538564864905166"
      ]
     },
     "execution_count": 379,
     "metadata": {},
     "output_type": "execute_result"
    },
    {
     "data": {
      "text/plain": [
       "0.7276070219006411"
      ]
     },
     "execution_count": 379,
     "metadata": {},
     "output_type": "execute_result"
    }
   ],
   "source": [
    "roc_scorer_fun(Y_train, ensemble_logit.predict_proba(train_predicts))\n",
    "roc_scorer_fun(Y_holdout, ensemble_logit.predict_proba(holdout_predicts))"
   ]
  },
  {
   "cell_type": "markdown",
   "metadata": {},
   "source": [
    "# Add more bernoulli variables"
   ]
  },
  {
   "cell_type": "code",
   "execution_count": 389,
   "metadata": {},
   "outputs": [
    {
     "name": "stdout",
     "output_type": "stream",
     "text": [
      "Already have data... don't need to query again\n",
      "Simplifying venues\n",
      "Venues simplified\n",
      "Simplifying events\n",
      "Events simplified\n",
      "Simplifying zones\n",
      "Zones simplified\n",
      "Dummying performers\n",
      "Performers dummied\n",
      "Concatanating dummied performers\n",
      "Performers concatanated\n",
      "Starting final cleanup\n",
      "Done\n"
     ]
    }
   ],
   "source": [
    "X_train_nb, X_holdout_nb, _, _ = data_fetcher.get_data()"
   ]
  },
  {
   "cell_type": "code",
   "execution_count": 868,
   "metadata": {},
   "outputs": [],
   "source": [
    "X_train_nb.to_csv('X_train_nb.csv')\n",
    "X_holdout_nb.to_csv('X_holdout_nb.csv')\n",
    "Y_train.to_csv('Y_train.csv')\n",
    "Y_holdout.to_csv('Y_holdout.csv')"
   ]
  },
  {
   "cell_type": "code",
   "execution_count": 390,
   "metadata": {},
   "outputs": [
    {
     "data": {
      "text/plain": [
       "(853755, 512)"
      ]
     },
     "execution_count": 390,
     "metadata": {},
     "output_type": "execute_result"
    }
   ],
   "source": [
    "X_train_nb.shape"
   ]
  },
  {
   "cell_type": "code",
   "execution_count": 773,
   "metadata": {},
   "outputs": [
    {
     "name": "stdout",
     "output_type": "stream",
     "text": [
      "CPU times: user 1min 2s, sys: 3.2 s, total: 1min 6s\n",
      "Wall time: 1min 8s\n"
     ]
    }
   ],
   "source": [
    "%time bernoulli_vars = X_train_nb.apply(lambda x: x.min() == 0 and x.max() == 1, axis=0)"
   ]
  },
  {
   "cell_type": "code",
   "execution_count": 772,
   "metadata": {},
   "outputs": [
    {
     "data": {
      "text/plain": [
       "(512, 512, 180)"
      ]
     },
     "execution_count": 772,
     "metadata": {},
     "output_type": "execute_result"
    }
   ],
   "source": [
    "len(bernoulli_vars), len(X_train_nb.columns), len(X_train.columns)"
   ]
  },
  {
   "cell_type": "code",
   "execution_count": 392,
   "metadata": {},
   "outputs": [
    {
     "data": {
      "text/plain": [
       "BernoulliNB(alpha=1.0, binarize=0.0, class_prior=None, fit_prior=True)"
      ]
     },
     "execution_count": 392,
     "metadata": {},
     "output_type": "execute_result"
    }
   ],
   "source": [
    "bnb.fit(X_train_nb.loc[:, bernoulli_vars], Y_train)"
   ]
  },
  {
   "cell_type": "code",
   "execution_count": 393,
   "metadata": {
    "scrolled": true
   },
   "outputs": [
    {
     "data": {
      "text/plain": [
       "0.7506898692018278"
      ]
     },
     "execution_count": 393,
     "metadata": {},
     "output_type": "execute_result"
    },
    {
     "data": {
      "text/plain": [
       "0.7257296104817759"
      ]
     },
     "execution_count": 393,
     "metadata": {},
     "output_type": "execute_result"
    }
   ],
   "source": [
    "roc_scorer_fun(Y_train, bnb.predict_proba(X_train_nb.loc[:, bernoulli_vars]))\n",
    "roc_scorer_fun(Y_holdout, bnb.predict_proba(X_holdout_nb.loc[:, bernoulli_vars]))"
   ]
  },
  {
   "cell_type": "code",
   "execution_count": 558,
   "metadata": {},
   "outputs": [],
   "source": [
    "models.append('Bernoulli Naive Bayes')\n",
    "AUC_training.append(roc_scorer_fun(Y_train, bnb.predict_proba(X_train_nb.loc[:, bernoulli_vars])))\n",
    "AUC_holdout.append(roc_scorer_fun(Y_holdout, bnb.predict_proba(X_holdout_nb.loc[:, bernoulli_vars])))"
   ]
  },
  {
   "cell_type": "code",
   "execution_count": 461,
   "metadata": {},
   "outputs": [
    {
     "data": {
      "text/plain": [
       "<matplotlib.axes._subplots.AxesSubplot at 0x17219b320>"
      ]
     },
     "execution_count": 461,
     "metadata": {},
     "output_type": "execute_result"
    },
    {
     "data": {
      "image/png": "[encoded data removed]",
      "text/plain": [
       "<Figure size 432x288 with 1 Axes>"
      ]
     },
     "metadata": {},
     "output_type": "display_data"
    }
   ],
   "source": [
    "sns.distplot(bnb.predict_proba(X_train_nb.loc[:, bernoulli_vars])[:,1])"
   ]
  },
  {
   "cell_type": "markdown",
   "metadata": {},
   "source": [
    "## Ensemble again... even better!"
   ]
  },
  {
   "cell_type": "code",
   "execution_count": 394,
   "metadata": {},
   "outputs": [],
   "source": [
    "train_predicts_bnb = bnb.predict_proba(X_train_nb.loc[:, bernoulli_vars])[:, 1]\n",
    "holdout_predicts_bnb = bnb.predict_proba(X_holdout_nb.loc[:, bernoulli_vars])[:, 1]"
   ]
  },
  {
   "cell_type": "code",
   "execution_count": 395,
   "metadata": {},
   "outputs": [],
   "source": [
    "train_predicts = np.column_stack([train_predicts_bnb, train_predicts_gnb])\n",
    "holdout_predicts = np.column_stack([holdout_predicts_bnb, holdout_predicts_gnb])"
   ]
  },
  {
   "cell_type": "code",
   "execution_count": 406,
   "metadata": {},
   "outputs": [],
   "source": [
    "ensemble_logit = LogisticRegression()"
   ]
  },
  {
   "cell_type": "code",
   "execution_count": 407,
   "metadata": {},
   "outputs": [
    {
     "data": {
      "text/plain": [
       "LogisticRegression(C=1.0, class_weight=None, dual=False, fit_intercept=True,\n",
       "          intercept_scaling=1, max_iter=100, multi_class='ovr', n_jobs=1,\n",
       "          penalty='l2', random_state=None, solver='liblinear', tol=0.0001,\n",
       "          verbose=0, warm_start=False)"
      ]
     },
     "execution_count": 407,
     "metadata": {},
     "output_type": "execute_result"
    }
   ],
   "source": [
    "ensemble_logit.fit(train_predicts, Y_train)"
   ]
  },
  {
   "cell_type": "code",
   "execution_count": 408,
   "metadata": {},
   "outputs": [
    {
     "data": {
      "text/plain": [
       "0.7666962021330621"
      ]
     },
     "execution_count": 408,
     "metadata": {},
     "output_type": "execute_result"
    },
    {
     "data": {
      "text/plain": [
       "0.7339791023323073"
      ]
     },
     "execution_count": 408,
     "metadata": {},
     "output_type": "execute_result"
    }
   ],
   "source": [
    "roc_scorer_fun(Y_train, ensemble_logit.predict_proba(train_predicts))\n",
    "roc_scorer_fun(Y_holdout, ensemble_logit.predict_proba(holdout_predicts))"
   ]
  },
  {
   "cell_type": "code",
   "execution_count": 559,
   "metadata": {},
   "outputs": [],
   "source": [
    "models.append('Ensembled Naive Bayes')\n",
    "AUC_training.append(roc_scorer_fun(Y_train, ensemble_logit.predict_proba(train_predicts)))\n",
    "AUC_holdout.append(roc_scorer_fun(Y_holdout, ensemble_logit.predict_proba(holdout_predicts)))"
   ]
  },
  {
   "cell_type": "code",
   "execution_count": 622,
   "metadata": {},
   "outputs": [
    {
     "data": {
      "text/plain": [
       "True     497\n",
       "False     15\n",
       "dtype: int64"
      ]
     },
     "execution_count": 622,
     "metadata": {},
     "output_type": "execute_result"
    }
   ],
   "source": [
    "bernoulli_vars.value_counts()"
   ]
  },
  {
   "cell_type": "code",
   "execution_count": 459,
   "metadata": {},
   "outputs": [
    {
     "data": {
      "text/plain": [
       "<matplotlib.axes._subplots.AxesSubplot at 0x1703db278>"
      ]
     },
     "execution_count": 459,
     "metadata": {},
     "output_type": "execute_result"
    },
    {
     "data": {
      "image/png": "[encoded data removed]",
      "text/plain": [
       "<Figure size 432x288 with 1 Axes>"
      ]
     },
     "metadata": {},
     "output_type": "display_data"
    }
   ],
   "source": [
    "sns.distplot(ensemble_logit.predict_proba(train_predicts)[:, 1])"
   ]
  },
  {
   "cell_type": "code",
   "execution_count": 460,
   "metadata": {},
   "outputs": [
    {
     "data": {
      "text/plain": [
       "<matplotlib.axes._subplots.AxesSubplot at 0x18cdbe2e8>"
      ]
     },
     "execution_count": 460,
     "metadata": {},
     "output_type": "execute_result"
    },
    {
     "data": {
      "image/png": "[encoded data removed]",
      "text/plain": [
       "<Figure size 432x288 with 1 Axes>"
      ]
     },
     "metadata": {},
     "output_type": "display_data"
    }
   ],
   "source": [
    "sns.distplot(ensemble_logit.predict_proba(holdout_predicts)[:, 1])"
   ]
  },
  {
   "cell_type": "code",
   "execution_count": 475,
   "metadata": {},
   "outputs": [
    {
     "data": {
      "text/plain": [
       "array([[213885, 102307],\n",
       "       [  8857,  19419]])"
      ]
     },
     "execution_count": 475,
     "metadata": {},
     "output_type": "execute_result"
    }
   ],
   "source": [
    "confusion_matrix(Y_holdout, ensemble_logit.predict_proba(holdout_predicts)[:,1]>Y_train.mean())"
   ]
  },
  {
   "cell_type": "code",
   "execution_count": 478,
   "metadata": {},
   "outputs": [
    {
     "data": {
      "text/plain": [
       "121726"
      ]
     },
     "execution_count": 478,
     "metadata": {},
     "output_type": "execute_result"
    }
   ],
   "source": [
    "(ensemble_logit.predict_proba(holdout_predicts)[:,1]>Y_train.mean()).sum()"
   ]
  },
  {
   "cell_type": "code",
   "execution_count": 480,
   "metadata": {},
   "outputs": [
    {
     "data": {
      "text/plain": [
       "array([[ 0., 10.],\n",
       "       [ 1.,  0.]])"
      ]
     },
     "execution_count": 480,
     "metadata": {},
     "output_type": "execute_result"
    }
   ],
   "source": [
    "L = np.zeros([2,2])\n",
    "L[0, 1] = 10 #False negative penalty\n",
    "L[1, 0] = 1 #False positive penalty\n",
    "L"
   ]
  },
  {
   "cell_type": "code",
   "execution_count": 482,
   "metadata": {},
   "outputs": [
    {
     "data": {
      "text/plain": [
       "1031927.0"
      ]
     },
     "execution_count": 482,
     "metadata": {},
     "output_type": "execute_result"
    }
   ],
   "source": [
    "np.sum(L*confusion_matrix(Y_holdout, ensemble_logit.predict_proba(holdout_predicts)[:,1]>Y_train.mean()))"
   ]
  },
  {
   "cell_type": "code",
   "execution_count": 495,
   "metadata": {},
   "outputs": [
    {
     "name": "stdout",
     "output_type": "stream",
     "text": [
      "0.0 :  316192.0\n",
      "0.05 :  240236.0\n",
      "0.1 :  183130.0\n",
      "0.15000000000000002 :  203234.0\n",
      "0.2 :  212056.0\n",
      "0.25 :  227192.0\n",
      "0.30000000000000004 :  241603.0\n",
      "0.35000000000000003 :  249029.0\n",
      "0.4 :  274477.0\n",
      "0.45 :  282151.0\n",
      "0.5 :  282760.0\n",
      "0.55 :  282760.0\n",
      "0.6000000000000001 :  282760.0\n",
      "0.65 :  282760.0\n",
      "0.7000000000000001 :  282760.0\n",
      "0.75 :  282760.0\n",
      "0.8 :  282760.0\n",
      "0.8500000000000001 :  282760.0\n",
      "0.9 :  282760.0\n",
      "0.9500000000000001 :  282760.0\n",
      "1.0 :  282760.0\n"
     ]
    }
   ],
   "source": [
    "def Loss_Function(ground_truth, predictions, cutoff):\n",
    "    # Set up loss matrix\n",
    "    L = np.zeros([2,2])\n",
    "    L[0, 1] = 1 #False positive penalty\n",
    "    L[1, 0] = 10 #False negative penalty\n",
    "    \n",
    "    return np.sum(L*confusion_matrix(ground_truth, predictions[:,1]>cutoff))\n",
    "\n",
    "for cutoff in np.linspace(0,1,21):\n",
    "    print(cutoff, ': ', Loss_Function(Y_holdout, ensemble_logit.predict_proba(holdout_predicts), cutoff))\n",
    "    \n",
    "    \n",
    "# Loss_Function(Y_holdout, ensemble_logit.predict_proba(holdout_predicts), 0.5)\n",
    "# Loss_Function(Y_holdout, ensemble_logit.predict_proba(holdout_predicts), 0.1)"
   ]
  },
  {
   "cell_type": "code",
   "execution_count": 496,
   "metadata": {},
   "outputs": [
    {
     "data": {
      "text/plain": [
       "array([[241342,  74850],\n",
       "       [ 10828,  17448]])"
      ]
     },
     "execution_count": 496,
     "metadata": {},
     "output_type": "execute_result"
    }
   ],
   "source": [
    "confusion_matrix(Y_holdout, ensemble_logit.predict_proba(holdout_predicts)[:,1]>0.1)"
   ]
  },
  {
   "cell_type": "markdown",
   "metadata": {},
   "source": [
    "# Random forest"
   ]
  },
  {
   "cell_type": "code",
   "execution_count": 209,
   "metadata": {},
   "outputs": [],
   "source": [
    "from sklearn.ensemble import RandomForestClassifier"
   ]
  },
  {
   "cell_type": "code",
   "execution_count": 366,
   "metadata": {},
   "outputs": [
    {
     "name": "stdout",
     "output_type": "stream",
     "text": [
      "CPU times: user 1min 52s, sys: 9.91 s, total: 2min 1s\n",
      "Wall time: 1min 13s\n"
     ]
    },
    {
     "data": {
      "text/plain": [
       "array([0.94219655, 0.94014853, 0.9400381 , 0.94368689, 0.9397612 ])"
      ]
     },
     "execution_count": 366,
     "metadata": {},
     "output_type": "execute_result"
    }
   ],
   "source": [
    "%time cross_val_score(RandomForestClassifier(n_jobs=3), X_train, Y_train, scoring = roc_scorer, cv = folds)"
   ]
  },
  {
   "cell_type": "code",
   "execution_count": 368,
   "metadata": {},
   "outputs": [
    {
     "name": "stdout",
     "output_type": "stream",
     "text": [
      "CPU times: user 24 s, sys: 1.85 s, total: 25.9 s\n",
      "Wall time: 15 s\n"
     ]
    },
    {
     "data": {
      "text/plain": [
       "RandomForestClassifier(bootstrap=True, class_weight=None, criterion='gini',\n",
       "            max_depth=None, max_features='auto', max_leaf_nodes=None,\n",
       "            min_impurity_decrease=0.0, min_impurity_split=None,\n",
       "            min_samples_leaf=1, min_samples_split=2,\n",
       "            min_weight_fraction_leaf=0.0, n_estimators=10, n_jobs=3,\n",
       "            oob_score=False, random_state=None, verbose=0,\n",
       "            warm_start=False)"
      ]
     },
     "execution_count": 368,
     "metadata": {},
     "output_type": "execute_result"
    },
    {
     "data": {
      "text/plain": [
       "0.9995730135906175"
      ]
     },
     "execution_count": 368,
     "metadata": {},
     "output_type": "execute_result"
    },
    {
     "data": {
      "text/plain": [
       "0.8140742471055046"
      ]
     },
     "execution_count": 368,
     "metadata": {},
     "output_type": "execute_result"
    }
   ],
   "source": [
    "rf = RandomForestClassifier(n_jobs=3)\n",
    "%time rf.fit(X_train, Y_train)\n",
    "roc_scorer_fun(Y_train, rf.predict_proba(X_train))\n",
    "roc_scorer_fun(Y_holdout, rf.predict_proba(X_holdout))"
   ]
  },
  {
   "cell_type": "code",
   "execution_count": 369,
   "metadata": {},
   "outputs": [
    {
     "data": {
      "text/plain": [
       "RandomForestClassifier(bootstrap=True, class_weight=None, criterion='gini',\n",
       "            max_depth=2, max_features=25, max_leaf_nodes=None,\n",
       "            min_impurity_decrease=0.0, min_impurity_split=None,\n",
       "            min_samples_leaf=1, min_samples_split=2,\n",
       "            min_weight_fraction_leaf=0.0, n_estimators=100, n_jobs=3,\n",
       "            oob_score=False, random_state=None, verbose=0,\n",
       "            warm_start=False)"
      ]
     },
     "execution_count": 369,
     "metadata": {},
     "output_type": "execute_result"
    },
    {
     "name": "stdout",
     "output_type": "stream",
     "text": [
      "CPU times: user 46.6 s, sys: 8.37 s, total: 54.9 s\n",
      "Wall time: 20.9 s\n"
     ]
    },
    {
     "data": {
      "text/plain": [
       "RandomForestClassifier(bootstrap=True, class_weight=None, criterion='gini',\n",
       "            max_depth=2, max_features=25, max_leaf_nodes=None,\n",
       "            min_impurity_decrease=0.0, min_impurity_split=None,\n",
       "            min_samples_leaf=1, min_samples_split=2,\n",
       "            min_weight_fraction_leaf=0.0, n_estimators=100, n_jobs=3,\n",
       "            oob_score=False, random_state=None, verbose=0,\n",
       "            warm_start=False)"
      ]
     },
     "execution_count": 369,
     "metadata": {},
     "output_type": "execute_result"
    },
    {
     "data": {
      "text/plain": [
       "0.7793680506734022"
      ]
     },
     "execution_count": 369,
     "metadata": {},
     "output_type": "execute_result"
    },
    {
     "data": {
      "text/plain": [
       "0.7495122294863623"
      ]
     },
     "execution_count": 369,
     "metadata": {},
     "output_type": "execute_result"
    }
   ],
   "source": [
    "rf.set_params(n_estimators = 100, max_features = 25, max_depth = 2)\n",
    "%time rf.fit(X_train, Y_train)\n",
    "roc_scorer_fun(Y_train, rf.predict_proba(X_train))\n",
    "roc_scorer_fun(Y_holdout, rf.predict_proba(X_holdout))"
   ]
  },
  {
   "cell_type": "code",
   "execution_count": 570,
   "metadata": {},
   "outputs": [
    {
     "data": {
      "text/plain": [
       "RandomForestClassifier(bootstrap=True, class_weight=None, criterion='gini',\n",
       "            max_depth=5, max_features=25, max_leaf_nodes=None,\n",
       "            min_impurity_decrease=0.0, min_impurity_split=None,\n",
       "            min_samples_leaf=1, min_samples_split=150,\n",
       "            min_weight_fraction_leaf=0.0, n_estimators=100, n_jobs=3,\n",
       "            oob_score=False, random_state=None, verbose=0,\n",
       "            warm_start=False)"
      ]
     },
     "execution_count": 570,
     "metadata": {},
     "output_type": "execute_result"
    },
    {
     "name": "stdout",
     "output_type": "stream",
     "text": [
      "CPU times: user 1min 29s, sys: 6.96 s, total: 1min 36s\n",
      "Wall time: 38.8 s\n"
     ]
    },
    {
     "data": {
      "text/plain": [
       "RandomForestClassifier(bootstrap=True, class_weight=None, criterion='gini',\n",
       "            max_depth=5, max_features=25, max_leaf_nodes=None,\n",
       "            min_impurity_decrease=0.0, min_impurity_split=None,\n",
       "            min_samples_leaf=1, min_samples_split=150,\n",
       "            min_weight_fraction_leaf=0.0, n_estimators=100, n_jobs=3,\n",
       "            oob_score=False, random_state=None, verbose=0,\n",
       "            warm_start=False)"
      ]
     },
     "execution_count": 570,
     "metadata": {},
     "output_type": "execute_result"
    },
    {
     "data": {
      "text/plain": [
       "0.8188954185370885"
      ]
     },
     "execution_count": 570,
     "metadata": {},
     "output_type": "execute_result"
    },
    {
     "data": {
      "text/plain": [
       "0.7884152713039521"
      ]
     },
     "execution_count": 570,
     "metadata": {},
     "output_type": "execute_result"
    }
   ],
   "source": [
    "rf.set_params(n_estimators = 100, max_features = 25, max_depth = 5)\n",
    "%time rf.fit(X_train, Y_train)\n",
    "roc_auc_score(Y_train, rf.predict_proba(X_train)[:, 1])\n",
    "roc_auc_score(Y_holdout, rf.predict_proba(X_holdout)[:, 1])"
   ]
  },
  {
   "cell_type": "code",
   "execution_count": 571,
   "metadata": {},
   "outputs": [],
   "source": [
    "models.append('Random Forest')\n",
    "AUC_training.append(roc_auc_score(Y_train, rf.predict_proba(X_train)[:, 1]))\n",
    "AUC_holdout.append(roc_auc_score(Y_holdout, rf.predict_proba(X_holdout)[:, 1]))"
   ]
  },
  {
   "cell_type": "code",
   "execution_count": 372,
   "metadata": {},
   "outputs": [
    {
     "data": {
      "text/plain": [
       "RandomForestClassifier(bootstrap=True, class_weight=None, criterion='gini',\n",
       "            max_depth=None, max_features=5, max_leaf_nodes=None,\n",
       "            min_impurity_decrease=0.0, min_impurity_split=None,\n",
       "            min_samples_leaf=1, min_samples_split=2,\n",
       "            min_weight_fraction_leaf=0.0, n_estimators=100, n_jobs=3,\n",
       "            oob_score=False, random_state=None, verbose=0,\n",
       "            warm_start=False)"
      ]
     },
     "execution_count": 372,
     "metadata": {},
     "output_type": "execute_result"
    },
    {
     "name": "stdout",
     "output_type": "stream",
     "text": [
      "CPU times: user 2min 26s, sys: 7.43 s, total: 2min 34s\n",
      "Wall time: 58.8 s\n"
     ]
    },
    {
     "data": {
      "text/plain": [
       "RandomForestClassifier(bootstrap=True, class_weight=None, criterion='gini',\n",
       "            max_depth=None, max_features=5, max_leaf_nodes=None,\n",
       "            min_impurity_decrease=0.0, min_impurity_split=None,\n",
       "            min_samples_leaf=1, min_samples_split=2,\n",
       "            min_weight_fraction_leaf=0.0, n_estimators=100, n_jobs=3,\n",
       "            oob_score=False, random_state=None, verbose=0,\n",
       "            warm_start=False)"
      ]
     },
     "execution_count": 372,
     "metadata": {},
     "output_type": "execute_result"
    },
    {
     "data": {
      "text/plain": [
       "0.9998325612603959"
      ]
     },
     "execution_count": 372,
     "metadata": {},
     "output_type": "execute_result"
    },
    {
     "data": {
      "text/plain": [
       "0.8575280190478677"
      ]
     },
     "execution_count": 372,
     "metadata": {},
     "output_type": "execute_result"
    }
   ],
   "source": [
    "rf.set_params(max_features = 5, max_depth=None)\n",
    "%time rf.fit(X_train, Y_train)\n",
    "roc_auc_score(Y_train, rf.predict_proba(X_train)[:, 1])\n",
    "roc_auc_score(Y_holdout, rf.predict_proba(X_holdout)[:, 1])"
   ]
  },
  {
   "cell_type": "code",
   "execution_count": 420,
   "metadata": {},
   "outputs": [
    {
     "data": {
      "text/plain": [
       "RandomForestClassifier(bootstrap=True, class_weight=None, criterion='gini',\n",
       "            max_depth=None, max_features=5, max_leaf_nodes=None,\n",
       "            min_impurity_decrease=0.0, min_impurity_split=None,\n",
       "            min_samples_leaf=1, min_samples_split=150,\n",
       "            min_weight_fraction_leaf=0.0, n_estimators=100, n_jobs=3,\n",
       "            oob_score=False, random_state=None, verbose=0,\n",
       "            warm_start=False)"
      ]
     },
     "execution_count": 420,
     "metadata": {},
     "output_type": "execute_result"
    },
    {
     "name": "stdout",
     "output_type": "stream",
     "text": [
      "CPU times: user 1min 55s, sys: 5.88 s, total: 2min\n",
      "Wall time: 46.2 s\n"
     ]
    },
    {
     "data": {
      "text/plain": [
       "RandomForestClassifier(bootstrap=True, class_weight=None, criterion='gini',\n",
       "            max_depth=None, max_features=5, max_leaf_nodes=None,\n",
       "            min_impurity_decrease=0.0, min_impurity_split=None,\n",
       "            min_samples_leaf=1, min_samples_split=150,\n",
       "            min_weight_fraction_leaf=0.0, n_estimators=100, n_jobs=3,\n",
       "            oob_score=False, random_state=None, verbose=0,\n",
       "            warm_start=False)"
      ]
     },
     "execution_count": 420,
     "metadata": {},
     "output_type": "execute_result"
    },
    {
     "data": {
      "text/plain": [
       "0.9540217233855132"
      ]
     },
     "execution_count": 420,
     "metadata": {},
     "output_type": "execute_result"
    },
    {
     "data": {
      "text/plain": [
       "0.8691369439177035"
      ]
     },
     "execution_count": 420,
     "metadata": {},
     "output_type": "execute_result"
    }
   ],
   "source": [
    "rf.set_params(min_samples_split = 150)\n",
    "%time rf.fit(X_train, Y_train)"
   ]
  },
  {
   "cell_type": "code",
   "execution_count": 374,
   "metadata": {},
   "outputs": [
    {
     "data": {
      "text/plain": [
       "0    0.942897\n",
       "1    0.057103\n",
       "dtype: float64"
      ]
     },
     "execution_count": 374,
     "metadata": {},
     "output_type": "execute_result"
    },
    {
     "data": {
      "text/plain": [
       "0    0.960557\n",
       "1    0.039443\n",
       "dtype: float64"
      ]
     },
     "execution_count": 374,
     "metadata": {},
     "output_type": "execute_result"
    }
   ],
   "source": [
    "pd.Series(rf.predict(X_train)).value_counts()/len(X_train)\n",
    "pd.Series(rf.predict(X_holdout)).value_counts()/len(X_holdout)"
   ]
  },
  {
   "cell_type": "code",
   "execution_count": 375,
   "metadata": {},
   "outputs": [
    {
     "data": {
      "text/plain": [
       "price_curr                  0.160320\n",
       "price_over_min              0.156026\n",
       "quantity                    0.140524\n",
       "days_until_show             0.088294\n",
       "totallistings               0.075947\n",
       "minprice                    0.057780\n",
       "ticket_splits_option        0.032995\n",
       "popularity                  0.025029\n",
       "zone_name_simp_Mezzanine    0.014594\n",
       "zone_name_simp_Orchestra    0.014105\n",
       "event_perf_count            0.013890\n",
       "category_Musicals           0.013591\n",
       "venue_id_simp_3961          0.012604\n",
       "full_listing                0.012540\n",
       "performer_id_100281836      0.010491\n",
       "dtype: float64"
      ]
     },
     "execution_count": 375,
     "metadata": {},
     "output_type": "execute_result"
    }
   ],
   "source": [
    "pd.Series(rf.feature_importances_, X_train.columns).sort_values(ascending=False).nlargest(15)"
   ]
  },
  {
   "cell_type": "code",
   "execution_count": 450,
   "metadata": {},
   "outputs": [
    {
     "data": {
      "text/plain": [
       "<matplotlib.axes._subplots.AxesSubplot at 0x193470ef0>"
      ]
     },
     "execution_count": 450,
     "metadata": {},
     "output_type": "execute_result"
    },
    {
     "data": {
      "image/png": "[encoded data removed]",
      "text/plain": [
       "<Figure size 432x288 with 1 Axes>"
      ]
     },
     "metadata": {},
     "output_type": "display_data"
    }
   ],
   "source": [
    "sns.distplot(rf.predict_proba(X_train)[:, 1])"
   ]
  },
  {
   "cell_type": "code",
   "execution_count": 428,
   "metadata": {},
   "outputs": [
    {
     "name": "stdout",
     "output_type": "stream",
     "text": [
      "Fitting 5 folds for each of 36 candidates, totalling 180 fits\n",
      "[CV] max_depth=10, max_features=5, min_samples_split=2, n_estimators=50 \n",
      "[CV] max_depth=10, max_features=5, min_samples_split=2, n_estimators=50 \n",
      "[CV] max_depth=10, max_features=5, min_samples_split=2, n_estimators=50 \n",
      "[CV]  max_depth=10, max_features=5, min_samples_split=2, n_estimators=50, score=0.8462155438502112, total=  29.8s\n",
      "[CV] max_depth=10, max_features=5, min_samples_split=2, n_estimators=50 \n",
      "[CV]  max_depth=10, max_features=5, min_samples_split=2, n_estimators=50, score=0.8445348833835046, total=  30.9s\n",
      "[CV] max_depth=10, max_features=5, min_samples_split=2, n_estimators=50 \n"
     ]
    },
    {
     "name": "stderr",
     "output_type": "stream",
     "text": [
      "[Parallel(n_jobs=3)]: Done   2 tasks      | elapsed:   46.5s\n"
     ]
    },
    {
     "name": "stdout",
     "output_type": "stream",
     "text": [
      "[CV]  max_depth=10, max_features=5, min_samples_split=2, n_estimators=50, score=0.8439459243329218, total=  31.3s\n",
      "[CV] max_depth=10, max_features=5, min_samples_split=2, n_estimators=100 \n",
      "[CV]  max_depth=10, max_features=5, min_samples_split=2, n_estimators=50, score=0.8494055203216975, total=  28.8s\n",
      "[CV] max_depth=10, max_features=5, min_samples_split=2, n_estimators=100 \n",
      "[CV]  max_depth=10, max_features=5, min_samples_split=2, n_estimators=50, score=0.8463557859660854, total=  29.6s\n",
      "[CV] max_depth=10, max_features=5, min_samples_split=2, n_estimators=100 \n",
      "[CV]  max_depth=10, max_features=5, min_samples_split=2, n_estimators=100, score=0.8482124509113873, total=  40.0s\n",
      "[CV] max_depth=10, max_features=5, min_samples_split=2, n_estimators=100 \n",
      "[CV]  max_depth=10, max_features=5, min_samples_split=2, n_estimators=100, score=0.8469340004550865, total=  53.0s\n",
      "[CV] max_depth=10, max_features=5, min_samples_split=2, n_estimators=100 \n"
     ]
    },
    {
     "name": "stderr",
     "output_type": "stream",
     "text": [
      "[Parallel(n_jobs=3)]: Done   7 tasks      | elapsed:  2.7min\n"
     ]
    },
    {
     "name": "stdout",
     "output_type": "stream",
     "text": [
      "[CV]  max_depth=10, max_features=5, min_samples_split=2, n_estimators=100, score=0.845287456176576, total=  53.0s\n",
      "[CV] max_depth=10, max_features=5, min_samples_split=100, n_estimators=50 \n",
      "[CV]  max_depth=10, max_features=5, min_samples_split=2, n_estimators=100, score=0.8459239889267589, total=  50.0s\n",
      "[CV] max_depth=10, max_features=5, min_samples_split=100, n_estimators=50 \n",
      "[CV]  max_depth=10, max_features=5, min_samples_split=100, n_estimators=50, score=0.8378944714408598, total=  29.8s\n",
      "[CV] max_depth=10, max_features=5, min_samples_split=100, n_estimators=50 \n",
      "[CV]  max_depth=10, max_features=5, min_samples_split=2, n_estimators=100, score=0.8476829538619903, total=  37.6s\n",
      "[CV] max_depth=10, max_features=5, min_samples_split=100, n_estimators=50 \n",
      "[CV]  max_depth=10, max_features=5, min_samples_split=100, n_estimators=50, score=0.843402913076363, total=  29.6s\n",
      "[CV] max_depth=10, max_features=5, min_samples_split=100, n_estimators=50 \n"
     ]
    },
    {
     "name": "stderr",
     "output_type": "stream",
     "text": [
      "[Parallel(n_jobs=3)]: Done  12 tasks      | elapsed:  3.6min\n"
     ]
    },
    {
     "name": "stdout",
     "output_type": "stream",
     "text": [
      "[CV]  max_depth=10, max_features=5, min_samples_split=100, n_estimators=50, score=0.8414409358956023, total=  24.6s\n",
      "[CV] max_depth=10, max_features=5, min_samples_split=100, n_estimators=100 \n",
      "[CV]  max_depth=10, max_features=5, min_samples_split=100, n_estimators=50, score=0.8392863621970206, total=  27.6s\n",
      "[CV] max_depth=10, max_features=5, min_samples_split=100, n_estimators=100 \n",
      "[CV]  max_depth=10, max_features=5, min_samples_split=100, n_estimators=50, score=0.8444719823197052, total=  27.1s\n",
      "[CV] max_depth=10, max_features=5, min_samples_split=100, n_estimators=100 \n",
      "[CV]  max_depth=10, max_features=5, min_samples_split=100, n_estimators=100, score=0.8433753015835183, total=  39.0s\n",
      "[CV] max_depth=10, max_features=5, min_samples_split=100, n_estimators=100 \n",
      "[CV]  max_depth=10, max_features=5, min_samples_split=100, n_estimators=100, score=0.8431621824824301, total=  42.1s\n",
      "[CV] max_depth=10, max_features=5, min_samples_split=100, n_estimators=100 \n",
      "[CV]  max_depth=10, max_features=5, min_samples_split=100, n_estimators=100, score=0.8411826948576091, total=  41.6s\n",
      "[CV] max_depth=10, max_features=5, min_samples_split=500, n_estimators=50 \n",
      "[CV]  max_depth=10, max_features=5, min_samples_split=100, n_estimators=100, score=0.8451448287277004, total=  41.8s\n",
      "[CV]  max_depth=10, max_features=5, min_samples_split=500, n_estimators=50, score=0.8381562717018687, total=  35.0s\n",
      "[CV] max_depth=10, max_features=5, min_samples_split=500, n_estimators=50 \n",
      "[CV] max_depth=10, max_features=5, min_samples_split=500, n_estimators=50 \n"
     ]
    },
    {
     "name": "stderr",
     "output_type": "stream",
     "text": [
      "[Parallel(n_jobs=3)]: Done  19 tasks      | elapsed:  5.9min\n"
     ]
    },
    {
     "name": "stdout",
     "output_type": "stream",
     "text": [
      "[CV]  max_depth=10, max_features=5, min_samples_split=100, n_estimators=100, score=0.8462220531361243, total=  41.9s\n",
      "[CV] max_depth=10, max_features=5, min_samples_split=500, n_estimators=50 \n",
      "[CV]  max_depth=10, max_features=5, min_samples_split=500, n_estimators=50, score=0.8366077924307525, total=  28.5s\n",
      "[CV]  max_depth=10, max_features=5, min_samples_split=500, n_estimators=50, score=0.8347529820576577, total=  28.2s\n",
      "[CV] max_depth=10, max_features=5, min_samples_split=500, n_estimators=50 \n",
      "[CV] max_depth=10, max_features=5, min_samples_split=500, n_estimators=100 \n",
      "[CV]  max_depth=10, max_features=5, min_samples_split=500, n_estimators=50, score=0.8365160908713087, total=  28.2s\n",
      "[CV] max_depth=10, max_features=5, min_samples_split=500, n_estimators=100 \n",
      "[CV]  max_depth=10, max_features=5, min_samples_split=500, n_estimators=50, score=0.837069185405838, total=  29.1s\n",
      "[CV] max_depth=10, max_features=5, min_samples_split=500, n_estimators=100 \n",
      "[CV]  max_depth=10, max_features=5, min_samples_split=500, n_estimators=100, score=0.8372204738051621, total=  39.4s\n",
      "[CV] max_depth=10, max_features=5, min_samples_split=500, n_estimators=100 \n"
     ]
    },
    {
     "name": "stderr",
     "output_type": "stream",
     "text": [
      "[Parallel(n_jobs=3)]: Done  26 tasks      | elapsed:  7.5min\n"
     ]
    },
    {
     "name": "stdout",
     "output_type": "stream",
     "text": [
      "[CV]  max_depth=10, max_features=5, min_samples_split=500, n_estimators=100, score=0.837862420159835, total=  40.4s\n",
      "[CV] max_depth=10, max_features=5, min_samples_split=500, n_estimators=100 \n",
      "[CV]  max_depth=10, max_features=5, min_samples_split=500, n_estimators=100, score=0.8378234379117545, total=  38.0s\n",
      "[CV] max_depth=10, max_features=10, min_samples_split=2, n_estimators=50 \n",
      "[CV]  max_depth=10, max_features=5, min_samples_split=500, n_estimators=100, score=0.8394232629511573, total=  44.5s\n",
      "[CV] max_depth=10, max_features=10, min_samples_split=2, n_estimators=50 \n",
      "[CV]  max_depth=10, max_features=5, min_samples_split=500, n_estimators=100, score=0.8398019691372602, total=  43.9s\n",
      "[CV] max_depth=10, max_features=10, min_samples_split=2, n_estimators=50 \n",
      "[CV]  max_depth=10, max_features=10, min_samples_split=2, n_estimators=50, score=0.8576692705127343, total=  28.7s\n",
      "[CV] max_depth=10, max_features=10, min_samples_split=2, n_estimators=50 \n",
      "[CV]  max_depth=10, max_features=10, min_samples_split=2, n_estimators=50, score=0.8538224107039476, total=  33.5s\n",
      "[CV] max_depth=10, max_features=10, min_samples_split=2, n_estimators=50 \n",
      "[CV]  max_depth=10, max_features=10, min_samples_split=2, n_estimators=50, score=0.8531659998571135, total=  33.4s\n",
      "[CV] max_depth=10, max_features=10, min_samples_split=2, n_estimators=100 \n",
      "[CV]  max_depth=10, max_features=10, min_samples_split=2, n_estimators=50, score=0.8563825259383799, total=  27.5s\n",
      "[CV] max_depth=10, max_features=10, min_samples_split=2, n_estimators=100 \n",
      "[CV]  max_depth=10, max_features=10, min_samples_split=2, n_estimators=50, score=0.8563206385025117, total=  33.6s\n",
      "[CV] max_depth=10, max_features=10, min_samples_split=2, n_estimators=100 \n"
     ]
    },
    {
     "name": "stderr",
     "output_type": "stream",
     "text": [
      "[Parallel(n_jobs=3)]: Done  35 tasks      | elapsed: 10.1min\n"
     ]
    },
    {
     "name": "stdout",
     "output_type": "stream",
     "text": [
      "[CV]  max_depth=10, max_features=10, min_samples_split=2, n_estimators=100, score=0.8595066451594848, total=  46.4s\n",
      "[CV] max_depth=10, max_features=10, min_samples_split=2, n_estimators=100 \n",
      "[CV]  max_depth=10, max_features=10, min_samples_split=2, n_estimators=100, score=0.8592933019309295, total=  48.6s\n",
      "[CV] max_depth=10, max_features=10, min_samples_split=2, n_estimators=100 \n",
      "[CV]  max_depth=10, max_features=10, min_samples_split=2, n_estimators=100, score=0.8577695025273271, total=  51.7s\n",
      "[CV] max_depth=10, max_features=10, min_samples_split=100, n_estimators=50 \n",
      "[CV]  max_depth=10, max_features=10, min_samples_split=2, n_estimators=100, score=0.860898765873603, total=  50.7s\n",
      "[CV] max_depth=10, max_features=10, min_samples_split=100, n_estimators=50 \n",
      "[CV]  max_depth=10, max_features=10, min_samples_split=100, n_estimators=50, score=0.8521270867398356, total=  35.6s\n",
      "[CV] max_depth=10, max_features=10, min_samples_split=100, n_estimators=50 \n",
      "[CV]  max_depth=10, max_features=10, min_samples_split=2, n_estimators=100, score=0.8580664236260576, total=  46.4s\n",
      "[CV] max_depth=10, max_features=10, min_samples_split=100, n_estimators=50 \n",
      "[CV]  max_depth=10, max_features=10, min_samples_split=100, n_estimators=50, score=0.8492172608991625, total=  32.8s\n",
      "[CV] max_depth=10, max_features=10, min_samples_split=100, n_estimators=50 \n",
      "[CV]  max_depth=10, max_features=10, min_samples_split=100, n_estimators=50, score=0.8521245503237656, total=  32.6s\n",
      "[CV] max_depth=10, max_features=10, min_samples_split=100, n_estimators=100 \n",
      "[CV]  max_depth=10, max_features=10, min_samples_split=100, n_estimators=50, score=0.8552988978486755, total=  33.4s\n",
      "[CV] max_depth=10, max_features=10, min_samples_split=100, n_estimators=100 \n"
     ]
    },
    {
     "name": "stderr",
     "output_type": "stream",
     "text": [
      "[Parallel(n_jobs=3)]: Done  44 tasks      | elapsed: 12.9min\n"
     ]
    },
    {
     "name": "stdout",
     "output_type": "stream",
     "text": [
      "[CV]  max_depth=10, max_features=10, min_samples_split=100, n_estimators=50, score=0.8526743699945631, total=  33.8s\n",
      "[CV] max_depth=10, max_features=10, min_samples_split=100, n_estimators=100 \n",
      "[CV]  max_depth=10, max_features=10, min_samples_split=100, n_estimators=100, score=0.8539094783268225, total=  52.7s\n",
      "[CV] max_depth=10, max_features=10, min_samples_split=100, n_estimators=100 \n",
      "[CV]  max_depth=10, max_features=10, min_samples_split=100, n_estimators=100, score=0.8519683000126594, total=  53.1s\n",
      "[CV] max_depth=10, max_features=10, min_samples_split=100, n_estimators=100 \n",
      "[CV]  max_depth=10, max_features=10, min_samples_split=100, n_estimators=100, score=0.8532955165220801, total=  55.5s\n",
      "[CV] max_depth=10, max_features=10, min_samples_split=500, n_estimators=50 \n",
      "[CV]  max_depth=10, max_features=10, min_samples_split=100, n_estimators=100, score=0.8547766110502306, total=  53.2s\n",
      "[CV] max_depth=10, max_features=10, min_samples_split=500, n_estimators=50 \n",
      "[CV]  max_depth=10, max_features=10, min_samples_split=500, n_estimators=50, score=0.846850245242381, total=  43.8s\n",
      "[CV] max_depth=10, max_features=10, min_samples_split=500, n_estimators=50 \n",
      "[CV]  max_depth=10, max_features=10, min_samples_split=100, n_estimators=100, score=0.8554621211498007, total=  53.4s\n",
      "[CV] max_depth=10, max_features=10, min_samples_split=500, n_estimators=50 \n",
      "[CV]  max_depth=10, max_features=10, min_samples_split=500, n_estimators=50, score=0.8460766351650344, total=  35.0s\n",
      "[CV] max_depth=10, max_features=10, min_samples_split=500, n_estimators=50 \n",
      "[CV]  max_depth=10, max_features=10, min_samples_split=500, n_estimators=50, score=0.8466875415755775, total=  34.9s\n",
      "[CV] max_depth=10, max_features=10, min_samples_split=500, n_estimators=100 \n",
      "[CV]  max_depth=10, max_features=10, min_samples_split=500, n_estimators=50, score=0.847537806772446, total=  33.9s\n",
      "[CV] max_depth=10, max_features=10, min_samples_split=500, n_estimators=100 \n",
      "[CV]  max_depth=10, max_features=10, min_samples_split=500, n_estimators=50, score=0.8487384580401882, total=  34.4s\n",
      "[CV] max_depth=10, max_features=10, min_samples_split=500, n_estimators=100 \n"
     ]
    },
    {
     "name": "stderr",
     "output_type": "stream",
     "text": [
      "[Parallel(n_jobs=3)]: Done  55 tasks      | elapsed: 16.8min\n"
     ]
    },
    {
     "name": "stdout",
     "output_type": "stream",
     "text": [
      "[CV]  max_depth=10, max_features=10, min_samples_split=500, n_estimators=100, score=0.8486835786434018, total=  52.3s\n",
      "[CV] max_depth=10, max_features=10, min_samples_split=500, n_estimators=100 \n",
      "[CV]  max_depth=10, max_features=10, min_samples_split=500, n_estimators=100, score=0.8459297004415576, total=  52.0s\n",
      "[CV] max_depth=10, max_features=10, min_samples_split=500, n_estimators=100 \n",
      "[CV]  max_depth=10, max_features=10, min_samples_split=500, n_estimators=100, score=0.8466039706807069, total=  45.9s\n",
      "[CV] max_depth=10, max_features=20, min_samples_split=2, n_estimators=50 \n",
      "[CV]  max_depth=10, max_features=10, min_samples_split=500, n_estimators=100, score=0.8487048510371502, total=  54.6s\n",
      "[CV] max_depth=10, max_features=20, min_samples_split=2, n_estimators=50 \n",
      "[CV]  max_depth=10, max_features=10, min_samples_split=500, n_estimators=100, score=0.8502435415968215, total=  54.0s\n",
      "[CV] max_depth=10, max_features=20, min_samples_split=2, n_estimators=50 \n",
      "[CV]  max_depth=10, max_features=20, min_samples_split=2, n_estimators=50, score=0.8736556204691801, total=  38.5s\n",
      "[CV] max_depth=10, max_features=20, min_samples_split=2, n_estimators=50 \n",
      "[CV]  max_depth=10, max_features=20, min_samples_split=2, n_estimators=50, score=0.8715239527661374, total=  49.4s\n",
      "[CV] max_depth=10, max_features=20, min_samples_split=2, n_estimators=50 \n",
      "[CV]  max_depth=10, max_features=20, min_samples_split=2, n_estimators=50, score=0.8699135494683556, total=  48.8s\n",
      "[CV] max_depth=10, max_features=20, min_samples_split=2, n_estimators=100 \n",
      "[CV]  max_depth=10, max_features=20, min_samples_split=2, n_estimators=50, score=0.8722833683527851, total=  35.7s\n",
      "[CV] max_depth=10, max_features=20, min_samples_split=2, n_estimators=100 \n",
      "[CV]  max_depth=10, max_features=20, min_samples_split=2, n_estimators=50, score=0.8739348456923578, total=  48.0s\n",
      "[CV] max_depth=10, max_features=20, min_samples_split=2, n_estimators=100 \n",
      "[CV]  max_depth=10, max_features=20, min_samples_split=2, n_estimators=100, score=0.8744854052313666, total= 1.2min\n",
      "[CV] max_depth=10, max_features=20, min_samples_split=2, n_estimators=100 \n"
     ]
    },
    {
     "name": "stderr",
     "output_type": "stream",
     "text": [
      "[Parallel(n_jobs=3)]: Done  66 tasks      | elapsed: 20.7min\n"
     ]
    },
    {
     "name": "stdout",
     "output_type": "stream",
     "text": [
      "[CV]  max_depth=10, max_features=20, min_samples_split=2, n_estimators=100, score=0.8722127874716399, total= 1.2min\n",
      "[CV] max_depth=10, max_features=20, min_samples_split=2, n_estimators=100 \n",
      "[CV]  max_depth=10, max_features=20, min_samples_split=2, n_estimators=100, score=0.870668691953898, total= 1.3min\n",
      "[CV] max_depth=10, max_features=20, min_samples_split=100, n_estimators=50 \n",
      "[CV]  max_depth=10, max_features=20, min_samples_split=2, n_estimators=100, score=0.8725957398329525, total= 1.3min\n",
      "[CV] max_depth=10, max_features=20, min_samples_split=100, n_estimators=50 \n",
      "[CV]  max_depth=10, max_features=20, min_samples_split=2, n_estimators=100, score=0.8740078728961747, total= 1.2min\n",
      "[CV] max_depth=10, max_features=20, min_samples_split=100, n_estimators=50 \n",
      "[CV]  max_depth=10, max_features=20, min_samples_split=100, n_estimators=50, score=0.869238082627334, total=  49.9s\n",
      "[CV] max_depth=10, max_features=20, min_samples_split=100, n_estimators=50 \n",
      "[CV]  max_depth=10, max_features=20, min_samples_split=100, n_estimators=50, score=0.865319677918584, total=  45.3s\n",
      "[CV] max_depth=10, max_features=20, min_samples_split=100, n_estimators=50 \n",
      "[CV]  max_depth=10, max_features=20, min_samples_split=100, n_estimators=50, score=0.8659851246124389, total=  43.6s\n",
      "[CV] max_depth=10, max_features=20, min_samples_split=100, n_estimators=100 \n",
      "[CV]  max_depth=10, max_features=20, min_samples_split=100, n_estimators=50, score=0.8660607226265088, total=  43.5s\n",
      "[CV] max_depth=10, max_features=20, min_samples_split=100, n_estimators=100 \n",
      "[CV]  max_depth=10, max_features=20, min_samples_split=100, n_estimators=50, score=0.8680103273738278, total=  43.7s\n",
      "[CV] max_depth=10, max_features=20, min_samples_split=100, n_estimators=100 \n",
      "[CV]  max_depth=10, max_features=20, min_samples_split=100, n_estimators=100, score=0.8701346211435828, total= 1.3min\n",
      "[CV] max_depth=10, max_features=20, min_samples_split=100, n_estimators=100 \n",
      "[CV]  max_depth=10, max_features=20, min_samples_split=100, n_estimators=100, score=0.8692036811675964, total= 1.4min\n",
      "[CV] max_depth=10, max_features=20, min_samples_split=100, n_estimators=100 \n",
      "[CV]  max_depth=10, max_features=20, min_samples_split=100, n_estimators=100, score=0.8666516138220022, total= 1.4min\n",
      "[CV] max_depth=10, max_features=20, min_samples_split=500, n_estimators=50 \n",
      "[CV]  max_depth=10, max_features=20, min_samples_split=500, n_estimators=50, score=0.8629656966221491, total= 1.0min\n",
      "[CV] max_depth=10, max_features=20, min_samples_split=500, n_estimators=50 \n"
     ]
    },
    {
     "name": "stderr",
     "output_type": "stream",
     "text": [
      "[Parallel(n_jobs=3)]: Done  79 tasks      | elapsed: 27.1min\n"
     ]
    },
    {
     "name": "stdout",
     "output_type": "stream",
     "text": [
      "[CV]  max_depth=10, max_features=20, min_samples_split=100, n_estimators=100, score=0.8688508441423541, total= 1.3min\n",
      "[CV] max_depth=10, max_features=20, min_samples_split=500, n_estimators=50 \n",
      "[CV]  max_depth=10, max_features=20, min_samples_split=100, n_estimators=100, score=0.8699532120266393, total= 1.3min\n",
      "[CV] max_depth=10, max_features=20, min_samples_split=500, n_estimators=50 \n",
      "[CV]  max_depth=10, max_features=20, min_samples_split=500, n_estimators=50, score=0.8613090660323821, total=  48.7s\n",
      "[CV] max_depth=10, max_features=20, min_samples_split=500, n_estimators=50 \n",
      "[CV]  max_depth=10, max_features=20, min_samples_split=500, n_estimators=50, score=0.8598822042841747, total=  48.7s\n",
      "[CV] max_depth=10, max_features=20, min_samples_split=500, n_estimators=100 \n",
      "[CV]  max_depth=10, max_features=20, min_samples_split=500, n_estimators=50, score=0.8645931232935844, total=  48.2s\n",
      "[CV] max_depth=10, max_features=20, min_samples_split=500, n_estimators=100 \n",
      "[CV]  max_depth=10, max_features=20, min_samples_split=500, n_estimators=50, score=0.8639902891053122, total=  49.5s\n",
      "[CV] max_depth=10, max_features=20, min_samples_split=500, n_estimators=100 \n",
      "[CV]  max_depth=10, max_features=20, min_samples_split=500, n_estimators=100, score=0.8642927633593667, total= 1.3min\n",
      "[CV] max_depth=10, max_features=20, min_samples_split=500, n_estimators=100 \n",
      "[CV]  max_depth=10, max_features=20, min_samples_split=500, n_estimators=100, score=0.8624258630785182, total= 1.3min\n",
      "[CV] max_depth=10, max_features=20, min_samples_split=500, n_estimators=100 \n",
      "[CV]  max_depth=10, max_features=20, min_samples_split=500, n_estimators=100, score=0.8613963544433795, total= 1.2min\n",
      "[CV] max_depth=None, max_features=5, min_samples_split=2, n_estimators=50 \n",
      "[CV]  max_depth=10, max_features=20, min_samples_split=500, n_estimators=100, score=0.8627605021199845, total= 1.4min\n",
      "[CV] max_depth=None, max_features=5, min_samples_split=2, n_estimators=50 \n",
      "[CV]  max_depth=10, max_features=20, min_samples_split=500, n_estimators=100, score=0.8642692393856818, total= 1.3min\n",
      "[CV] max_depth=None, max_features=5, min_samples_split=2, n_estimators=50 \n",
      "[CV]  max_depth=None, max_features=5, min_samples_split=2, n_estimators=50, score=0.9568897300731637, total=  43.9s\n",
      "[CV] max_depth=None, max_features=5, min_samples_split=2, n_estimators=50 \n",
      "[CV]  max_depth=None, max_features=5, min_samples_split=2, n_estimators=50, score=0.9549258382096377, total=  55.0s\n"
     ]
    },
    {
     "name": "stderr",
     "output_type": "stream",
     "text": [
      "[Parallel(n_jobs=3)]: Done  92 tasks      | elapsed: 32.5min\n"
     ]
    },
    {
     "name": "stdout",
     "output_type": "stream",
     "text": [
      "[CV] max_depth=None, max_features=5, min_samples_split=2, n_estimators=50 \n",
      "[CV]  max_depth=None, max_features=5, min_samples_split=2, n_estimators=50, score=0.9547792303261092, total=  52.3s\n",
      "[CV] max_depth=None, max_features=5, min_samples_split=2, n_estimators=100 \n",
      "[CV]  max_depth=None, max_features=5, min_samples_split=2, n_estimators=50, score=0.956734535232418, total=  45.1s\n",
      "[CV] max_depth=None, max_features=5, min_samples_split=2, n_estimators=100 \n",
      "[CV]  max_depth=None, max_features=5, min_samples_split=2, n_estimators=50, score=0.9572091923603987, total=  54.3s\n",
      "[CV] max_depth=None, max_features=5, min_samples_split=2, n_estimators=100 \n",
      "[CV]  max_depth=None, max_features=5, min_samples_split=2, n_estimators=100, score=0.9593421823199462, total= 1.5min\n",
      "[CV] max_depth=None, max_features=5, min_samples_split=2, n_estimators=100 \n",
      "[CV]  max_depth=None, max_features=5, min_samples_split=2, n_estimators=100, score=0.9582082435248536, total= 1.5min\n",
      "[CV] max_depth=None, max_features=5, min_samples_split=2, n_estimators=100 \n",
      "[CV]  max_depth=None, max_features=5, min_samples_split=2, n_estimators=100, score=0.9580828985442594, total= 1.6min\n",
      "[CV] max_depth=None, max_features=5, min_samples_split=100, n_estimators=50 \n",
      "[CV]  max_depth=None, max_features=5, min_samples_split=2, n_estimators=100, score=0.9602355747035884, total= 1.5min\n",
      "[CV] max_depth=None, max_features=5, min_samples_split=100, n_estimators=50 \n",
      "[CV]  max_depth=None, max_features=5, min_samples_split=100, n_estimators=50, score=0.9410710413647478, total=  49.8s\n",
      "[CV] max_depth=None, max_features=5, min_samples_split=100, n_estimators=50 \n",
      "[CV]  max_depth=None, max_features=5, min_samples_split=2, n_estimators=100, score=0.9609977760384412, total= 1.5min\n",
      "[CV] max_depth=None, max_features=5, min_samples_split=100, n_estimators=50 \n",
      "[CV]  max_depth=None, max_features=5, min_samples_split=100, n_estimators=50, score=0.9395872638178244, total=  38.7s\n",
      "[CV] max_depth=None, max_features=5, min_samples_split=100, n_estimators=50 \n",
      "[CV]  max_depth=None, max_features=5, min_samples_split=100, n_estimators=50, score=0.9398120835192916, total=  46.3s\n",
      "[CV] max_depth=None, max_features=5, min_samples_split=100, n_estimators=100 \n",
      "[CV]  max_depth=None, max_features=5, min_samples_split=100, n_estimators=50, score=0.9417272140686421, total=  43.1s\n",
      "[CV] max_depth=None, max_features=5, min_samples_split=100, n_estimators=100 \n",
      "[CV]  max_depth=None, max_features=5, min_samples_split=100, n_estimators=50, score=0.9410411998566535, total=  40.5s\n",
      "[CV] max_depth=None, max_features=5, min_samples_split=100, n_estimators=100 \n",
      "[CV]  max_depth=None, max_features=5, min_samples_split=100, n_estimators=100, score=0.9417254781914968, total= 1.3min\n",
      "[CV] max_depth=None, max_features=5, min_samples_split=100, n_estimators=100 \n",
      "[CV]  max_depth=None, max_features=5, min_samples_split=100, n_estimators=100, score=0.9402389713028523, total= 1.3min\n",
      "[CV] max_depth=None, max_features=5, min_samples_split=100, n_estimators=100 \n"
     ]
    },
    {
     "name": "stderr",
     "output_type": "stream",
     "text": [
      "[Parallel(n_jobs=3)]: Done 107 tasks      | elapsed: 40.0min\n"
     ]
    },
    {
     "name": "stdout",
     "output_type": "stream",
     "text": [
      "[CV]  max_depth=None, max_features=5, min_samples_split=100, n_estimators=100, score=0.9392836087850056, total= 1.3min\n",
      "[CV] max_depth=None, max_features=5, min_samples_split=500, n_estimators=50 \n",
      "[CV]  max_depth=None, max_features=5, min_samples_split=100, n_estimators=100, score=0.9410584696568932, total= 1.4min\n",
      "[CV] max_depth=None, max_features=5, min_samples_split=500, n_estimators=50 \n",
      "[CV]  max_depth=None, max_features=5, min_samples_split=500, n_estimators=50, score=0.9044611749120093, total=  53.9s\n",
      "[CV] max_depth=None, max_features=5, min_samples_split=500, n_estimators=50 \n",
      "[CV]  max_depth=None, max_features=5, min_samples_split=100, n_estimators=100, score=0.9418585516799652, total= 1.3min\n",
      "[CV] max_depth=None, max_features=5, min_samples_split=500, n_estimators=50 \n",
      "[CV]  max_depth=None, max_features=5, min_samples_split=500, n_estimators=50, score=0.9038061569126271, total=  45.1s\n",
      "[CV] max_depth=None, max_features=5, min_samples_split=500, n_estimators=50 \n",
      "[CV]  max_depth=None, max_features=5, min_samples_split=500, n_estimators=50, score=0.9043392683576392, total=  45.0s\n",
      "[CV] max_depth=None, max_features=5, min_samples_split=500, n_estimators=100 \n",
      "[CV]  max_depth=None, max_features=5, min_samples_split=500, n_estimators=50, score=0.9056563713800612, total=  44.6s\n",
      "[CV] max_depth=None, max_features=5, min_samples_split=500, n_estimators=100 \n",
      "[CV]  max_depth=None, max_features=5, min_samples_split=500, n_estimators=50, score=0.9086719029825643, total=  43.1s\n",
      "[CV] max_depth=None, max_features=5, min_samples_split=500, n_estimators=100 \n",
      "[CV]  max_depth=None, max_features=5, min_samples_split=500, n_estimators=100, score=0.9078656736649244, total= 1.2min\n",
      "[CV] max_depth=None, max_features=5, min_samples_split=500, n_estimators=100 \n",
      "[CV]  max_depth=None, max_features=5, min_samples_split=500, n_estimators=100, score=0.9069450831538938, total= 1.2min\n",
      "[CV] max_depth=None, max_features=5, min_samples_split=500, n_estimators=100 \n",
      "[CV]  max_depth=None, max_features=5, min_samples_split=500, n_estimators=100, score=0.9062228654493342, total= 1.0min\n",
      "[CV] max_depth=None, max_features=10, min_samples_split=2, n_estimators=50 \n",
      "[CV]  max_depth=None, max_features=5, min_samples_split=500, n_estimators=100, score=0.9082553239027094, total= 1.2min\n",
      "[CV] max_depth=None, max_features=10, min_samples_split=2, n_estimators=50 \n",
      "[CV]  max_depth=None, max_features=5, min_samples_split=500, n_estimators=100, score=0.9091293672016686, total= 1.2min\n",
      "[CV] max_depth=None, max_features=10, min_samples_split=2, n_estimators=50 \n",
      "[CV]  max_depth=None, max_features=10, min_samples_split=2, n_estimators=50, score=0.9579164778006571, total=  51.1s\n",
      "[CV] max_depth=None, max_features=10, min_samples_split=2, n_estimators=50 \n",
      "[CV]  max_depth=None, max_features=10, min_samples_split=2, n_estimators=50, score=0.9576371543105764, total= 1.0min\n",
      "[CV] max_depth=None, max_features=10, min_samples_split=2, n_estimators=50 \n"
     ]
    },
    {
     "name": "stderr",
     "output_type": "stream",
     "text": [
      "[Parallel(n_jobs=3)]: Done 122 tasks      | elapsed: 46.9min\n"
     ]
    },
    {
     "name": "stdout",
     "output_type": "stream",
     "text": [
      "[CV]  max_depth=None, max_features=10, min_samples_split=2, n_estimators=50, score=0.9568490040161427, total=  59.2s\n",
      "[CV] max_depth=None, max_features=10, min_samples_split=2, n_estimators=100 \n",
      "[CV]  max_depth=None, max_features=10, min_samples_split=2, n_estimators=50, score=0.9581620059107128, total=  50.2s\n",
      "[CV] max_depth=None, max_features=10, min_samples_split=2, n_estimators=100 \n",
      "[CV]  max_depth=None, max_features=10, min_samples_split=2, n_estimators=50, score=0.9590935896502373, total= 1.0min\n",
      "[CV] max_depth=None, max_features=10, min_samples_split=2, n_estimators=100 \n",
      "[CV]  max_depth=None, max_features=10, min_samples_split=2, n_estimators=100, score=0.9615078681067961, total= 1.7min\n",
      "[CV] max_depth=None, max_features=10, min_samples_split=2, n_estimators=100 \n",
      "[CV]  max_depth=None, max_features=10, min_samples_split=2, n_estimators=100, score=0.9609211978206338, total= 1.8min\n",
      "[CV] max_depth=None, max_features=10, min_samples_split=2, n_estimators=100 \n",
      "[CV]  max_depth=None, max_features=10, min_samples_split=2, n_estimators=100, score=0.9598637117141984, total= 1.8min\n",
      "[CV] max_depth=None, max_features=10, min_samples_split=100, n_estimators=50 \n",
      "[CV]  max_depth=None, max_features=10, min_samples_split=2, n_estimators=100, score=0.9619872890992347, total= 1.8min\n",
      "[CV] max_depth=None, max_features=10, min_samples_split=100, n_estimators=50 \n",
      "[CV]  max_depth=None, max_features=10, min_samples_split=100, n_estimators=50, score=0.9425210342237603, total= 1.0min\n",
      "[CV] max_depth=None, max_features=10, min_samples_split=100, n_estimators=50 \n",
      "[CV]  max_depth=None, max_features=10, min_samples_split=2, n_estimators=100, score=0.9625951033199258, total= 1.8min\n",
      "[CV] max_depth=None, max_features=10, min_samples_split=100, n_estimators=50 \n",
      "[CV]  max_depth=None, max_features=10, min_samples_split=100, n_estimators=50, score=0.9420061683535762, total=  46.7s\n",
      "[CV] max_depth=None, max_features=10, min_samples_split=100, n_estimators=50 \n",
      "[CV]  max_depth=None, max_features=10, min_samples_split=100, n_estimators=50, score=0.9414965273618854, total=  55.0s\n",
      "[CV] max_depth=None, max_features=10, min_samples_split=100, n_estimators=100 \n",
      "[CV]  max_depth=None, max_features=10, min_samples_split=100, n_estimators=50, score=0.9439615519588491, total=  51.0s\n",
      "[CV] max_depth=None, max_features=10, min_samples_split=100, n_estimators=100 \n",
      "[CV]  max_depth=None, max_features=10, min_samples_split=100, n_estimators=50, score=0.9446451865411337, total=  45.5s\n",
      "[CV] max_depth=None, max_features=10, min_samples_split=100, n_estimators=100 \n",
      "[CV]  max_depth=None, max_features=10, min_samples_split=100, n_estimators=100, score=0.9447050851922068, total= 1.6min\n",
      "[CV] max_depth=None, max_features=10, min_samples_split=100, n_estimators=100 \n",
      "[CV]  max_depth=None, max_features=10, min_samples_split=100, n_estimators=100, score=0.9433817081323517, total= 1.6min\n",
      "[CV] max_depth=None, max_features=10, min_samples_split=100, n_estimators=100 \n",
      "[CV]  max_depth=None, max_features=10, min_samples_split=100, n_estimators=100, score=0.9427090203172598, total= 1.6min\n",
      "[CV] max_depth=None, max_features=10, min_samples_split=500, n_estimators=50 \n",
      "[CV]  max_depth=None, max_features=10, min_samples_split=100, n_estimators=100, score=0.9446195372675638, total= 1.6min\n",
      "[CV] max_depth=None, max_features=10, min_samples_split=500, n_estimators=50 \n"
     ]
    },
    {
     "name": "stderr",
     "output_type": "stream",
     "text": [
      "[Parallel(n_jobs=3)]: Done 139 tasks      | elapsed: 57.1min\n"
     ]
    },
    {
     "name": "stdout",
     "output_type": "stream",
     "text": [
      "[CV]  max_depth=None, max_features=10, min_samples_split=500, n_estimators=50, score=0.911870256438003, total= 1.1min\n",
      "[CV] max_depth=None, max_features=10, min_samples_split=500, n_estimators=50 \n",
      "[CV]  max_depth=None, max_features=10, min_samples_split=100, n_estimators=100, score=0.9451751087573038, total= 1.6min\n",
      "[CV] max_depth=None, max_features=10, min_samples_split=500, n_estimators=50 \n",
      "[CV]  max_depth=None, max_features=10, min_samples_split=500, n_estimators=50, score=0.911106674800932, total=  52.6s\n",
      "[CV] max_depth=None, max_features=10, min_samples_split=500, n_estimators=50 \n",
      "[CV]  max_depth=None, max_features=10, min_samples_split=500, n_estimators=50, score=0.9094310320483291, total=  54.1s\n",
      "[CV] max_depth=None, max_features=10, min_samples_split=500, n_estimators=100 \n",
      "[CV]  max_depth=None, max_features=10, min_samples_split=500, n_estimators=50, score=0.9121692588307704, total=  52.8s\n",
      "[CV] max_depth=None, max_features=10, min_samples_split=500, n_estimators=100 \n",
      "[CV]  max_depth=None, max_features=10, min_samples_split=500, n_estimators=50, score=0.9132498468676896, total=  51.3s\n",
      "[CV] max_depth=None, max_features=10, min_samples_split=500, n_estimators=100 \n",
      "[CV]  max_depth=None, max_features=10, min_samples_split=500, n_estimators=100, score=0.9126916985607776, total= 1.5min\n",
      "[CV] max_depth=None, max_features=10, min_samples_split=500, n_estimators=100 \n",
      "[CV]  max_depth=None, max_features=10, min_samples_split=500, n_estimators=100, score=0.9114572790407475, total= 1.5min\n",
      "[CV] max_depth=None, max_features=10, min_samples_split=500, n_estimators=100 \n",
      "[CV]  max_depth=None, max_features=10, min_samples_split=500, n_estimators=100, score=0.9103505137041037, total= 1.3min\n",
      "[CV] max_depth=None, max_features=20, min_samples_split=2, n_estimators=50 \n",
      "[CV]  max_depth=None, max_features=10, min_samples_split=500, n_estimators=100, score=0.9121818152957588, total= 1.5min\n",
      "[CV] max_depth=None, max_features=20, min_samples_split=2, n_estimators=50 \n",
      "[CV]  max_depth=None, max_features=10, min_samples_split=500, n_estimators=100, score=0.9136693096896673, total= 1.5min\n",
      "[CV] max_depth=None, max_features=20, min_samples_split=2, n_estimators=50 \n",
      "[CV]  max_depth=None, max_features=20, min_samples_split=2, n_estimators=50, score=0.9627831232721676, total= 1.1min\n",
      "[CV] max_depth=None, max_features=20, min_samples_split=2, n_estimators=50 \n",
      "[CV]  max_depth=None, max_features=20, min_samples_split=2, n_estimators=50, score=0.9607642437146641, total= 1.3min\n",
      "[CV] max_depth=None, max_features=20, min_samples_split=2, n_estimators=50 \n",
      "[CV]  max_depth=None, max_features=20, min_samples_split=2, n_estimators=50, score=0.9609057721612998, total= 1.3min\n",
      "[CV] max_depth=None, max_features=20, min_samples_split=2, n_estimators=100 \n",
      "[CV]  max_depth=None, max_features=20, min_samples_split=2, n_estimators=50, score=0.9630728447395579, total= 1.1min\n",
      "[CV] max_depth=None, max_features=20, min_samples_split=2, n_estimators=100 \n",
      "[CV]  max_depth=None, max_features=20, min_samples_split=2, n_estimators=50, score=0.9629762415903891, total= 1.3min\n",
      "[CV] max_depth=None, max_features=20, min_samples_split=2, n_estimators=100 \n",
      "[CV]  max_depth=None, max_features=20, min_samples_split=2, n_estimators=100, score=0.9649313625051318, total= 2.3min\n"
     ]
    },
    {
     "name": "stderr",
     "output_type": "stream",
     "text": [
      "[Parallel(n_jobs=3)]: Done 156 tasks      | elapsed: 66.5min\n"
     ]
    },
    {
     "name": "stdout",
     "output_type": "stream",
     "text": [
      "[CV] max_depth=None, max_features=20, min_samples_split=2, n_estimators=100 \n",
      "[CV]  max_depth=None, max_features=20, min_samples_split=2, n_estimators=100, score=0.9645552279560953, total= 2.4min\n",
      "[CV] max_depth=None, max_features=20, min_samples_split=2, n_estimators=100 \n",
      "[CV]  max_depth=None, max_features=20, min_samples_split=2, n_estimators=100, score=0.9637721607436774, total= 2.4min\n",
      "[CV] max_depth=None, max_features=20, min_samples_split=100, n_estimators=50 \n",
      "[CV]  max_depth=None, max_features=20, min_samples_split=2, n_estimators=100, score=0.9659679564617084, total= 2.4min\n",
      "[CV] max_depth=None, max_features=20, min_samples_split=100, n_estimators=50 \n",
      "[CV]  max_depth=None, max_features=20, min_samples_split=100, n_estimators=50, score=0.9511488665691148, total= 1.4min\n",
      "[CV] max_depth=None, max_features=20, min_samples_split=100, n_estimators=50 \n",
      "[CV]  max_depth=None, max_features=20, min_samples_split=2, n_estimators=100, score=0.9660308898307811, total= 2.3min\n",
      "[CV] max_depth=None, max_features=20, min_samples_split=100, n_estimators=50 \n",
      "[CV]  max_depth=None, max_features=20, min_samples_split=100, n_estimators=50, score=0.9483411244703195, total= 1.1min\n",
      "[CV] max_depth=None, max_features=20, min_samples_split=100, n_estimators=50 \n",
      "[CV]  max_depth=None, max_features=20, min_samples_split=100, n_estimators=50, score=0.9490258426165927, total= 1.2min\n",
      "[CV] max_depth=None, max_features=20, min_samples_split=100, n_estimators=100 \n",
      "[CV]  max_depth=None, max_features=20, min_samples_split=100, n_estimators=50, score=0.9507490426946247, total= 1.1min\n",
      "[CV] max_depth=None, max_features=20, min_samples_split=100, n_estimators=100 \n",
      "[CV]  max_depth=None, max_features=20, min_samples_split=100, n_estimators=50, score=0.951311626676715, total= 1.1min\n",
      "[CV] max_depth=None, max_features=20, min_samples_split=100, n_estimators=100 \n",
      "[CV]  max_depth=None, max_features=20, min_samples_split=100, n_estimators=100, score=0.9510752988345023, total= 2.3min\n",
      "[CV] max_depth=None, max_features=20, min_samples_split=100, n_estimators=100 \n",
      "[CV]  max_depth=None, max_features=20, min_samples_split=100, n_estimators=100, score=0.949474220049011, total= 2.3min\n",
      "[CV] max_depth=None, max_features=20, min_samples_split=100, n_estimators=100 \n",
      "[CV]  max_depth=None, max_features=20, min_samples_split=100, n_estimators=100, score=0.9499618328472644, total= 2.1min\n",
      "[CV] max_depth=None, max_features=20, min_samples_split=500, n_estimators=50 \n",
      "[CV]  max_depth=None, max_features=20, min_samples_split=100, n_estimators=100, score=0.9512330249543758, total= 2.2min\n",
      "[CV] max_depth=None, max_features=20, min_samples_split=500, n_estimators=50 \n",
      "[CV]  max_depth=None, max_features=20, min_samples_split=500, n_estimators=50, score=0.9208325676417244, total= 1.4min\n",
      "[CV] max_depth=None, max_features=20, min_samples_split=500, n_estimators=50 \n",
      "[CV]  max_depth=None, max_features=20, min_samples_split=100, n_estimators=100, score=0.9519226250424997, total= 2.2min\n",
      "[CV] max_depth=None, max_features=20, min_samples_split=500, n_estimators=50 \n",
      "[CV]  max_depth=None, max_features=20, min_samples_split=500, n_estimators=50, score=0.9199276957544927, total= 1.2min\n",
      "[CV] max_depth=None, max_features=20, min_samples_split=500, n_estimators=50 \n",
      "[CV]  max_depth=None, max_features=20, min_samples_split=500, n_estimators=50, score=0.9196500865923902, total= 1.2min\n",
      "[CV] max_depth=None, max_features=20, min_samples_split=500, n_estimators=100 \n",
      "[CV]  max_depth=None, max_features=20, min_samples_split=500, n_estimators=50, score=0.9219291522766146, total= 1.2min\n",
      "[CV] max_depth=None, max_features=20, min_samples_split=500, n_estimators=100 \n",
      "[CV]  max_depth=None, max_features=20, min_samples_split=500, n_estimators=50, score=0.9222102047457961, total= 1.2min\n",
      "[CV] max_depth=None, max_features=20, min_samples_split=500, n_estimators=100 \n"
     ]
    },
    {
     "name": "stderr",
     "output_type": "stream",
     "text": [
      "[Parallel(n_jobs=3)]: Done 175 tasks      | elapsed: 79.5min\n"
     ]
    },
    {
     "name": "stdout",
     "output_type": "stream",
     "text": [
      "[CV]  max_depth=None, max_features=20, min_samples_split=500, n_estimators=100, score=0.9213457685650102, total= 2.1min\n",
      "[CV] max_depth=None, max_features=20, min_samples_split=500, n_estimators=100 \n",
      "[CV]  max_depth=None, max_features=20, min_samples_split=500, n_estimators=100, score=0.9199627127221807, total= 2.2min\n",
      "[CV] max_depth=None, max_features=20, min_samples_split=500, n_estimators=100 \n",
      "[CV]  max_depth=None, max_features=20, min_samples_split=500, n_estimators=100, score=0.9192292405365846, total= 2.0min\n",
      "[CV]  max_depth=None, max_features=20, min_samples_split=500, n_estimators=100, score=0.9216799612711895, total= 2.0min\n",
      "[CV]  max_depth=None, max_features=20, min_samples_split=500, n_estimators=100, score=0.9223398846635869, total= 1.9min\n"
     ]
    },
    {
     "name": "stderr",
     "output_type": "stream",
     "text": [
      "[Parallel(n_jobs=3)]: Done 180 out of 180 | elapsed: 82.8min finished\n"
     ]
    },
    {
     "name": "stdout",
     "output_type": "stream",
     "text": [
      "CPU times: user 5min 43s, sys: 9.42 s, total: 5min 53s\n",
      "Wall time: 1h 24min 2s\n"
     ]
    },
    {
     "data": {
      "text/plain": [
       "GridSearchCV(cv=StratifiedKFold(n_splits=5, random_state=30, shuffle=True),\n",
       "       error_score='raise',\n",
       "       estimator=RandomForestClassifier(bootstrap=True, class_weight=None, criterion='gini',\n",
       "            max_depth=None, max_features=5, max_leaf_nodes=None,\n",
       "            min_impurity_decrease=0.0, min_impurity_split=None,\n",
       "            min_samples_leaf=1, min_samples_split=150,\n",
       "            min_weight_fraction_leaf=0.0, n_estimators=100, n_jobs=3,\n",
       "            oob_score=False, random_state=None, verbose=0,\n",
       "            warm_start=False),\n",
       "       fit_params=None, iid=True, n_jobs=3,\n",
       "       param_grid={'n_estimators': [50, 100], 'max_depth': [10, None], 'max_features': [5, 10, 20], 'min_samples_split': [2, 100, 500]},\n",
       "       pre_dispatch='2*n_jobs', refit=True, return_train_score='warn',\n",
       "       scoring=make_scorer(roc_scorer_fun, needs_proba=True), verbose=10)"
      ]
     },
     "execution_count": 428,
     "metadata": {},
     "output_type": "execute_result"
    }
   ],
   "source": [
    "rf_param_grid = {'n_estimators': [50, 100], 'max_depth': [10, None],\n",
    "                 'max_features': [5, 10, 20], 'min_samples_split': [2, 100, 500]}\n",
    "\n",
    "rfgs = GridSearchCV(rf, rf_param_grid, scoring = roc_scorer, n_jobs=3, cv = folds, verbose=10)\n",
    "\n",
    "%time rfgs.fit(X_train, Y_train)"
   ]
  },
  {
   "cell_type": "code",
   "execution_count": 429,
   "metadata": {},
   "outputs": [
    {
     "data": {
      "text/plain": [
       "{'max_depth': None,\n",
       " 'max_features': 20,\n",
       " 'min_samples_split': 2,\n",
       " 'n_estimators': 100}"
      ]
     },
     "execution_count": 429,
     "metadata": {},
     "output_type": "execute_result"
    },
    {
     "data": {
      "text/plain": [
       "0.965051516556883"
      ]
     },
     "execution_count": 429,
     "metadata": {},
     "output_type": "execute_result"
    }
   ],
   "source": [
    "rfgs.best_params_\n",
    "rfgs.best_score_"
   ]
  },
  {
   "cell_type": "code",
   "execution_count": 505,
   "metadata": {},
   "outputs": [
    {
     "data": {
      "text/plain": [
       "[mean: 0.96542, std: 0.00117, params: {'max_depth': None, 'max_features': 20, 'min_samples_split': 2, 'n_estimators': 100},\n",
       " mean: 0.96267, std: 0.00076, params: {'max_depth': None, 'max_features': 20, 'min_samples_split': 2, 'n_estimators': 50},\n",
       " mean: 0.96126, std: 0.00107, params: {'max_depth': None, 'max_features': 10, 'min_samples_split': 2, 'n_estimators': 100},\n",
       " mean: 0.95920, std: 0.00079, params: {'max_depth': None, 'max_features': 5, 'min_samples_split': 2, 'n_estimators': 100},\n",
       " mean: 0.95802, std: 0.00119, params: {'max_depth': None, 'max_features': 10, 'min_samples_split': 2, 'n_estimators': 50},\n",
       " mean: 0.95599, std: 0.00082, params: {'max_depth': None, 'max_features': 5, 'min_samples_split': 2, 'n_estimators': 50},\n",
       " mean: 0.95056, std: 0.00099, params: {'max_depth': None, 'max_features': 20, 'min_samples_split': 100, 'n_estimators': 100},\n",
       " mean: 0.95005, std: 0.00132, params: {'max_depth': None, 'max_features': 20, 'min_samples_split': 100, 'n_estimators': 50},\n",
       " mean: 0.94401, std: 0.00111, params: {'max_depth': None, 'max_features': 10, 'min_samples_split': 100, 'n_estimators': 100},\n",
       " mean: 0.94294, std: 0.00132, params: {'max_depth': None, 'max_features': 10, 'min_samples_split': 100, 'n_estimators': 50},\n",
       " mean: 0.94106, std: 0.00112, params: {'max_depth': None, 'max_features': 5, 'min_samples_split': 100, 'n_estimators': 100},\n",
       " mean: 0.93938, std: 0.00032, params: {'max_depth': None, 'max_features': 5, 'min_samples_split': 100, 'n_estimators': 50},\n",
       " mean: 0.92075, std: 0.00105, params: {'max_depth': None, 'max_features': 20, 'min_samples_split': 500, 'n_estimators': 100},\n",
       " mean: 0.92057, std: 0.00096, params: {'max_depth': None, 'max_features': 20, 'min_samples_split': 500, 'n_estimators': 50},\n",
       " mean: 0.91264, std: 0.00109, params: {'max_depth': None, 'max_features': 10, 'min_samples_split': 500, 'n_estimators': 100},\n",
       " mean: 0.91140, std: 0.00137, params: {'max_depth': None, 'max_features': 10, 'min_samples_split': 500, 'n_estimators': 50},\n",
       " mean: 0.90758, std: 0.00098, params: {'max_depth': None, 'max_features': 5, 'min_samples_split': 500, 'n_estimators': 100},\n",
       " mean: 0.90676, std: 0.00146, params: {'max_depth': None, 'max_features': 5, 'min_samples_split': 500, 'n_estimators': 50},\n",
       " mean: 0.87291, std: 0.00095, params: {'max_depth': 10, 'max_features': 20, 'min_samples_split': 2, 'n_estimators': 100},\n",
       " mean: 0.87163, std: 0.00193, params: {'max_depth': 10, 'max_features': 20, 'min_samples_split': 2, 'n_estimators': 50},\n",
       " mean: 0.87056, std: 0.00137, params: {'max_depth': 10, 'max_features': 20, 'min_samples_split': 100, 'n_estimators': 100},\n",
       " mean: 0.86811, std: 0.00137, params: {'max_depth': 10, 'max_features': 20, 'min_samples_split': 100, 'n_estimators': 50},\n",
       " mean: 0.86353, std: 0.00137, params: {'max_depth': 10, 'max_features': 20, 'min_samples_split': 500, 'n_estimators': 100},\n",
       " mean: 0.86231, std: 0.00140, params: {'max_depth': 10, 'max_features': 20, 'min_samples_split': 500, 'n_estimators': 50},\n",
       " mean: 0.85825, std: 0.00168, params: {'max_depth': 10, 'max_features': 10, 'min_samples_split': 2, 'n_estimators': 100},\n",
       " mean: 0.85752, std: 0.00231, params: {'max_depth': 10, 'max_features': 10, 'min_samples_split': 2, 'n_estimators': 50},\n",
       " mean: 0.85303, std: 0.00146, params: {'max_depth': 10, 'max_features': 10, 'min_samples_split': 100, 'n_estimators': 100},\n",
       " mean: 0.85191, std: 0.00144, params: {'max_depth': 10, 'max_features': 10, 'min_samples_split': 100, 'n_estimators': 50},\n",
       " mean: 0.84906, std: 0.00179, params: {'max_depth': 10, 'max_features': 5, 'min_samples_split': 2, 'n_estimators': 100},\n",
       " mean: 0.84805, std: 0.00107, params: {'max_depth': 10, 'max_features': 10, 'min_samples_split': 500, 'n_estimators': 100},\n",
       " mean: 0.84697, std: 0.00178, params: {'max_depth': 10, 'max_features': 10, 'min_samples_split': 500, 'n_estimators': 50},\n",
       " mean: 0.84496, std: 0.00229, params: {'max_depth': 10, 'max_features': 5, 'min_samples_split': 100, 'n_estimators': 100},\n",
       " mean: 0.84409, std: 0.00338, params: {'max_depth': 10, 'max_features': 5, 'min_samples_split': 2, 'n_estimators': 50},\n",
       " mean: 0.84153, std: 0.00201, params: {'max_depth': 10, 'max_features': 5, 'min_samples_split': 100, 'n_estimators': 50},\n",
       " mean: 0.83709, std: 0.00091, params: {'max_depth': 10, 'max_features': 5, 'min_samples_split': 500, 'n_estimators': 50},\n",
       " mean: 0.83708, std: 0.00129, params: {'max_depth': 10, 'max_features': 5, 'min_samples_split': 500, 'n_estimators': 100}]"
      ]
     },
     "execution_count": 505,
     "metadata": {},
     "output_type": "execute_result"
    }
   ],
   "source": [
    "sorted(rfgs.grid_scores_, key=lambda x: x.mean_validation_score, reverse=True)"
   ]
  },
  {
   "cell_type": "code",
   "execution_count": 624,
   "metadata": {},
   "outputs": [
    {
     "data": {
      "text/html": [
       "<div>\n",
       "<style scoped>\n",
       "    .dataframe tbody tr th:only-of-type {\n",
       "        vertical-align: middle;\n",
       "    }\n",
       "\n",
       "    .dataframe tbody tr th {\n",
       "        vertical-align: top;\n",
       "    }\n",
       "\n",
       "    .dataframe thead th {\n",
       "        text-align: right;\n",
       "    }\n",
       "</style>\n",
       "<table border=\"1\" class=\"dataframe\">\n",
       "  <thead>\n",
       "    <tr style=\"text-align: right;\">\n",
       "      <th></th>\n",
       "      <th>parameters</th>\n",
       "      <th>mean_validation_score</th>\n",
       "      <th>cv_validation_scores</th>\n",
       "    </tr>\n",
       "  </thead>\n",
       "  <tbody>\n",
       "    <tr>\n",
       "      <th>31</th>\n",
       "      <td>{'max_depth': None, 'max_features': 20, 'min_s...</td>\n",
       "      <td>0.965416</td>\n",
       "      <td>[0.9658657084181631, 0.9644230475184996, 0.963...</td>\n",
       "    </tr>\n",
       "    <tr>\n",
       "      <th>30</th>\n",
       "      <td>{'max_depth': None, 'max_features': 20, 'min_s...</td>\n",
       "      <td>0.962673</td>\n",
       "      <td>[0.9633017352728734, 0.9623758489078483, 0.961...</td>\n",
       "    </tr>\n",
       "    <tr>\n",
       "      <th>25</th>\n",
       "      <td>{'max_depth': None, 'max_features': 10, 'min_s...</td>\n",
       "      <td>0.961261</td>\n",
       "      <td>[0.9610755670881176, 0.9602809526439913, 0.960...</td>\n",
       "    </tr>\n",
       "    <tr>\n",
       "      <th>19</th>\n",
       "      <td>{'max_depth': None, 'max_features': 5, 'min_sa...</td>\n",
       "      <td>0.959196</td>\n",
       "      <td>[0.9591606489719672, 0.958460458966306, 0.9581...</td>\n",
       "    </tr>\n",
       "    <tr>\n",
       "      <th>24</th>\n",
       "      <td>{'max_depth': None, 'max_features': 10, 'min_s...</td>\n",
       "      <td>0.958015</td>\n",
       "      <td>[0.9590838109564086, 0.9571350120977182, 0.956...</td>\n",
       "    </tr>\n",
       "  </tbody>\n",
       "</table>\n",
       "</div>"
      ],
      "text/plain": [
       "                                           parameters  mean_validation_score  \\\n",
       "31  {'max_depth': None, 'max_features': 20, 'min_s...               0.965416   \n",
       "30  {'max_depth': None, 'max_features': 20, 'min_s...               0.962673   \n",
       "25  {'max_depth': None, 'max_features': 10, 'min_s...               0.961261   \n",
       "19  {'max_depth': None, 'max_features': 5, 'min_sa...               0.959196   \n",
       "24  {'max_depth': None, 'max_features': 10, 'min_s...               0.958015   \n",
       "\n",
       "                                 cv_validation_scores  \n",
       "31  [0.9658657084181631, 0.9644230475184996, 0.963...  \n",
       "30  [0.9633017352728734, 0.9623758489078483, 0.961...  \n",
       "25  [0.9610755670881176, 0.9602809526439913, 0.960...  \n",
       "19  [0.9591606489719672, 0.958460458966306, 0.9581...  \n",
       "24  [0.9590838109564086, 0.9571350120977182, 0.956...  "
      ]
     },
     "execution_count": 624,
     "metadata": {},
     "output_type": "execute_result"
    }
   ],
   "source": [
    "rfgs_df = pd.DataFrame(rfgs.grid_scores_).sort_values(by='mean_validation_score', ascending=False)\n",
    "rfgs_df.head()"
   ]
  },
  {
   "cell_type": "code",
   "execution_count": 645,
   "metadata": {},
   "outputs": [
    {
     "name": "stdout",
     "output_type": "stream",
     "text": [
      "0 {'max_depth': None, 'max_features': 20, 'min_samples_split': 2, 'n_estimators': 100}\n",
      "CPU times: user 3min 40s, sys: 7.59 s, total: 3min 48s\n",
      "Wall time: 1min 21s\n",
      "TRAINING 0.9998437259130719\n",
      "HOLDOUT 0.8617461282596466\n",
      "5 {'max_depth': None, 'max_features': 5, 'min_samples_split': 2, 'n_estimators': 50}\n",
      "CPU times: user 1min 17s, sys: 4.86 s, total: 1min 22s\n",
      "Wall time: 30.6 s\n",
      "TRAINING 0.9998161159518907\n",
      "HOLDOUT 0.8481057117003131\n",
      "10 {'max_depth': None, 'max_features': 5, 'min_samples_split': 100, 'n_estimators': 100}\n",
      "CPU times: user 2min 1s, sys: 7.94 s, total: 2min 9s\n",
      "Wall time: 43.7 s\n",
      "TRAINING 0.9643301984103325\n",
      "HOLDOUT 0.8719621035144217\n",
      "15 {'max_depth': None, 'max_features': 10, 'min_samples_split': 500, 'n_estimators': 50}\n",
      "CPU times: user 1min 14s, sys: 3.69 s, total: 1min 18s\n",
      "Wall time: 31.3 s\n",
      "TRAINING 0.9248139496051679\n",
      "HOLDOUT 0.8599669130560194\n",
      "20 {'max_depth': 10, 'max_features': 20, 'min_samples_split': 100, 'n_estimators': 100}\n",
      "CPU times: user 2min 2s, sys: 7.52 s, total: 2min 9s\n",
      "Wall time: 43.6 s\n",
      "TRAINING 0.871963799932722\n",
      "HOLDOUT 0.8272405865704235\n",
      "25 {'max_depth': 10, 'max_features': 10, 'min_samples_split': 2, 'n_estimators': 50}\n",
      "CPU times: user 43.7 s, sys: 3.78 s, total: 47.4 s\n",
      "Wall time: 20.8 s\n",
      "TRAINING 0.8605144014729975\n",
      "HOLDOUT 0.8145655217846727\n",
      "30 {'max_depth': 10, 'max_features': 10, 'min_samples_split': 500, 'n_estimators': 50}\n",
      "CPU times: user 43.7 s, sys: 4.37 s, total: 48 s\n",
      "Wall time: 19.2 s\n",
      "TRAINING 0.8495971567428323\n",
      "HOLDOUT 0.8124099181881486\n",
      "35 {'max_depth': 10, 'max_features': 5, 'min_samples_split': 500, 'n_estimators': 100}\n",
      "CPU times: user 53.1 s, sys: 7.91 s, total: 1min\n",
      "Wall time: 23.6 s\n",
      "TRAINING 0.8398989007461778\n",
      "HOLDOUT 0.8053246955272911\n"
     ]
    }
   ],
   "source": [
    "rf_i = RandomForestClassifier(n_jobs=3)\n",
    "\n",
    "rfgs_df['training_AUC'], rfgs_df['holdout_AUC'] = np.NaN, np.NaN\n",
    "\n",
    "for i in range(0, len(rfgs_df), 5):\n",
    "    params = rfgs_df.iloc[i, 0]\n",
    "    print(i, params)\n",
    "    _ = rf_i.set_params(**params)\n",
    "    %time _ = rf_i.fit(X_train, Y_train)\n",
    "    \n",
    "    training_AUC = roc_scorer_fun(Y_train, rf_i.predict_proba(X_train))\n",
    "    holdout_AUC = roc_scorer_fun(Y_holdout, rf_i.predict_proba(X_holdout))\n",
    "    \n",
    "    print('TRAINING', training_AUC)\n",
    "    print('HOLDOUT', holdout_AUC)\n",
    "    \n",
    "    rfgs_df.iloc[i, 3] = training_AUC\n",
    "    rfgs_df.iloc[i, 4] = holdout_AUC"
   ]
  },
  {
   "cell_type": "code",
   "execution_count": 652,
   "metadata": {},
   "outputs": [
    {
     "data": {
      "text/html": [
       "<div>\n",
       "<style scoped>\n",
       "    .dataframe tbody tr th:only-of-type {\n",
       "        vertical-align: middle;\n",
       "    }\n",
       "\n",
       "    .dataframe tbody tr th {\n",
       "        vertical-align: top;\n",
       "    }\n",
       "\n",
       "    .dataframe thead th {\n",
       "        text-align: right;\n",
       "    }\n",
       "</style>\n",
       "<table border=\"1\" class=\"dataframe\">\n",
       "  <thead>\n",
       "    <tr style=\"text-align: right;\">\n",
       "      <th></th>\n",
       "      <th>index</th>\n",
       "      <th>parameters</th>\n",
       "      <th>mean_validation_score</th>\n",
       "      <th>cv_validation_scores</th>\n",
       "      <th>training_AUC</th>\n",
       "      <th>holdout_AUC</th>\n",
       "    </tr>\n",
       "  </thead>\n",
       "  <tbody>\n",
       "    <tr>\n",
       "      <th>0</th>\n",
       "      <td>31</td>\n",
       "      <td>{'max_depth': None, 'max_features': 20, 'min_s...</td>\n",
       "      <td>0.965416</td>\n",
       "      <td>[0.9658657084181631, 0.9644230475184996, 0.963...</td>\n",
       "      <td>0.999844</td>\n",
       "      <td>0.861746</td>\n",
       "    </tr>\n",
       "    <tr>\n",
       "      <th>1</th>\n",
       "      <td>30</td>\n",
       "      <td>{'max_depth': None, 'max_features': 20, 'min_s...</td>\n",
       "      <td>0.962673</td>\n",
       "      <td>[0.9633017352728734, 0.9623758489078483, 0.961...</td>\n",
       "      <td>NaN</td>\n",
       "      <td>NaN</td>\n",
       "    </tr>\n",
       "    <tr>\n",
       "      <th>2</th>\n",
       "      <td>25</td>\n",
       "      <td>{'max_depth': None, 'max_features': 10, 'min_s...</td>\n",
       "      <td>0.961261</td>\n",
       "      <td>[0.9610755670881176, 0.9602809526439913, 0.960...</td>\n",
       "      <td>NaN</td>\n",
       "      <td>NaN</td>\n",
       "    </tr>\n",
       "    <tr>\n",
       "      <th>3</th>\n",
       "      <td>19</td>\n",
       "      <td>{'max_depth': None, 'max_features': 5, 'min_sa...</td>\n",
       "      <td>0.959196</td>\n",
       "      <td>[0.9591606489719672, 0.958460458966306, 0.9581...</td>\n",
       "      <td>NaN</td>\n",
       "      <td>NaN</td>\n",
       "    </tr>\n",
       "    <tr>\n",
       "      <th>4</th>\n",
       "      <td>24</td>\n",
       "      <td>{'max_depth': None, 'max_features': 10, 'min_s...</td>\n",
       "      <td>0.958015</td>\n",
       "      <td>[0.9590838109564086, 0.9571350120977182, 0.956...</td>\n",
       "      <td>NaN</td>\n",
       "      <td>NaN</td>\n",
       "    </tr>\n",
       "  </tbody>\n",
       "</table>\n",
       "</div>"
      ],
      "text/plain": [
       "   index                                         parameters  \\\n",
       "0     31  {'max_depth': None, 'max_features': 20, 'min_s...   \n",
       "1     30  {'max_depth': None, 'max_features': 20, 'min_s...   \n",
       "2     25  {'max_depth': None, 'max_features': 10, 'min_s...   \n",
       "3     19  {'max_depth': None, 'max_features': 5, 'min_sa...   \n",
       "4     24  {'max_depth': None, 'max_features': 10, 'min_s...   \n",
       "\n",
       "   mean_validation_score                               cv_validation_scores  \\\n",
       "0               0.965416  [0.9658657084181631, 0.9644230475184996, 0.963...   \n",
       "1               0.962673  [0.9633017352728734, 0.9623758489078483, 0.961...   \n",
       "2               0.961261  [0.9610755670881176, 0.9602809526439913, 0.960...   \n",
       "3               0.959196  [0.9591606489719672, 0.958460458966306, 0.9581...   \n",
       "4               0.958015  [0.9590838109564086, 0.9571350120977182, 0.956...   \n",
       "\n",
       "   training_AUC  holdout_AUC  \n",
       "0      0.999844     0.861746  \n",
       "1           NaN          NaN  \n",
       "2           NaN          NaN  \n",
       "3           NaN          NaN  \n",
       "4           NaN          NaN  "
      ]
     },
     "execution_count": 652,
     "metadata": {},
     "output_type": "execute_result"
    }
   ],
   "source": [
    "rfgs_df = rfgs_df.reset_index()\n",
    "rfgs_df.head()"
   ]
  },
  {
   "cell_type": "code",
   "execution_count": 679,
   "metadata": {},
   "outputs": [],
   "source": [
    "rfgs_df = rfgs_df.rename(index=str, columns={'mean_validation_score': 'Cross Validation',\n",
    "                                   'training_AUC': 'Training', 'holdout_AUC': 'Holdout'})"
   ]
  },
  {
   "cell_type": "code",
   "execution_count": 680,
   "metadata": {},
   "outputs": [
    {
     "data": {
      "text/html": [
       "<div>\n",
       "<style scoped>\n",
       "    .dataframe tbody tr th:only-of-type {\n",
       "        vertical-align: middle;\n",
       "    }\n",
       "\n",
       "    .dataframe tbody tr th {\n",
       "        vertical-align: top;\n",
       "    }\n",
       "\n",
       "    .dataframe thead th {\n",
       "        text-align: right;\n",
       "    }\n",
       "</style>\n",
       "<table border=\"1\" class=\"dataframe\">\n",
       "  <thead>\n",
       "    <tr style=\"text-align: right;\">\n",
       "      <th></th>\n",
       "      <th>parameters</th>\n",
       "      <th>cv_validation_scores</th>\n",
       "      <th>index</th>\n",
       "      <th>variable</th>\n",
       "      <th>value</th>\n",
       "    </tr>\n",
       "  </thead>\n",
       "  <tbody>\n",
       "    <tr>\n",
       "      <th>0</th>\n",
       "      <td>{'max_depth': None, 'max_features': 20, 'min_s...</td>\n",
       "      <td>[0.9658657084181631, 0.9644230475184996, 0.963...</td>\n",
       "      <td>31</td>\n",
       "      <td>Cross Validation</td>\n",
       "      <td>0.965416</td>\n",
       "    </tr>\n",
       "    <tr>\n",
       "      <th>1</th>\n",
       "      <td>{'max_depth': None, 'max_features': 5, 'min_sa...</td>\n",
       "      <td>[0.957163266693154, 0.9553151109675565, 0.9548...</td>\n",
       "      <td>18</td>\n",
       "      <td>Cross Validation</td>\n",
       "      <td>0.955991</td>\n",
       "    </tr>\n",
       "    <tr>\n",
       "      <th>2</th>\n",
       "      <td>{'max_depth': None, 'max_features': 5, 'min_sa...</td>\n",
       "      <td>[0.9406871752606807, 0.9408243395853735, 0.939...</td>\n",
       "      <td>21</td>\n",
       "      <td>Cross Validation</td>\n",
       "      <td>0.941063</td>\n",
       "    </tr>\n",
       "    <tr>\n",
       "      <th>3</th>\n",
       "      <td>{'max_depth': None, 'max_features': 10, 'min_s...</td>\n",
       "      <td>[0.9118057587038397, 0.9117033109654739, 0.909...</td>\n",
       "      <td>28</td>\n",
       "      <td>Cross Validation</td>\n",
       "      <td>0.911395</td>\n",
       "    </tr>\n",
       "    <tr>\n",
       "      <th>4</th>\n",
       "      <td>{'max_depth': 10, 'max_features': 20, 'min_sam...</td>\n",
       "      <td>[0.8711177406901793, 0.8690443593992866, 0.868...</td>\n",
       "      <td>15</td>\n",
       "      <td>Cross Validation</td>\n",
       "      <td>0.870562</td>\n",
       "    </tr>\n",
       "  </tbody>\n",
       "</table>\n",
       "</div>"
      ],
      "text/plain": [
       "                                          parameters  \\\n",
       "0  {'max_depth': None, 'max_features': 20, 'min_s...   \n",
       "1  {'max_depth': None, 'max_features': 5, 'min_sa...   \n",
       "2  {'max_depth': None, 'max_features': 5, 'min_sa...   \n",
       "3  {'max_depth': None, 'max_features': 10, 'min_s...   \n",
       "4  {'max_depth': 10, 'max_features': 20, 'min_sam...   \n",
       "\n",
       "                                cv_validation_scores  index          variable  \\\n",
       "0  [0.9658657084181631, 0.9644230475184996, 0.963...     31  Cross Validation   \n",
       "1  [0.957163266693154, 0.9553151109675565, 0.9548...     18  Cross Validation   \n",
       "2  [0.9406871752606807, 0.9408243395853735, 0.939...     21  Cross Validation   \n",
       "3  [0.9118057587038397, 0.9117033109654739, 0.909...     28  Cross Validation   \n",
       "4  [0.8711177406901793, 0.8690443593992866, 0.868...     15  Cross Validation   \n",
       "\n",
       "      value  \n",
       "0  0.965416  \n",
       "1  0.955991  \n",
       "2  0.941063  \n",
       "3  0.911395  \n",
       "4  0.870562  "
      ]
     },
     "execution_count": 680,
     "metadata": {},
     "output_type": "execute_result"
    }
   ],
   "source": [
    "rfgs_df2 = rfgs_df[rfgs_df['Training'].notnull()].melt(id_vars=['parameters', 'cv_validation_scores', 'index'])\n",
    "rfgs_df2.head()"
   ]
  },
  {
   "cell_type": "code",
   "execution_count": 681,
   "metadata": {},
   "outputs": [],
   "source": [
    "order_rfgs = rfgs_df[rfgs_df['Training'].notnull()].sort_values('Training', ascending=False)['index'].tolist()"
   ]
  },
  {
   "cell_type": "code",
   "execution_count": 691,
   "metadata": {},
   "outputs": [
    {
     "data": {
      "text/plain": [
       "<matplotlib.axes._subplots.AxesSubplot at 0x185d55a58>"
      ]
     },
     "execution_count": 691,
     "metadata": {},
     "output_type": "execute_result"
    },
    {
     "data": {
      "text/plain": [
       "([], <a list of 0 Text xticklabel objects>)"
      ]
     },
     "execution_count": 691,
     "metadata": {},
     "output_type": "execute_result"
    },
    {
     "data": {
      "text/plain": [
       "Text(0.5,0,'')"
      ]
     },
     "execution_count": 691,
     "metadata": {},
     "output_type": "execute_result"
    },
    {
     "data": {
      "text/plain": [
       "Text(0,0.5,'AUC')"
      ]
     },
     "execution_count": 691,
     "metadata": {},
     "output_type": "execute_result"
    },
    {
     "data": {
      "text/plain": [
       "<matplotlib.legend.Legend at 0x1858218d0>"
      ]
     },
     "execution_count": 691,
     "metadata": {},
     "output_type": "execute_result"
    },
    {
     "data": {
      "text/plain": [
       "(0.5, 1)"
      ]
     },
     "execution_count": 691,
     "metadata": {},
     "output_type": "execute_result"
    },
    {
     "data": {
      "text/plain": [
       "Text(0.5,1,'Random Forest Model Performance')"
      ]
     },
     "execution_count": 691,
     "metadata": {},
     "output_type": "execute_result"
    },
    {
     "data": {
      "image/png": "[encoded data removed]",
      "text/plain": [
       "<Figure size 432x288 with 1 Axes>"
      ]
     },
     "metadata": {},
     "output_type": "display_data"
    }
   ],
   "source": [
    "sns.barplot(data = rfgs_df2, x = 'index', y = 'value', hue = 'variable', order = order_rfgs,\n",
    "            hue_order = ['Training', 'Cross Validation', 'Holdout'])\n",
    "plt.xticks([])\n",
    "plt.xlabel('')\n",
    "plt.ylabel('AUC')\n",
    "plt.legend(title='')\n",
    "plt.ylim(0.5, 1)\n",
    "plt.title('Random Forest Model Performance')\n",
    "plt.savefig('figures/random_forest_models.png', dpi=200, bbox='tight', figsize=(4,4))"
   ]
  },
  {
   "cell_type": "code",
   "execution_count": 702,
   "metadata": {},
   "outputs": [],
   "source": [
    "rf_not_overfit_proba = rf.predict_proba(X_train)[:,1]\n",
    "rf_overfit_proba = rf_grid_tuned.predict_proba(X_train)[:,1]"
   ]
  },
  {
   "cell_type": "code",
   "execution_count": 726,
   "metadata": {},
   "outputs": [
    {
     "data": {
      "text/plain": [
       "<matplotlib.legend.Legend at 0x21bdbb2b0>"
      ]
     },
     "execution_count": 726,
     "metadata": {},
     "output_type": "execute_result"
    },
    {
     "data": {
      "text/plain": [
       "<matplotlib.legend.Legend at 0x1ad0ffda0>"
      ]
     },
     "execution_count": 726,
     "metadata": {},
     "output_type": "execute_result"
    },
    {
     "data": {
      "text/plain": [
       "[]"
      ]
     },
     "execution_count": 726,
     "metadata": {},
     "output_type": "execute_result"
    },
    {
     "data": {
      "text/plain": [
       "[]"
      ]
     },
     "execution_count": 726,
     "metadata": {},
     "output_type": "execute_result"
    },
    {
     "data": {
      "text/plain": [
       "Text(0.5,0,'Predicted Probability')"
      ]
     },
     "execution_count": 726,
     "metadata": {},
     "output_type": "execute_result"
    },
    {
     "data": {
      "text/plain": [
       "Text(0.5,1,'Predicted Probability Distributions (Training)')"
      ]
     },
     "execution_count": 726,
     "metadata": {},
     "output_type": "execute_result"
    },
    {
     "data": {
      "text/plain": [
       "Text(0,0.5,'Observation Density')"
      ]
     },
     "execution_count": 726,
     "metadata": {},
     "output_type": "execute_result"
    },
    {
     "data": {
      "image/png": "[encoded data removed]",
      "text/plain": [
       "<Figure size 432x288 with 2 Axes>"
      ]
     },
     "metadata": {},
     "output_type": "display_data"
    }
   ],
   "source": [
    "fig, ax = plt.subplots(1)\n",
    "nof = sns.distplot(rf_not_overfit_proba, hist=False, label='Not Overfit Model', ax=ax)\n",
    "ax2 = ax.twinx()\n",
    "of = sns.distplot(rf_overfit_proba, ax=ax2, hist=False, label='Overfit Model', color='r')\n",
    "\n",
    "lines0, labels0 = nof.get_legend_handles_labels()\n",
    "lines1, labels1 = of.get_legend_handles_labels()\n",
    "ax.legend(lines0 + lines1, labels0 + labels1, loc=10)\n",
    "ax2.legend('')\n",
    "\n",
    "ax.set_yticks([])\n",
    "ax2.set_yticks([])\n",
    "ax.set_xlabel('Predicted Probability')\n",
    "ax.set_title('Predicted Probability Distributions (Training)')\n",
    "ax.set_ylabel('Observation Density')\n",
    "\n",
    "plt.savefig('figures/random_forest_probability_dists.png', dpi=200, bbox='tight', figsize=(4,4))"
   ]
  },
  {
   "cell_type": "code",
   "execution_count": 718,
   "metadata": {},
   "outputs": [
    {
     "data": {
      "text/plain": [
       "([<matplotlib.lines.Line2D at 0x19988c908>], ['Not Overfit Model'])"
      ]
     },
     "execution_count": 718,
     "metadata": {},
     "output_type": "execute_result"
    }
   ],
   "source": []
  },
  {
   "cell_type": "code",
   "execution_count": 623,
   "metadata": {},
   "outputs": [
    {
     "data": {
      "text/plain": [
       "RandomForestClassifier(bootstrap=True, class_weight=None, criterion='gini',\n",
       "            max_depth=5, max_features=25, max_leaf_nodes=None,\n",
       "            min_impurity_decrease=0.0, min_impurity_split=None,\n",
       "            min_samples_leaf=1, min_samples_split=150,\n",
       "            min_weight_fraction_leaf=0.0, n_estimators=100, n_jobs=3,\n",
       "            oob_score=False, random_state=None, verbose=0,\n",
       "            warm_start=False)"
      ]
     },
     "execution_count": 623,
     "metadata": {},
     "output_type": "execute_result"
    }
   ],
   "source": [
    "rfgs."
   ]
  },
  {
   "cell_type": "code",
   "execution_count": 440,
   "metadata": {},
   "outputs": [
    {
     "data": {
      "text/plain": [
       "RandomForestClassifier(bootstrap=True, class_weight=None, criterion='gini',\n",
       "            max_depth=None, max_features=20, max_leaf_nodes=None,\n",
       "            min_impurity_decrease=0.0, min_impurity_split=None,\n",
       "            min_samples_leaf=1, min_samples_split=2,\n",
       "            min_weight_fraction_leaf=0.0, n_estimators=100, n_jobs=3,\n",
       "            oob_score=False, random_state=None, verbose=0,\n",
       "            warm_start=False)"
      ]
     },
     "execution_count": 440,
     "metadata": {},
     "output_type": "execute_result"
    }
   ],
   "source": [
    "rf_grid_tuned = rfgs.best_estimator_\n",
    "rf_grid_tuned.fit(X_train, Y_train)"
   ]
  },
  {
   "cell_type": "code",
   "execution_count": 442,
   "metadata": {},
   "outputs": [
    {
     "data": {
      "text/plain": [
       "0.9998432580147523"
      ]
     },
     "execution_count": 442,
     "metadata": {},
     "output_type": "execute_result"
    },
    {
     "data": {
      "text/plain": [
       "0.8625327312403368"
      ]
     },
     "execution_count": 442,
     "metadata": {},
     "output_type": "execute_result"
    }
   ],
   "source": [
    "roc_scorer_fun(Y_train, rf_grid_tuned.predict_proba(X_train))\n",
    "roc_scorer_fun(Y_holdout, rf_grid_tuned.predict_proba(X_holdout))"
   ]
  },
  {
   "cell_type": "code",
   "execution_count": 447,
   "metadata": {},
   "outputs": [
    {
     "data": {
      "text/plain": [
       "<matplotlib.axes._subplots.AxesSubplot at 0x1b7e5b2b0>"
      ]
     },
     "execution_count": 447,
     "metadata": {},
     "output_type": "execute_result"
    },
    {
     "data": {
      "image/png": "[encoded data removed]",
      "text/plain": [
       "<Figure size 432x288 with 1 Axes>"
      ]
     },
     "metadata": {},
     "output_type": "display_data"
    }
   ],
   "source": [
    "sns.distplot(rf_grid_tuned.predict_proba(X_train)[:, 1])"
   ]
  },
  {
   "cell_type": "code",
   "execution_count": 455,
   "metadata": {},
   "outputs": [
    {
     "data": {
      "text/html": [
       "<div>\n",
       "<style scoped>\n",
       "    .dataframe tbody tr th:only-of-type {\n",
       "        vertical-align: middle;\n",
       "    }\n",
       "\n",
       "    .dataframe tbody tr th {\n",
       "        vertical-align: top;\n",
       "    }\n",
       "\n",
       "    .dataframe thead th {\n",
       "        text-align: right;\n",
       "    }\n",
       "</style>\n",
       "<table border=\"1\" class=\"dataframe\">\n",
       "  <thead>\n",
       "    <tr style=\"text-align: right;\">\n",
       "      <th></th>\n",
       "      <th>proba</th>\n",
       "      <th>truth</th>\n",
       "    </tr>\n",
       "  </thead>\n",
       "  <tbody>\n",
       "    <tr>\n",
       "      <th>123</th>\n",
       "      <td>(-0.001, 0.1]</td>\n",
       "      <td>0</td>\n",
       "    </tr>\n",
       "    <tr>\n",
       "      <th>124</th>\n",
       "      <td>(-0.001, 0.1]</td>\n",
       "      <td>0</td>\n",
       "    </tr>\n",
       "    <tr>\n",
       "      <th>125</th>\n",
       "      <td>(-0.001, 0.1]</td>\n",
       "      <td>0</td>\n",
       "    </tr>\n",
       "    <tr>\n",
       "      <th>239</th>\n",
       "      <td>(-0.001, 0.1]</td>\n",
       "      <td>0</td>\n",
       "    </tr>\n",
       "    <tr>\n",
       "      <th>240</th>\n",
       "      <td>(-0.001, 0.1]</td>\n",
       "      <td>0</td>\n",
       "    </tr>\n",
       "  </tbody>\n",
       "</table>\n",
       "</div>"
      ],
      "text/plain": [
       "             proba  truth\n",
       "123  (-0.001, 0.1]      0\n",
       "124  (-0.001, 0.1]      0\n",
       "125  (-0.001, 0.1]      0\n",
       "239  (-0.001, 0.1]      0\n",
       "240  (-0.001, 0.1]      0"
      ]
     },
     "execution_count": 455,
     "metadata": {},
     "output_type": "execute_result"
    }
   ],
   "source": [
    "ev = pd.DataFrame({'proba': pd.cut(rf_grid_tuned.predict_proba(X_holdout)[:, 1], bins=10), 'truth': Y_holdout})\n",
    "ev.head()"
   ]
  },
  {
   "cell_type": "code",
   "execution_count": 456,
   "metadata": {},
   "outputs": [
    {
     "data": {
      "text/plain": [
       "<matplotlib.axes._subplots.AxesSubplot at 0x174aec470>"
      ]
     },
     "execution_count": 456,
     "metadata": {},
     "output_type": "execute_result"
    },
    {
     "data": {
      "image/png": "[encoded data removed]",
      "text/plain": [
       "<Figure size 432x288 with 1 Axes>"
      ]
     },
     "metadata": {},
     "output_type": "display_data"
    }
   ],
   "source": [
    "ev.groupby('proba').truth.mean().plot.bar()"
   ]
  },
  {
   "cell_type": "markdown",
   "metadata": {},
   "source": [
    "# Gradient Boosting"
   ]
  },
  {
   "cell_type": "code",
   "execution_count": 409,
   "metadata": {},
   "outputs": [],
   "source": [
    "from sklearn.ensemble import GradientBoostingClassifier"
   ]
  },
  {
   "cell_type": "code",
   "execution_count": 417,
   "metadata": {},
   "outputs": [],
   "source": [
    "gb = GradientBoostingClassifier(n_estimators=10, learning_rate = 0.5)"
   ]
  },
  {
   "cell_type": "code",
   "execution_count": 418,
   "metadata": {},
   "outputs": [
    {
     "name": "stdout",
     "output_type": "stream",
     "text": [
      "CPU times: user 42.1 s, sys: 2.13 s, total: 44.2 s\n",
      "Wall time: 46 s\n"
     ]
    },
    {
     "data": {
      "text/plain": [
       "GradientBoostingClassifier(criterion='friedman_mse', init=None,\n",
       "              learning_rate=0.5, loss='deviance', max_depth=3,\n",
       "              max_features=None, max_leaf_nodes=None,\n",
       "              min_impurity_decrease=0.0, min_impurity_split=None,\n",
       "              min_samples_leaf=1, min_samples_split=2,\n",
       "              min_weight_fraction_leaf=0.0, n_estimators=10,\n",
       "              presort='auto', random_state=None, subsample=1.0, verbose=0,\n",
       "              warm_start=False)"
      ]
     },
     "execution_count": 418,
     "metadata": {},
     "output_type": "execute_result"
    }
   ],
   "source": [
    "%time gb.fit(X_train, Y_train)"
   ]
  },
  {
   "cell_type": "code",
   "execution_count": 419,
   "metadata": {},
   "outputs": [
    {
     "data": {
      "text/plain": [
       "0.8244133783322756"
      ]
     },
     "execution_count": 419,
     "metadata": {},
     "output_type": "execute_result"
    },
    {
     "data": {
      "text/plain": [
       "0.7963064636690587"
      ]
     },
     "execution_count": 419,
     "metadata": {},
     "output_type": "execute_result"
    }
   ],
   "source": [
    "roc_scorer_fun(Y_train, gb.predict_proba(X_train))\n",
    "roc_scorer_fun(Y_holdout, gb.predict_proba(X_holdout))"
   ]
  },
  {
   "cell_type": "code",
   "execution_count": 861,
   "metadata": {},
   "outputs": [],
   "source": [
    "gb_preds = gb.predict_proba(X_holdout)[:, 1]"
   ]
  },
  {
   "cell_type": "code",
   "execution_count": 865,
   "metadata": {},
   "outputs": [
    {
     "data": {
      "text/plain": [
       "<matplotlib.axes._subplots.AxesSubplot at 0x1ae2830f0>"
      ]
     },
     "execution_count": 865,
     "metadata": {},
     "output_type": "execute_result"
    },
    {
     "data": {
      "text/plain": [
       "<matplotlib.lines.Line2D at 0x22251e4e0>"
      ]
     },
     "execution_count": 865,
     "metadata": {},
     "output_type": "execute_result"
    },
    {
     "data": {
      "text/plain": [
       "Text(0.5,1,'Gradient Boosting Predicted Probabilities (Holdout)')"
      ]
     },
     "execution_count": 865,
     "metadata": {},
     "output_type": "execute_result"
    },
    {
     "data": {
      "text/plain": [
       "Text(0,0.5,'Number of Observations')"
      ]
     },
     "execution_count": 865,
     "metadata": {},
     "output_type": "execute_result"
    },
    {
     "data": {
      "image/png": "[encoded data removed]",
      "text/plain": [
       "<Figure size 432x288 with 1 Axes>"
      ]
     },
     "metadata": {},
     "output_type": "display_data"
    }
   ],
   "source": [
    "fig,ax =plt.subplots()\n",
    "sns.distplot(gb_preds, ax=ax, kde=False)\n",
    "ax.axvline(0.0771484375, color='red')\n",
    "ax.set_title('Gradient Boosting Predicted Probabilities (Holdout)')\n",
    "ax.set_ylabel('Number of Observations')\n",
    "plt.tight_layout()\n",
    "plt.savefig('figures/gb_pred_prob.png', dpi=200)"
   ]
  },
  {
   "cell_type": "code",
   "execution_count": 867,
   "metadata": {},
   "outputs": [
    {
     "data": {
      "text/plain": [
       "array([[0.67331653, 0.24459747],\n",
       "       [0.01857357, 0.06351243]])"
      ]
     },
     "execution_count": 867,
     "metadata": {},
     "output_type": "execute_result"
    }
   ],
   "source": [
    "confusion_matrix(Y_holdout, gb_preds>0.0771484375)/len(Y_holdout)"
   ]
  },
  {
   "cell_type": "code",
   "execution_count": 575,
   "metadata": {},
   "outputs": [
    {
     "data": {
      "text/plain": [
       "GradientBoostingClassifier(criterion='friedman_mse', init=None,\n",
       "              learning_rate=0.01, loss='deviance', max_depth=10,\n",
       "              max_features=None, max_leaf_nodes=None,\n",
       "              min_impurity_decrease=0.0, min_impurity_split=None,\n",
       "              min_samples_leaf=1, min_samples_split=2,\n",
       "              min_weight_fraction_leaf=0.0, n_estimators=50,\n",
       "              presort='auto', random_state=None, subsample=1.0, verbose=10,\n",
       "              warm_start=False)"
      ]
     },
     "execution_count": 575,
     "metadata": {},
     "output_type": "execute_result"
    },
    {
     "name": "stdout",
     "output_type": "stream",
     "text": [
      "      Iter       Train Loss   Remaining Time \n",
      "         1           0.5951           25.67m\n",
      "         2           0.5885           24.94m\n",
      "         3           0.5824           24.62m\n",
      "         4           0.5766           24.11m\n",
      "         5           0.5712           23.59m\n",
      "         6           0.5661           23.11m\n",
      "         7           0.5612           22.63m\n",
      "         8           0.5566           22.13m\n",
      "         9           0.5522           21.60m\n",
      "        10           0.5481           21.08m\n",
      "        11           0.5441           20.56m\n",
      "        12           0.5402           20.06m\n",
      "        13           0.5365           19.54m\n",
      "        14           0.5328           19.04m\n",
      "        15           0.5294           18.58m\n",
      "        16           0.5261           18.05m\n",
      "        17           0.5228           17.61m\n",
      "        18           0.5197           17.09m\n",
      "        19           0.5166           16.60m\n",
      "        20           0.5137           16.06m\n",
      "        21           0.5108           15.58m\n",
      "        22           0.5081           15.07m\n",
      "        23           0.5054           14.57m\n",
      "        24           0.5027           14.06m\n",
      "        25           0.5002           13.54m\n",
      "        26           0.4977           13.02m\n",
      "        27           0.4953           12.51m\n",
      "        28           0.4930           11.98m\n",
      "        29           0.4906           11.45m\n",
      "        30           0.4884           10.94m\n",
      "        31           0.4862           10.39m\n",
      "        32           0.4840            9.86m\n",
      "        33           0.4818            9.33m\n",
      "        34           0.4798            8.79m\n",
      "        35           0.4777            8.25m\n",
      "        36           0.4757            7.71m\n",
      "        37           0.4738            7.16m\n",
      "        38           0.4719            6.62m\n",
      "        39           0.4700            6.06m\n",
      "        40           0.4682            5.51m\n",
      "        41           0.4664            4.97m\n",
      "        42           0.4646            4.42m\n",
      "        43           0.4628            3.86m\n",
      "        44           0.4610            3.32m\n",
      "        45           0.4594            2.76m\n",
      "        46           0.4577            2.21m\n",
      "        47           0.4561            1.66m\n",
      "        48           0.4545            1.10m\n",
      "        49           0.4529           33.20s\n",
      "        50           0.4514            0.00s\n",
      "CPU times: user 27min 55s, sys: 4.86 s, total: 28min\n",
      "Wall time: 27min 55s\n"
     ]
    },
    {
     "data": {
      "text/plain": [
       "GradientBoostingClassifier(criterion='friedman_mse', init=None,\n",
       "              learning_rate=0.01, loss='deviance', max_depth=10,\n",
       "              max_features=None, max_leaf_nodes=None,\n",
       "              min_impurity_decrease=0.0, min_impurity_split=None,\n",
       "              min_samples_leaf=1, min_samples_split=2,\n",
       "              min_weight_fraction_leaf=0.0, n_estimators=50,\n",
       "              presort='auto', random_state=None, subsample=1.0, verbose=10,\n",
       "              warm_start=False)"
      ]
     },
     "execution_count": 575,
     "metadata": {},
     "output_type": "execute_result"
    }
   ],
   "source": [
    "gb.set_params(n_estimators=50, learning_rate=0.01, max_depth=10, verbose=10)\n",
    "%time gb.fit(X_train, Y_train)"
   ]
  },
  {
   "cell_type": "code",
   "execution_count": 576,
   "metadata": {},
   "outputs": [
    {
     "data": {
      "text/plain": [
       "0.894965843462763"
      ]
     },
     "execution_count": 576,
     "metadata": {},
     "output_type": "execute_result"
    },
    {
     "data": {
      "text/plain": [
       "0.8399740162169276"
      ]
     },
     "execution_count": 576,
     "metadata": {},
     "output_type": "execute_result"
    }
   ],
   "source": [
    "roc_scorer_fun(Y_train, gb.predict_proba(X_train))\n",
    "roc_scorer_fun(Y_holdout, gb.predict_proba(X_holdout))"
   ]
  },
  {
   "cell_type": "code",
   "execution_count": 577,
   "metadata": {},
   "outputs": [],
   "source": [
    "models.append('Gradient Boosting')\n",
    "AUC_training.append(roc_scorer_fun(Y_train, gb.predict_proba(X_train)))\n",
    "AUC_holdout.append(roc_scorer_fun(Y_holdout, gb.predict_proba(X_holdout)))"
   ]
  },
  {
   "cell_type": "code",
   "execution_count": 748,
   "metadata": {},
   "outputs": [
    {
     "data": {
      "text/plain": [
       "<Figure size 720x360 with 0 Axes>"
      ]
     },
     "execution_count": 748,
     "metadata": {},
     "output_type": "execute_result"
    },
    {
     "data": {
      "text/plain": [
       "<BarContainer object of 20 artists>"
      ]
     },
     "execution_count": 748,
     "metadata": {},
     "output_type": "execute_result"
    },
    {
     "data": {
      "text/plain": [
       "Text(0.5,1,'Gradient Boosting Feature Importance')"
      ]
     },
     "execution_count": 748,
     "metadata": {},
     "output_type": "execute_result"
    },
    {
     "data": {
      "image/png": "[encoded data removed]",
      "text/plain": [
       "<Figure size 720x360 with 1 Axes>"
      ]
     },
     "metadata": {},
     "output_type": "display_data"
    }
   ],
   "source": [
    "plt.figure(figsize=(10,5))\n",
    "gb_feat_imp = pd.Series(gb.feature_importances_, index=X_train.columns).nlargest(20).sort_values()\n",
    "plt.barh(width = gb_feat_imp, y = gb_feat_imp.index)\n",
    "plt.title('Gradient Boosting Feature Importance')\n",
    "plt.tight_layout()\n",
    "\n",
    "plt.savefig('figures/gb_feat_imp.png', dpi=200, figsize=(14,4))"
   ]
  },
  {
   "cell_type": "code",
   "execution_count": 531,
   "metadata": {},
   "outputs": [
    {
     "name": "stdout",
     "output_type": "stream",
     "text": [
      "Fitting 5 folds for each of 27 candidates, totalling 135 fits\n",
      "[CV] learning_rate=0.001, max_depth=3, n_estimators=100 ..............\n",
      "[CV] learning_rate=0.001, max_depth=3, n_estimators=100 ..............\n",
      "[CV] learning_rate=0.001, max_depth=3, n_estimators=100 ..............\n",
      "[CV]  learning_rate=0.001, max_depth=3, n_estimators=100, score=0.7736401793084446, total= 5.9min\n",
      "[CV]  learning_rate=0.001, max_depth=3, n_estimators=100, score=0.7798252109604213, total= 5.9min\n",
      "[CV] learning_rate=0.001, max_depth=3, n_estimators=100 ..............\n",
      "[CV] learning_rate=0.001, max_depth=3, n_estimators=100 ..............\n"
     ]
    },
    {
     "name": "stderr",
     "output_type": "stream",
     "text": [
      "[Parallel(n_jobs=3)]: Done   2 tasks      | elapsed:  6.2min\n"
     ]
    },
    {
     "name": "stdout",
     "output_type": "stream",
     "text": [
      "[CV]  learning_rate=0.001, max_depth=3, n_estimators=100, score=0.779887375408531, total= 5.9min\n",
      "[CV] learning_rate=0.001, max_depth=3, n_estimators=250 ..............\n",
      "[CV]  learning_rate=0.001, max_depth=3, n_estimators=100, score=0.7792659556504731, total= 5.8min\n",
      "[CV] learning_rate=0.001, max_depth=3, n_estimators=250 ..............\n",
      "[CV]  learning_rate=0.001, max_depth=3, n_estimators=100, score=0.7789036071013113, total= 5.8min\n",
      "[CV] learning_rate=0.001, max_depth=3, n_estimators=250 ..............\n",
      "[CV]  learning_rate=0.001, max_depth=3, n_estimators=250, score=0.7787484813742129, total=13.9min\n",
      "[CV] learning_rate=0.001, max_depth=3, n_estimators=250 ..............\n",
      "[CV]  learning_rate=0.001, max_depth=3, n_estimators=250, score=0.7736939357758765, total=13.9min\n",
      "[CV] learning_rate=0.001, max_depth=3, n_estimators=250 ..............\n"
     ]
    },
    {
     "name": "stderr",
     "output_type": "stream",
     "text": [
      "[Parallel(n_jobs=3)]: Done   7 tasks      | elapsed: 26.4min\n"
     ]
    },
    {
     "name": "stdout",
     "output_type": "stream",
     "text": [
      "[CV]  learning_rate=0.001, max_depth=3, n_estimators=250, score=0.780766292841238, total=13.9min\n",
      "[CV] learning_rate=0.001, max_depth=3, n_estimators=500 ..............\n",
      "[CV]  learning_rate=0.001, max_depth=3, n_estimators=250, score=0.7792774893549963, total=13.9min\n",
      "[CV] learning_rate=0.001, max_depth=3, n_estimators=500 ..............\n",
      "[CV]  learning_rate=0.001, max_depth=3, n_estimators=250, score=0.7789450216323318, total=13.9min\n",
      "[CV] learning_rate=0.001, max_depth=3, n_estimators=500 ..............\n",
      "[CV]  learning_rate=0.001, max_depth=3, n_estimators=500, score=0.7813107451262737, total=27.4min\n",
      "[CV] learning_rate=0.001, max_depth=3, n_estimators=500 ..............\n",
      "[CV]  learning_rate=0.001, max_depth=3, n_estimators=500, score=0.7767527800514031, total=27.4min\n",
      "[CV] learning_rate=0.001, max_depth=3, n_estimators=500 ..............\n"
     ]
    },
    {
     "name": "stderr",
     "output_type": "stream",
     "text": [
      "[Parallel(n_jobs=3)]: Done  12 tasks      | elapsed: 62.5min\n"
     ]
    },
    {
     "name": "stdout",
     "output_type": "stream",
     "text": [
      "[CV]  learning_rate=0.001, max_depth=3, n_estimators=500, score=0.7829371481102547, total=27.4min\n",
      "[CV] learning_rate=0.001, max_depth=10, n_estimators=100 .............\n",
      "[CV]  learning_rate=0.001, max_depth=3, n_estimators=500, score=0.7794709105278297, total=27.3min\n",
      "[CV] learning_rate=0.001, max_depth=10, n_estimators=100 .............\n",
      "[CV]  learning_rate=0.001, max_depth=3, n_estimators=500, score=0.7805136334654639, total=27.3min\n",
      "[CV] learning_rate=0.001, max_depth=10, n_estimators=100 .............\n",
      "[CV]  learning_rate=0.001, max_depth=10, n_estimators=100, score=0.8809336950670887, total=58.7min\n",
      "[CV] learning_rate=0.001, max_depth=10, n_estimators=100 .............\n",
      "[CV]  learning_rate=0.001, max_depth=10, n_estimators=100, score=0.8774853701259275, total=60.7min\n",
      "[CV] learning_rate=0.001, max_depth=10, n_estimators=100 .............\n",
      "[CV]  learning_rate=0.001, max_depth=10, n_estimators=100, score=0.8742025836520094, total=63.4min\n",
      "[CV] learning_rate=0.001, max_depth=10, n_estimators=250 .............\n",
      "[CV]  learning_rate=0.001, max_depth=10, n_estimators=100, score=0.8767814813070617, total=58.1min\n",
      "[CV] learning_rate=0.001, max_depth=10, n_estimators=250 .............\n"
     ]
    },
    {
     "name": "stderr",
     "output_type": "stream",
     "text": [
      "[Parallel(n_jobs=3)]: Done  19 tasks      | elapsed: 185.7min\n"
     ]
    },
    {
     "name": "stdout",
     "output_type": "stream",
     "text": [
      "[CV]  learning_rate=0.001, max_depth=10, n_estimators=100, score=0.8799187643798041, total=59.9min\n",
      "[CV] learning_rate=0.001, max_depth=10, n_estimators=250 .............\n",
      "[CV]  learning_rate=0.001, max_depth=10, n_estimators=250, score=0.8864657777268018, total=149.2min\n",
      "[CV] learning_rate=0.001, max_depth=10, n_estimators=250 .............\n",
      "[CV]  learning_rate=0.001, max_depth=10, n_estimators=250, score=0.8808167325474751, total=151.4min\n",
      "[CV] learning_rate=0.001, max_depth=10, n_estimators=250 .............\n",
      "[CV]  learning_rate=0.001, max_depth=10, n_estimators=250, score=0.8805154312200665, total=155.0min\n",
      "[CV] learning_rate=0.001, max_depth=10, n_estimators=500 .............\n",
      "[CV]  learning_rate=0.001, max_depth=10, n_estimators=250, score=0.8856665050297852, total=150.8min\n",
      "[CV] learning_rate=0.001, max_depth=10, n_estimators=500 .............\n",
      "[CV]  learning_rate=0.001, max_depth=10, n_estimators=250, score=0.8856110031583284, total=154.6min\n",
      "[CV] learning_rate=0.001, max_depth=10, n_estimators=500 .............\n"
     ]
    },
    {
     "ename": "KeyboardInterrupt",
     "evalue": "",
     "output_type": "error",
     "traceback": [
      "\u001b[0;31m---------------------------------------------------------------------------\u001b[0m",
      "\u001b[0;31mKeyboardInterrupt\u001b[0m                         Traceback (most recent call last)",
      "\u001b[0;32m<timed eval>\u001b[0m in \u001b[0;36m<module>\u001b[0;34m()\u001b[0m\n",
      "\u001b[0;32m~/anaconda3/lib/python3.6/site-packages/sklearn/model_selection/_search.py\u001b[0m in \u001b[0;36mfit\u001b[0;34m(self, X, y, groups, **fit_params)\u001b[0m\n\u001b[1;32m    637\u001b[0m                                   error_score=self.error_score)\n\u001b[1;32m    638\u001b[0m           for parameters, (train, test) in product(candidate_params,\n\u001b[0;32m--> 639\u001b[0;31m                                                    cv.split(X, y, groups)))\n\u001b[0m\u001b[1;32m    640\u001b[0m \u001b[0;34m\u001b[0m\u001b[0m\n\u001b[1;32m    641\u001b[0m         \u001b[0;31m# if one choose to see train score, \"out\" will contain train score info\u001b[0m\u001b[0;34m\u001b[0m\u001b[0;34m\u001b[0m\u001b[0m\n",
      "\u001b[0;32m~/anaconda3/lib/python3.6/site-packages/sklearn/externals/joblib/parallel.py\u001b[0m in \u001b[0;36m__call__\u001b[0;34m(self, iterable)\u001b[0m\n\u001b[1;32m    787\u001b[0m                 \u001b[0;31m# consumption.\u001b[0m\u001b[0;34m\u001b[0m\u001b[0;34m\u001b[0m\u001b[0m\n\u001b[1;32m    788\u001b[0m                 \u001b[0mself\u001b[0m\u001b[0;34m.\u001b[0m\u001b[0m_iterating\u001b[0m \u001b[0;34m=\u001b[0m \u001b[0;32mFalse\u001b[0m\u001b[0;34m\u001b[0m\u001b[0m\n\u001b[0;32m--> 789\u001b[0;31m             \u001b[0mself\u001b[0m\u001b[0;34m.\u001b[0m\u001b[0mretrieve\u001b[0m\u001b[0;34m(\u001b[0m\u001b[0;34m)\u001b[0m\u001b[0;34m\u001b[0m\u001b[0m\n\u001b[0m\u001b[1;32m    790\u001b[0m             \u001b[0;31m# Make sure that we get a last message telling us we are done\u001b[0m\u001b[0;34m\u001b[0m\u001b[0;34m\u001b[0m\u001b[0m\n\u001b[1;32m    791\u001b[0m             \u001b[0melapsed_time\u001b[0m \u001b[0;34m=\u001b[0m \u001b[0mtime\u001b[0m\u001b[0;34m.\u001b[0m\u001b[0mtime\u001b[0m\u001b[0;34m(\u001b[0m\u001b[0;34m)\u001b[0m \u001b[0;34m-\u001b[0m \u001b[0mself\u001b[0m\u001b[0;34m.\u001b[0m\u001b[0m_start_time\u001b[0m\u001b[0;34m\u001b[0m\u001b[0m\n",
      "\u001b[0;32m~/anaconda3/lib/python3.6/site-packages/sklearn/externals/joblib/parallel.py\u001b[0m in \u001b[0;36mretrieve\u001b[0;34m(self)\u001b[0m\n\u001b[1;32m    697\u001b[0m             \u001b[0;32mtry\u001b[0m\u001b[0;34m:\u001b[0m\u001b[0;34m\u001b[0m\u001b[0m\n\u001b[1;32m    698\u001b[0m                 \u001b[0;32mif\u001b[0m \u001b[0mgetattr\u001b[0m\u001b[0;34m(\u001b[0m\u001b[0mself\u001b[0m\u001b[0;34m.\u001b[0m\u001b[0m_backend\u001b[0m\u001b[0;34m,\u001b[0m \u001b[0;34m'supports_timeout'\u001b[0m\u001b[0;34m,\u001b[0m \u001b[0;32mFalse\u001b[0m\u001b[0;34m)\u001b[0m\u001b[0;34m:\u001b[0m\u001b[0;34m\u001b[0m\u001b[0m\n\u001b[0;32m--> 699\u001b[0;31m                     \u001b[0mself\u001b[0m\u001b[0;34m.\u001b[0m\u001b[0m_output\u001b[0m\u001b[0;34m.\u001b[0m\u001b[0mextend\u001b[0m\u001b[0;34m(\u001b[0m\u001b[0mjob\u001b[0m\u001b[0;34m.\u001b[0m\u001b[0mget\u001b[0m\u001b[0;34m(\u001b[0m\u001b[0mtimeout\u001b[0m\u001b[0;34m=\u001b[0m\u001b[0mself\u001b[0m\u001b[0;34m.\u001b[0m\u001b[0mtimeout\u001b[0m\u001b[0;34m)\u001b[0m\u001b[0;34m)\u001b[0m\u001b[0;34m\u001b[0m\u001b[0m\n\u001b[0m\u001b[1;32m    700\u001b[0m                 \u001b[0;32melse\u001b[0m\u001b[0;34m:\u001b[0m\u001b[0;34m\u001b[0m\u001b[0m\n\u001b[1;32m    701\u001b[0m                     \u001b[0mself\u001b[0m\u001b[0;34m.\u001b[0m\u001b[0m_output\u001b[0m\u001b[0;34m.\u001b[0m\u001b[0mextend\u001b[0m\u001b[0;34m(\u001b[0m\u001b[0mjob\u001b[0m\u001b[0;34m.\u001b[0m\u001b[0mget\u001b[0m\u001b[0;34m(\u001b[0m\u001b[0;34m)\u001b[0m\u001b[0;34m)\u001b[0m\u001b[0;34m\u001b[0m\u001b[0m\n",
      "\u001b[0;32m~/anaconda3/lib/python3.6/multiprocessing/pool.py\u001b[0m in \u001b[0;36mget\u001b[0;34m(self, timeout)\u001b[0m\n\u001b[1;32m    636\u001b[0m \u001b[0;34m\u001b[0m\u001b[0m\n\u001b[1;32m    637\u001b[0m     \u001b[0;32mdef\u001b[0m \u001b[0mget\u001b[0m\u001b[0;34m(\u001b[0m\u001b[0mself\u001b[0m\u001b[0;34m,\u001b[0m \u001b[0mtimeout\u001b[0m\u001b[0;34m=\u001b[0m\u001b[0;32mNone\u001b[0m\u001b[0;34m)\u001b[0m\u001b[0;34m:\u001b[0m\u001b[0;34m\u001b[0m\u001b[0m\n\u001b[0;32m--> 638\u001b[0;31m         \u001b[0mself\u001b[0m\u001b[0;34m.\u001b[0m\u001b[0mwait\u001b[0m\u001b[0;34m(\u001b[0m\u001b[0mtimeout\u001b[0m\u001b[0;34m)\u001b[0m\u001b[0;34m\u001b[0m\u001b[0m\n\u001b[0m\u001b[1;32m    639\u001b[0m         \u001b[0;32mif\u001b[0m \u001b[0;32mnot\u001b[0m \u001b[0mself\u001b[0m\u001b[0;34m.\u001b[0m\u001b[0mready\u001b[0m\u001b[0;34m(\u001b[0m\u001b[0;34m)\u001b[0m\u001b[0;34m:\u001b[0m\u001b[0;34m\u001b[0m\u001b[0m\n\u001b[1;32m    640\u001b[0m             \u001b[0;32mraise\u001b[0m \u001b[0mTimeoutError\u001b[0m\u001b[0;34m\u001b[0m\u001b[0m\n",
      "\u001b[0;32m~/anaconda3/lib/python3.6/multiprocessing/pool.py\u001b[0m in \u001b[0;36mwait\u001b[0;34m(self, timeout)\u001b[0m\n\u001b[1;32m    633\u001b[0m \u001b[0;34m\u001b[0m\u001b[0m\n\u001b[1;32m    634\u001b[0m     \u001b[0;32mdef\u001b[0m \u001b[0mwait\u001b[0m\u001b[0;34m(\u001b[0m\u001b[0mself\u001b[0m\u001b[0;34m,\u001b[0m \u001b[0mtimeout\u001b[0m\u001b[0;34m=\u001b[0m\u001b[0;32mNone\u001b[0m\u001b[0;34m)\u001b[0m\u001b[0;34m:\u001b[0m\u001b[0;34m\u001b[0m\u001b[0m\n\u001b[0;32m--> 635\u001b[0;31m         \u001b[0mself\u001b[0m\u001b[0;34m.\u001b[0m\u001b[0m_event\u001b[0m\u001b[0;34m.\u001b[0m\u001b[0mwait\u001b[0m\u001b[0;34m(\u001b[0m\u001b[0mtimeout\u001b[0m\u001b[0;34m)\u001b[0m\u001b[0;34m\u001b[0m\u001b[0m\n\u001b[0m\u001b[1;32m    636\u001b[0m \u001b[0;34m\u001b[0m\u001b[0m\n\u001b[1;32m    637\u001b[0m     \u001b[0;32mdef\u001b[0m \u001b[0mget\u001b[0m\u001b[0;34m(\u001b[0m\u001b[0mself\u001b[0m\u001b[0;34m,\u001b[0m \u001b[0mtimeout\u001b[0m\u001b[0;34m=\u001b[0m\u001b[0;32mNone\u001b[0m\u001b[0;34m)\u001b[0m\u001b[0;34m:\u001b[0m\u001b[0;34m\u001b[0m\u001b[0m\n",
      "\u001b[0;32m~/anaconda3/lib/python3.6/threading.py\u001b[0m in \u001b[0;36mwait\u001b[0;34m(self, timeout)\u001b[0m\n\u001b[1;32m    549\u001b[0m             \u001b[0msignaled\u001b[0m \u001b[0;34m=\u001b[0m \u001b[0mself\u001b[0m\u001b[0;34m.\u001b[0m\u001b[0m_flag\u001b[0m\u001b[0;34m\u001b[0m\u001b[0m\n\u001b[1;32m    550\u001b[0m             \u001b[0;32mif\u001b[0m \u001b[0;32mnot\u001b[0m \u001b[0msignaled\u001b[0m\u001b[0;34m:\u001b[0m\u001b[0;34m\u001b[0m\u001b[0m\n\u001b[0;32m--> 551\u001b[0;31m                 \u001b[0msignaled\u001b[0m \u001b[0;34m=\u001b[0m \u001b[0mself\u001b[0m\u001b[0;34m.\u001b[0m\u001b[0m_cond\u001b[0m\u001b[0;34m.\u001b[0m\u001b[0mwait\u001b[0m\u001b[0;34m(\u001b[0m\u001b[0mtimeout\u001b[0m\u001b[0;34m)\u001b[0m\u001b[0;34m\u001b[0m\u001b[0m\n\u001b[0m\u001b[1;32m    552\u001b[0m             \u001b[0;32mreturn\u001b[0m \u001b[0msignaled\u001b[0m\u001b[0;34m\u001b[0m\u001b[0m\n\u001b[1;32m    553\u001b[0m \u001b[0;34m\u001b[0m\u001b[0m\n",
      "\u001b[0;32m~/anaconda3/lib/python3.6/threading.py\u001b[0m in \u001b[0;36mwait\u001b[0;34m(self, timeout)\u001b[0m\n\u001b[1;32m    293\u001b[0m         \u001b[0;32mtry\u001b[0m\u001b[0;34m:\u001b[0m    \u001b[0;31m# restore state no matter what (e.g., KeyboardInterrupt)\u001b[0m\u001b[0;34m\u001b[0m\u001b[0m\n\u001b[1;32m    294\u001b[0m             \u001b[0;32mif\u001b[0m \u001b[0mtimeout\u001b[0m \u001b[0;32mis\u001b[0m \u001b[0;32mNone\u001b[0m\u001b[0;34m:\u001b[0m\u001b[0;34m\u001b[0m\u001b[0m\n\u001b[0;32m--> 295\u001b[0;31m                 \u001b[0mwaiter\u001b[0m\u001b[0;34m.\u001b[0m\u001b[0macquire\u001b[0m\u001b[0;34m(\u001b[0m\u001b[0;34m)\u001b[0m\u001b[0;34m\u001b[0m\u001b[0m\n\u001b[0m\u001b[1;32m    296\u001b[0m                 \u001b[0mgotit\u001b[0m \u001b[0;34m=\u001b[0m \u001b[0;32mTrue\u001b[0m\u001b[0;34m\u001b[0m\u001b[0m\n\u001b[1;32m    297\u001b[0m             \u001b[0;32melse\u001b[0m\u001b[0;34m:\u001b[0m\u001b[0;34m\u001b[0m\u001b[0m\n",
      "\u001b[0;31mKeyboardInterrupt\u001b[0m: "
     ]
    }
   ],
   "source": [
    "gb_param_grid = {'n_estimators': [100, 250, 500], 'learning_rate': [0.001, 0.1, 0.5], 'max_depth': [3, 10, None]}\n",
    "\n",
    "gbgs = GridSearchCV(gb, gb_param_grid, scoring = roc_scorer, n_jobs = 3, cv = folds, verbose=10)\n",
    "\n",
    "%time gbgs.fit(X_train, Y_train)"
   ]
  },
  {
   "cell_type": "code",
   "execution_count": 445,
   "metadata": {},
   "outputs": [
    {
     "ename": "NotFittedError",
     "evalue": "This GridSearchCV instance is not fitted yet. Call 'fit' with appropriate arguments before using this method.",
     "output_type": "error",
     "traceback": [
      "\u001b[0;31m---------------------------------------------------------------------------\u001b[0m",
      "\u001b[0;31mNotFittedError\u001b[0m                            Traceback (most recent call last)",
      "\u001b[0;32m<ipython-input-445-de4769dec5e7>\u001b[0m in \u001b[0;36m<module>\u001b[0;34m()\u001b[0m\n\u001b[0;32m----> 1\u001b[0;31m \u001b[0mgbgs\u001b[0m\u001b[0;34m.\u001b[0m\u001b[0mgrid_scores_\u001b[0m\u001b[0;34m\u001b[0m\u001b[0m\n\u001b[0m",
      "\u001b[0;32m~/anaconda3/lib/python3.6/site-packages/sklearn/model_selection/_search.py\u001b[0m in \u001b[0;36mgrid_scores_\u001b[0;34m(self)\u001b[0m\n\u001b[1;32m    751\u001b[0m     \u001b[0;34m@\u001b[0m\u001b[0mproperty\u001b[0m\u001b[0;34m\u001b[0m\u001b[0m\n\u001b[1;32m    752\u001b[0m     \u001b[0;32mdef\u001b[0m \u001b[0mgrid_scores_\u001b[0m\u001b[0;34m(\u001b[0m\u001b[0mself\u001b[0m\u001b[0;34m)\u001b[0m\u001b[0;34m:\u001b[0m\u001b[0;34m\u001b[0m\u001b[0m\n\u001b[0;32m--> 753\u001b[0;31m         \u001b[0mcheck_is_fitted\u001b[0m\u001b[0;34m(\u001b[0m\u001b[0mself\u001b[0m\u001b[0;34m,\u001b[0m \u001b[0;34m'cv_results_'\u001b[0m\u001b[0;34m)\u001b[0m\u001b[0;34m\u001b[0m\u001b[0m\n\u001b[0m\u001b[1;32m    754\u001b[0m         \u001b[0;32mif\u001b[0m \u001b[0mself\u001b[0m\u001b[0;34m.\u001b[0m\u001b[0mmultimetric_\u001b[0m\u001b[0;34m:\u001b[0m\u001b[0;34m\u001b[0m\u001b[0m\n\u001b[1;32m    755\u001b[0m             raise AttributeError(\"grid_scores_ attribute is not available for\"\n",
      "\u001b[0;32m~/anaconda3/lib/python3.6/site-packages/sklearn/utils/validation.py\u001b[0m in \u001b[0;36mcheck_is_fitted\u001b[0;34m(estimator, attributes, msg, all_or_any)\u001b[0m\n\u001b[1;32m    766\u001b[0m \u001b[0;34m\u001b[0m\u001b[0m\n\u001b[1;32m    767\u001b[0m     \u001b[0;32mif\u001b[0m \u001b[0;32mnot\u001b[0m \u001b[0mall_or_any\u001b[0m\u001b[0;34m(\u001b[0m\u001b[0;34m[\u001b[0m\u001b[0mhasattr\u001b[0m\u001b[0;34m(\u001b[0m\u001b[0mestimator\u001b[0m\u001b[0;34m,\u001b[0m \u001b[0mattr\u001b[0m\u001b[0;34m)\u001b[0m \u001b[0;32mfor\u001b[0m \u001b[0mattr\u001b[0m \u001b[0;32min\u001b[0m \u001b[0mattributes\u001b[0m\u001b[0;34m]\u001b[0m\u001b[0;34m)\u001b[0m\u001b[0;34m:\u001b[0m\u001b[0;34m\u001b[0m\u001b[0m\n\u001b[0;32m--> 768\u001b[0;31m         \u001b[0;32mraise\u001b[0m \u001b[0mNotFittedError\u001b[0m\u001b[0;34m(\u001b[0m\u001b[0mmsg\u001b[0m \u001b[0;34m%\u001b[0m \u001b[0;34m{\u001b[0m\u001b[0;34m'name'\u001b[0m\u001b[0;34m:\u001b[0m \u001b[0mtype\u001b[0m\u001b[0;34m(\u001b[0m\u001b[0mestimator\u001b[0m\u001b[0;34m)\u001b[0m\u001b[0;34m.\u001b[0m\u001b[0m__name__\u001b[0m\u001b[0;34m}\u001b[0m\u001b[0;34m)\u001b[0m\u001b[0;34m\u001b[0m\u001b[0m\n\u001b[0m\u001b[1;32m    769\u001b[0m \u001b[0;34m\u001b[0m\u001b[0m\n\u001b[1;32m    770\u001b[0m \u001b[0;34m\u001b[0m\u001b[0m\n",
      "\u001b[0;31mNotFittedError\u001b[0m: This GridSearchCV instance is not fitted yet. Call 'fit' with appropriate arguments before using this method."
     ]
    }
   ],
   "source": [
    "gbgs.grid_scores_"
   ]
  },
  {
   "cell_type": "markdown",
   "metadata": {},
   "source": [
    "# Random"
   ]
  },
  {
   "cell_type": "code",
   "execution_count": null,
   "metadata": {},
   "outputs": [],
   "source": [
    "rf.decision_path"
   ]
  },
  {
   "cell_type": "code",
   "execution_count": 510,
   "metadata": {},
   "outputs": [
    {
     "data": {
      "text/plain": [
       "[<matplotlib.lines.Line2D at 0x1b84ad710>]"
      ]
     },
     "execution_count": 510,
     "metadata": {},
     "output_type": "execute_result"
    },
    {
     "data": {
      "text/plain": [
       "[<matplotlib.lines.Line2D at 0x18e596898>]"
      ]
     },
     "execution_count": 510,
     "metadata": {},
     "output_type": "execute_result"
    },
    {
     "data": {
      "text/plain": [
       "(-0.2, 1.1)"
      ]
     },
     "execution_count": 510,
     "metadata": {},
     "output_type": "execute_result"
    },
    {
     "data": {
      "text/plain": [
       "(-0.1, 1.1)"
      ]
     },
     "execution_count": 510,
     "metadata": {},
     "output_type": "execute_result"
    },
    {
     "data": {
      "text/plain": [
       "Text(0.5,1,'ROC Curve')"
      ]
     },
     "execution_count": 510,
     "metadata": {},
     "output_type": "execute_result"
    },
    {
     "data": {
      "text/plain": [
       "<matplotlib.legend.Legend at 0x18e6bf128>"
      ]
     },
     "execution_count": 510,
     "metadata": {},
     "output_type": "execute_result"
    },
    {
     "data": {
      "image/png": "[encoded data removed]",
      "text/plain": [
       "<Figure size 432x288 with 1 Axes>"
      ]
     },
     "metadata": {},
     "output_type": "display_data"
    }
   ],
   "source": [
    "from sklearn.metrics import roc_curve\n",
    "\n",
    "#Draw ROC Curve for balanced vs unbalanced\n",
    "\n",
    "scoreA = rf_grid_tuned.predict_proba(X_holdout)[:,1]\n",
    "scoreB = rf.predict_proba(X_holdout)[:,1]\n",
    "\n",
    "A=roc_curve(Y_holdout,scoreA,pos_label=1)\n",
    "B=roc_curve(Y_holdout,scoreB,pos_label=1)\n",
    "\n",
    "plt.plot(A[0],A[1],label='Overfit')\n",
    "plt.plot(B[0],B[1],label='Not Overfit')\n",
    "plt.xlim((-0.2,1.1))\n",
    "plt.ylim((-0.1,1.1))\n",
    "plt.title('ROC Curve')\n",
    "plt.legend(loc=4)"
   ]
  },
  {
   "cell_type": "markdown",
   "metadata": {},
   "source": [
    "# QDA"
   ]
  },
  {
   "cell_type": "code",
   "execution_count": 511,
   "metadata": {},
   "outputs": [],
   "source": [
    "from sklearn.discriminant_analysis import QuadraticDiscriminantAnalysis"
   ]
  },
  {
   "cell_type": "code",
   "execution_count": 525,
   "metadata": {},
   "outputs": [
    {
     "name": "stdout",
     "output_type": "stream",
     "text": [
      "CPU times: user 1.29 s, sys: 327 ms, total: 1.62 s\n",
      "Wall time: 869 ms\n"
     ]
    },
    {
     "name": "stderr",
     "output_type": "stream",
     "text": [
      "/Users/johnmcglynn/anaconda3/lib/python3.6/site-packages/sklearn/discriminant_analysis.py:682: UserWarning: Variables are collinear\n",
      "  warnings.warn(\"Variables are collinear\")\n",
      "/Users/johnmcglynn/anaconda3/lib/python3.6/site-packages/sklearn/discriminant_analysis.py:682: UserWarning: Variables are collinear\n",
      "  warnings.warn(\"Variables are collinear\")\n"
     ]
    },
    {
     "data": {
      "text/plain": [
       "QuadraticDiscriminantAnalysis(priors=None, reg_param=0.01,\n",
       "               store_covariance=False, store_covariances=None, tol=0.0001)"
      ]
     },
     "execution_count": 525,
     "metadata": {},
     "output_type": "execute_result"
    },
    {
     "name": "stdout",
     "output_type": "stream",
     "text": [
      "confusion_matrix:\n",
      " [[541480 235948]\n",
      " [ 21059  55268]]\n",
      "AUC 0.753\n",
      "Accuracy: 0.699\n"
     ]
    }
   ],
   "source": [
    "#Training\n",
    "\n",
    "QDA = QuadraticDiscriminantAnalysis(reg_param = 0.01)\n",
    "\n",
    "%time QDA.fit(X_train.loc[:,~bernoulli_vars], Y_train)\n",
    "QDA_pred = QDA.predict(X_train.loc[:,~bernoulli_vars])\n",
    "QDA_proba = QDA.predict_proba(X_train.loc[:,~bernoulli_vars])\n",
    "\n",
    "print('confusion_matrix:\\n', confusion_matrix(Y_train, QDA_pred)) \n",
    "print('AUC %.3f' %(roc_auc_score(Y_train, QDA_proba[:,1]))) \n",
    "print('Accuracy: %.3f' %(QDA.score(X_train.loc[:,~bernoulli_vars], Y_train))) "
   ]
  },
  {
   "cell_type": "code",
   "execution_count": 526,
   "metadata": {},
   "outputs": [
    {
     "data": {
      "text/plain": [
       "0    562539\n",
       "1    291216\n",
       "dtype: int64"
      ]
     },
     "execution_count": 526,
     "metadata": {},
     "output_type": "execute_result"
    }
   ],
   "source": [
    "pd.Series(QDA_pred).value_counts()"
   ]
  },
  {
   "cell_type": "code",
   "execution_count": 527,
   "metadata": {},
   "outputs": [
    {
     "data": {
      "text/plain": [
       "<matplotlib.axes._subplots.AxesSubplot at 0x1b8d06e80>"
      ]
     },
     "execution_count": 527,
     "metadata": {},
     "output_type": "execute_result"
    },
    {
     "data": {
      "image/png": "[encoded data removed]",
      "text/plain": [
       "<Figure size 432x288 with 1 Axes>"
      ]
     },
     "metadata": {},
     "output_type": "display_data"
    }
   ],
   "source": [
    "sns.distplot(QDA_proba[:, 1])"
   ]
  },
  {
   "cell_type": "code",
   "execution_count": 529,
   "metadata": {},
   "outputs": [
    {
     "name": "stdout",
     "output_type": "stream",
     "text": [
      "confusion_matrix:\n",
      " [[214596 101596]\n",
      " [  8770  19506]]\n",
      "AUC 0.726\n",
      "Accuracy: 0.680\n"
     ]
    }
   ],
   "source": [
    "#Holdout\n",
    "\n",
    "QDA_predT = QDA.predict(X_holdout.loc[:,~bernoulli_vars])\n",
    "QDA_probaT = QDA.predict_proba(X_holdout.loc[:,~bernoulli_vars])\n",
    "\n",
    "print('confusion_matrix:\\n', confusion_matrix(Y_holdout, QDA_predT)) \n",
    "print('AUC %.3f' %(roc_auc_score(Y_holdout, QDA_probaT[:,1]))) \n",
    "print('Accuracy: %.3f' %(QDA.score(X_holdout.loc[:,~bernoulli_vars], Y_holdout))) "
   ]
  },
  {
   "cell_type": "code",
   "execution_count": 582,
   "metadata": {},
   "outputs": [],
   "source": [
    "models.append('QDA')\n",
    "AUC_training.append(roc_scorer_fun(Y_train, QDA.predict_proba(X_train.loc[:,~bernoulli_vars])))\n",
    "AUC_holdout.append(roc_scorer_fun(Y_holdout, QDA.predict_proba(X_holdout.loc[:,~bernoulli_vars])))"
   ]
  },
  {
   "cell_type": "code",
   "execution_count": 530,
   "metadata": {},
   "outputs": [
    {
     "data": {
      "text/plain": [
       "<matplotlib.axes._subplots.AxesSubplot at 0x1b8d25240>"
      ]
     },
     "execution_count": 530,
     "metadata": {},
     "output_type": "execute_result"
    },
    {
     "data": {
      "image/png": "[encoded data removed]",
      "text/plain": [
       "<Figure size 432x288 with 1 Axes>"
      ]
     },
     "metadata": {},
     "output_type": "display_data"
    }
   ],
   "source": [
    "sns.distplot(QDA_probaT[:, 1])"
   ]
  },
  {
   "cell_type": "code",
   "execution_count": 522,
   "metadata": {},
   "outputs": [
    {
     "data": {
      "text/html": [
       "<div>\n",
       "<style scoped>\n",
       "    .dataframe tbody tr th:only-of-type {\n",
       "        vertical-align: middle;\n",
       "    }\n",
       "\n",
       "    .dataframe tbody tr th {\n",
       "        vertical-align: top;\n",
       "    }\n",
       "\n",
       "    .dataframe thead th {\n",
       "        text-align: right;\n",
       "    }\n",
       "</style>\n",
       "<table border=\"1\" class=\"dataframe\">\n",
       "  <thead>\n",
       "    <tr style=\"text-align: right;\">\n",
       "      <th></th>\n",
       "      <th>proba</th>\n",
       "      <th>truth</th>\n",
       "    </tr>\n",
       "  </thead>\n",
       "  <tbody>\n",
       "    <tr>\n",
       "      <th>123</th>\n",
       "      <td>(0.98, 1.0]</td>\n",
       "      <td>0</td>\n",
       "    </tr>\n",
       "    <tr>\n",
       "      <th>124</th>\n",
       "      <td>(0.98, 1.0]</td>\n",
       "      <td>0</td>\n",
       "    </tr>\n",
       "    <tr>\n",
       "      <th>125</th>\n",
       "      <td>(0.98, 1.0]</td>\n",
       "      <td>0</td>\n",
       "    </tr>\n",
       "    <tr>\n",
       "      <th>239</th>\n",
       "      <td>(0.98, 1.0]</td>\n",
       "      <td>0</td>\n",
       "    </tr>\n",
       "    <tr>\n",
       "      <th>240</th>\n",
       "      <td>(0.98, 1.0]</td>\n",
       "      <td>0</td>\n",
       "    </tr>\n",
       "  </tbody>\n",
       "</table>\n",
       "</div>"
      ],
      "text/plain": [
       "           proba  truth\n",
       "123  (0.98, 1.0]      0\n",
       "124  (0.98, 1.0]      0\n",
       "125  (0.98, 1.0]      0\n",
       "239  (0.98, 1.0]      0\n",
       "240  (0.98, 1.0]      0"
      ]
     },
     "execution_count": 522,
     "metadata": {},
     "output_type": "execute_result"
    }
   ],
   "source": [
    "ev = pd.DataFrame({'proba': pd.cut(QDA_probaT[:, 1], bins=50), 'truth':Y_holdout})\n",
    "ev.head()"
   ]
  },
  {
   "cell_type": "code",
   "execution_count": 523,
   "metadata": {},
   "outputs": [
    {
     "data": {
      "text/plain": [
       "<matplotlib.axes._subplots.AxesSubplot at 0x194c185c0>"
      ]
     },
     "execution_count": 523,
     "metadata": {},
     "output_type": "execute_result"
    },
    {
     "data": {
      "image/png": "[encoded data removed]",
      "text/plain": [
       "<Figure size 432x288 with 1 Axes>"
      ]
     },
     "metadata": {},
     "output_type": "display_data"
    }
   ],
   "source": [
    "ev.groupby('proba').truth.mean().plot.bar()"
   ]
  },
  {
   "cell_type": "markdown",
   "metadata": {},
   "source": [
    "# LDA"
   ]
  },
  {
   "cell_type": "code",
   "execution_count": 593,
   "metadata": {},
   "outputs": [],
   "source": [
    "from sklearn.discriminant_analysis import LinearDiscriminantAnalysis"
   ]
  },
  {
   "cell_type": "code",
   "execution_count": 596,
   "metadata": {},
   "outputs": [
    {
     "name": "stderr",
     "output_type": "stream",
     "text": [
      "/Users/johnmcglynn/anaconda3/lib/python3.6/site-packages/sklearn/discriminant_analysis.py:388: UserWarning: Variables are collinear.\n",
      "  warnings.warn(\"Variables are collinear.\")\n"
     ]
    },
    {
     "data": {
      "text/plain": [
       "LinearDiscriminantAnalysis(n_components=None, priors=None, shrinkage=None,\n",
       "              solver='svd', store_covariance=False, tol=0.0001)"
      ]
     },
     "execution_count": 596,
     "metadata": {},
     "output_type": "execute_result"
    },
    {
     "name": "stdout",
     "output_type": "stream",
     "text": [
      "confusion_matrix:\n",
      " [[776979    449]\n",
      " [ 76308     19]]\n",
      "AUC 0.705\n",
      "Accuracy: 0.910\n"
     ]
    }
   ],
   "source": [
    "#Training\n",
    "\n",
    "LDA = LinearDiscriminantAnalysis()\n",
    "\n",
    "LDA.fit(X_train.loc[:,~bernoulli_vars], Y_train)\n",
    "LDA_pred = LDA.predict(X_train.loc[:,~bernoulli_vars])\n",
    "LDA_proba = LDA.predict_proba(X_train.loc[:,~bernoulli_vars])\n",
    "\n",
    "print('confusion_matrix:\\n', confusion_matrix(Y_train, LDA_pred)) \n",
    "print('AUC %.3f' %(roc_auc_score(Y_train, LDA_proba[:,1]))) \n",
    "print('Accuracy: %.3f' %(LDA.score(X_train.loc[:,~bernoulli_vars], Y_train))) "
   ]
  },
  {
   "cell_type": "code",
   "execution_count": 598,
   "metadata": {},
   "outputs": [
    {
     "name": "stdout",
     "output_type": "stream",
     "text": [
      "confusion_matrix:\n",
      " [[316002    190]\n",
      " [ 28276      0]]\n",
      "AUC 0.680\n",
      "Accuracy: 0.917\n"
     ]
    }
   ],
   "source": [
    "#Holdout\n",
    "\n",
    "LDA_predT = LDA.predict(X_holdout.loc[:,~bernoulli_vars])\n",
    "LDA_probaT = LDA.predict_proba(X_holdout.loc[:,~bernoulli_vars])\n",
    "\n",
    "print('confusion_matrix:\\n', confusion_matrix(Y_holdout, LDA_predT)) \n",
    "print('AUC %.3f' %(roc_auc_score(Y_holdout, LDA_probaT[:,1]))) \n",
    "print('Accuracy: %.3f' %(LDA.score(X_holdout.loc[:,~bernoulli_vars], Y_holdout))) "
   ]
  },
  {
   "cell_type": "code",
   "execution_count": 599,
   "metadata": {},
   "outputs": [],
   "source": [
    "models.append('LDA')\n",
    "AUC_training.append(roc_scorer_fun(Y_train, LDA.predict_proba(X_train.loc[:,~bernoulli_vars])))\n",
    "AUC_holdout.append(roc_scorer_fun(Y_holdout, LDA.predict_proba(X_holdout.loc[:,~bernoulli_vars])))"
   ]
  },
  {
   "cell_type": "markdown",
   "metadata": {},
   "source": [
    "# Model Results Summary"
   ]
  },
  {
   "cell_type": "code",
   "execution_count": 601,
   "metadata": {},
   "outputs": [],
   "source": [
    "# Add SVM manually -- Tom ran on a sample in his WB; we've ruled it out but just want to show in the graph\n",
    "models.append('SVM')\n",
    "AUC_training.append(0)\n",
    "AUC_holdout.append(0)"
   ]
  },
  {
   "cell_type": "code",
   "execution_count": 606,
   "metadata": {},
   "outputs": [
    {
     "data": {
      "text/html": [
       "<div>\n",
       "<style scoped>\n",
       "    .dataframe tbody tr th:only-of-type {\n",
       "        vertical-align: middle;\n",
       "    }\n",
       "\n",
       "    .dataframe tbody tr th {\n",
       "        vertical-align: top;\n",
       "    }\n",
       "\n",
       "    .dataframe thead th {\n",
       "        text-align: right;\n",
       "    }\n",
       "</style>\n",
       "<table border=\"1\" class=\"dataframe\">\n",
       "  <thead>\n",
       "    <tr style=\"text-align: right;\">\n",
       "      <th></th>\n",
       "      <th>models</th>\n",
       "      <th>Test</th>\n",
       "      <th>AUC</th>\n",
       "    </tr>\n",
       "  </thead>\n",
       "  <tbody>\n",
       "    <tr>\n",
       "      <th>0</th>\n",
       "      <td>Logistic Regression</td>\n",
       "      <td>Training</td>\n",
       "      <td>0.783145</td>\n",
       "    </tr>\n",
       "    <tr>\n",
       "      <th>1</th>\n",
       "      <td>Gaussian Naive Bayes</td>\n",
       "      <td>Training</td>\n",
       "      <td>0.732420</td>\n",
       "    </tr>\n",
       "    <tr>\n",
       "      <th>2</th>\n",
       "      <td>Bernoulli Naive Bayes</td>\n",
       "      <td>Training</td>\n",
       "      <td>0.750690</td>\n",
       "    </tr>\n",
       "    <tr>\n",
       "      <th>3</th>\n",
       "      <td>Ensembled Naive Bayes</td>\n",
       "      <td>Training</td>\n",
       "      <td>0.766696</td>\n",
       "    </tr>\n",
       "    <tr>\n",
       "      <th>4</th>\n",
       "      <td>Random Forest</td>\n",
       "      <td>Training</td>\n",
       "      <td>0.818895</td>\n",
       "    </tr>\n",
       "    <tr>\n",
       "      <th>5</th>\n",
       "      <td>Gradient Boosting</td>\n",
       "      <td>Training</td>\n",
       "      <td>0.894966</td>\n",
       "    </tr>\n",
       "    <tr>\n",
       "      <th>6</th>\n",
       "      <td>QDA</td>\n",
       "      <td>Training</td>\n",
       "      <td>0.752659</td>\n",
       "    </tr>\n",
       "    <tr>\n",
       "      <th>7</th>\n",
       "      <td>LDA</td>\n",
       "      <td>Training</td>\n",
       "      <td>0.705353</td>\n",
       "    </tr>\n",
       "    <tr>\n",
       "      <th>8</th>\n",
       "      <td>SVM</td>\n",
       "      <td>Training</td>\n",
       "      <td>0.000000</td>\n",
       "    </tr>\n",
       "    <tr>\n",
       "      <th>9</th>\n",
       "      <td>Logistic Regression</td>\n",
       "      <td>Holdout</td>\n",
       "      <td>0.756708</td>\n",
       "    </tr>\n",
       "    <tr>\n",
       "      <th>10</th>\n",
       "      <td>Gaussian Naive Bayes</td>\n",
       "      <td>Holdout</td>\n",
       "      <td>0.703975</td>\n",
       "    </tr>\n",
       "    <tr>\n",
       "      <th>11</th>\n",
       "      <td>Bernoulli Naive Bayes</td>\n",
       "      <td>Holdout</td>\n",
       "      <td>0.725730</td>\n",
       "    </tr>\n",
       "    <tr>\n",
       "      <th>12</th>\n",
       "      <td>Ensembled Naive Bayes</td>\n",
       "      <td>Holdout</td>\n",
       "      <td>0.733979</td>\n",
       "    </tr>\n",
       "    <tr>\n",
       "      <th>13</th>\n",
       "      <td>Random Forest</td>\n",
       "      <td>Holdout</td>\n",
       "      <td>0.788415</td>\n",
       "    </tr>\n",
       "    <tr>\n",
       "      <th>14</th>\n",
       "      <td>Gradient Boosting</td>\n",
       "      <td>Holdout</td>\n",
       "      <td>0.839974</td>\n",
       "    </tr>\n",
       "    <tr>\n",
       "      <th>15</th>\n",
       "      <td>QDA</td>\n",
       "      <td>Holdout</td>\n",
       "      <td>0.725714</td>\n",
       "    </tr>\n",
       "    <tr>\n",
       "      <th>16</th>\n",
       "      <td>LDA</td>\n",
       "      <td>Holdout</td>\n",
       "      <td>0.679850</td>\n",
       "    </tr>\n",
       "    <tr>\n",
       "      <th>17</th>\n",
       "      <td>SVM</td>\n",
       "      <td>Holdout</td>\n",
       "      <td>0.000000</td>\n",
       "    </tr>\n",
       "  </tbody>\n",
       "</table>\n",
       "</div>"
      ],
      "text/plain": [
       "                   models      Test       AUC\n",
       "0     Logistic Regression  Training  0.783145\n",
       "1    Gaussian Naive Bayes  Training  0.732420\n",
       "2   Bernoulli Naive Bayes  Training  0.750690\n",
       "3   Ensembled Naive Bayes  Training  0.766696\n",
       "4           Random Forest  Training  0.818895\n",
       "5       Gradient Boosting  Training  0.894966\n",
       "6                     QDA  Training  0.752659\n",
       "7                     LDA  Training  0.705353\n",
       "8                     SVM  Training  0.000000\n",
       "9     Logistic Regression   Holdout  0.756708\n",
       "10   Gaussian Naive Bayes   Holdout  0.703975\n",
       "11  Bernoulli Naive Bayes   Holdout  0.725730\n",
       "12  Ensembled Naive Bayes   Holdout  0.733979\n",
       "13          Random Forest   Holdout  0.788415\n",
       "14      Gradient Boosting   Holdout  0.839974\n",
       "15                    QDA   Holdout  0.725714\n",
       "16                    LDA   Holdout  0.679850\n",
       "17                    SVM   Holdout  0.000000"
      ]
     },
     "execution_count": 606,
     "metadata": {},
     "output_type": "execute_result"
    }
   ],
   "source": [
    "# models = ['Logistic Regression', 'Bernoulli Naiive Bayes', 'Gaussian Naiive Bayes', 'Ensembled Naiive Bayes',\n",
    "#          'Random Forest']\n",
    "# AUC_training = [0.78, 0.75, 0.73, 0.77, 0.82]\n",
    "# AUC_holdout = [0.76, 0.73, 0.70, 0.73, 0.79]\n",
    "\n",
    "results_summ = pd.DataFrame({'models': models, 'Training': AUC_training, 'Holdout': AUC_holdout})\n",
    "results_summ = results_summ.melt(id_vars=['models'])\n",
    "results_summ = results_summ.rename(index=str, columns={'value': 'AUC', 'variable': 'Test'})\n",
    "results_summ"
   ]
  },
  {
   "cell_type": "code",
   "execution_count": 607,
   "metadata": {},
   "outputs": [
    {
     "data": {
      "text/plain": [
       "['Gradient Boosting',\n",
       " 'Random Forest',\n",
       " 'Logistic Regression',\n",
       " 'Ensembled Naive Bayes',\n",
       " 'Bernoulli Naive Bayes',\n",
       " 'QDA',\n",
       " 'Gaussian Naive Bayes',\n",
       " 'LDA',\n",
       " 'SVM']"
      ]
     },
     "execution_count": 607,
     "metadata": {},
     "output_type": "execute_result"
    }
   ],
   "source": [
    "order = results_summ[results_summ['Test']=='Holdout'].sort_values('AUC', ascending=False).models.tolist()\n",
    "order"
   ]
  },
  {
   "cell_type": "code",
   "execution_count": 619,
   "metadata": {},
   "outputs": [
    {
     "data": {
      "text/plain": [
       "<matplotlib.axes._subplots.AxesSubplot at 0x18ffe5f98>"
      ]
     },
     "execution_count": 619,
     "metadata": {},
     "output_type": "execute_result"
    },
    {
     "data": {
      "text/plain": [
       "Text(0.5,1,'Training and Holdout Performance')"
      ]
     },
     "execution_count": 619,
     "metadata": {},
     "output_type": "execute_result"
    },
    {
     "data": {
      "text/plain": [
       "(0.5, 1)"
      ]
     },
     "execution_count": 619,
     "metadata": {},
     "output_type": "execute_result"
    },
    {
     "data": {
      "text/plain": [
       "Text(0,0.5,'')"
      ]
     },
     "execution_count": 619,
     "metadata": {},
     "output_type": "execute_result"
    },
    {
     "data": {
      "image/png": "[encoded data removed]",
      "text/plain": [
       "<Figure size 432x288 with 1 Axes>"
      ]
     },
     "metadata": {},
     "output_type": "display_data"
    }
   ],
   "source": [
    "sns.barplot(y='models', x='AUC', hue='Test', order=order, data=results_summ)\n",
    "plt.title('Training and Holdout Performance')\n",
    "plt.xlim(0.5, 1)\n",
    "plt.ylabel('')\n",
    "plt.tight_layout()\n",
    "\n",
    "plt.savefig('figures/model_comparison.png', dpi=200, figsize=(9,4))"
   ]
  },
  {
   "cell_type": "markdown",
   "metadata": {},
   "source": [
    "# Viz"
   ]
  },
  {
   "cell_type": "code",
   "execution_count": 731,
   "metadata": {},
   "outputs": [
    {
     "data": {
      "image/png": "[encoded data removed]",
      "text/plain": [
       "<Figure size 432x288 with 4 Axes>"
      ]
     },
     "metadata": {},
     "output_type": "display_data"
    }
   ],
   "source": [
    "fig, ax = plt.subplots(2,2)\n",
    "\n",
    "ax[0.]"
   ]
  },
  {
   "cell_type": "markdown",
   "metadata": {},
   "source": [
    "# Loss Score"
   ]
  },
  {
   "cell_type": "code",
   "execution_count": 840,
   "metadata": {},
   "outputs": [],
   "source": [
    "def ModelScore(prob_pred, actuals, prob_cut, fn_penalty = 15): #static result\n",
    "\n",
    "    tn, fp, fn, tp = confusion_matrix(actuals, prob_pred > prob_cut).ravel()\n",
    "    \n",
    "    return (fn_penalty*fn + 1*fp) / prob_pred.shape[0]\n",
    "\n",
    "def rbsLoss(p, q, prob_pred, actuals, fn_penalty = 15): #recursive binary search\n",
    "    \n",
    "    eps = (q-p) / 50\n",
    "    tol = .0005\n",
    "    \n",
    "    if((q-p) < tol):\n",
    "        return (p, ModelScore(prob_pred, actuals, p, fn_penalty = 15))\n",
    "    \n",
    "    m = (p + q) / 2.0\n",
    "    \n",
    "    if(ModelScore(prob_pred, actuals, m, fn_penalty = 15) > ModelScore(prob_pred, actuals, m+eps, fn_penalty = 15)):\n",
    "        return rbsLoss(m,q,prob_pred, actuals, fn_penalty = 15)\n",
    "    else:\n",
    "        return rbsLoss(p,m,prob_pred, actuals, fn_penalty = 15)\n",
    "    \n",
    "def ModelOpt(preds_train, y_train, preds_test, y_test):\n",
    "    \n",
    "    trainingData = rbsLoss(0,1,preds_train, y_train) # (p_train, train_ModelScore)\n",
    "    testData = (trainingData[0],ModelScore(preds_test, y_test, trainingData[0],\n",
    "                                           fn_penalty = 15)) # (p_train, test_ModelScore)\n",
    "    \n",
    "    return (trainingData, testData)"
   ]
  },
  {
   "cell_type": "code",
   "execution_count": 841,
   "metadata": {},
   "outputs": [],
   "source": [
    "loss_train, loss_holdout = [], []"
   ]
  },
  {
   "cell_type": "code",
   "execution_count": 842,
   "metadata": {},
   "outputs": [],
   "source": [
    "loss_t, loss_h = ModelOpt(logit_pipe.predict_proba(X_train)[:,1],\n",
    "                                    Y_train, logit_pipe.predict_proba(X_holdout)[:,1], Y_holdout)"
   ]
  },
  {
   "cell_type": "code",
   "execution_count": 843,
   "metadata": {},
   "outputs": [],
   "source": [
    "loss_train.append(loss_t[1])\n",
    "loss_holdout.append(loss_h[1])"
   ]
  },
  {
   "cell_type": "code",
   "execution_count": 844,
   "metadata": {},
   "outputs": [],
   "source": [
    "loss_t, loss_h = ModelOpt(gnb.predict_proba(X_train.loc[:, ~bernoulli_vars])[:,1], Y_train,\n",
    "                          gnb.predict_proba(X_holdout.loc[:, ~bernoulli_vars])[:,1], Y_holdout)\n",
    "loss_train.append(loss_t[1])\n",
    "loss_holdout.append(loss_h[1])"
   ]
  },
  {
   "cell_type": "code",
   "execution_count": 845,
   "metadata": {},
   "outputs": [],
   "source": [
    "loss_t, loss_h = ModelOpt(bnb.predict_proba(X_train_nb.loc[:, bernoulli_vars])[:,1], Y_train,\n",
    "                          bnb.predict_proba(X_holdout_nb.loc[:, bernoulli_vars])[:,1], Y_holdout)\n",
    "loss_train.append(loss_t[1])\n",
    "loss_holdout.append(loss_h[1]) "
   ]
  },
  {
   "cell_type": "code",
   "execution_count": 846,
   "metadata": {},
   "outputs": [],
   "source": [
    "loss_t, loss_h = ModelOpt(ensemble_logit.predict_proba(train_predicts)[:,1], Y_train,\n",
    "                          ensemble_logit.predict_proba(holdout_predicts)[:,1], Y_holdout)\n",
    "loss_train.append(loss_t[1])\n",
    "loss_holdout.append(loss_h[1]) "
   ]
  },
  {
   "cell_type": "code",
   "execution_count": 847,
   "metadata": {},
   "outputs": [],
   "source": [
    "loss_t, loss_h = ModelOpt(rf.predict_proba(X_train)[:,1], Y_train,\n",
    "                          rf.predict_proba(X_holdout)[:,1], Y_holdout)\n",
    "loss_train.append(loss_t[1])\n",
    "loss_holdout.append(loss_h[1]) "
   ]
  },
  {
   "cell_type": "code",
   "execution_count": 848,
   "metadata": {},
   "outputs": [],
   "source": [
    "loss_t, loss_h = ModelOpt(gb.predict_proba(X_train)[:,1], Y_train,\n",
    "                          gb.predict_proba(X_holdout)[:,1], Y_holdout)\n",
    "loss_train.append(loss_t[1])\n",
    "loss_holdout.append(loss_h[1]) "
   ]
  },
  {
   "cell_type": "code",
   "execution_count": 849,
   "metadata": {},
   "outputs": [],
   "source": [
    "loss_t, loss_h = ModelOpt(QDA.predict_proba(X_train.loc[:,~bernoulli_vars])[:,1], Y_train,\n",
    "                          QDA.predict_proba(X_holdout.loc[:,~bernoulli_vars])[:,1], Y_holdout)\n",
    "loss_train.append(loss_t[1])\n",
    "loss_holdout.append(loss_h[1]) "
   ]
  },
  {
   "cell_type": "code",
   "execution_count": 850,
   "metadata": {},
   "outputs": [],
   "source": [
    "loss_t, loss_h = ModelOpt(LDA.predict_proba(X_train.loc[:,~bernoulli_vars])[:,1], Y_train,\n",
    "                          LDA.predict_proba(X_holdout.loc[:,~bernoulli_vars])[:,1], Y_holdout)\n",
    "loss_train.append(loss_t[1])\n",
    "loss_holdout.append(loss_h[1]) "
   ]
  },
  {
   "cell_type": "code",
   "execution_count": 851,
   "metadata": {},
   "outputs": [
    {
     "data": {
      "text/html": [
       "<div>\n",
       "<style scoped>\n",
       "    .dataframe tbody tr th:only-of-type {\n",
       "        vertical-align: middle;\n",
       "    }\n",
       "\n",
       "    .dataframe tbody tr th {\n",
       "        vertical-align: top;\n",
       "    }\n",
       "\n",
       "    .dataframe thead th {\n",
       "        text-align: right;\n",
       "    }\n",
       "</style>\n",
       "<table border=\"1\" class=\"dataframe\">\n",
       "  <thead>\n",
       "    <tr style=\"text-align: right;\">\n",
       "      <th></th>\n",
       "      <th>models</th>\n",
       "      <th>Test</th>\n",
       "      <th>Loss Value</th>\n",
       "    </tr>\n",
       "  </thead>\n",
       "  <tbody>\n",
       "    <tr>\n",
       "      <th>0</th>\n",
       "      <td>Logistic Regression</td>\n",
       "      <td>Training</td>\n",
       "      <td>0.612739</td>\n",
       "    </tr>\n",
       "    <tr>\n",
       "      <th>1</th>\n",
       "      <td>Gaussian Naive Bayes</td>\n",
       "      <td>Training</td>\n",
       "      <td>0.661861</td>\n",
       "    </tr>\n",
       "    <tr>\n",
       "      <th>2</th>\n",
       "      <td>Bernoulli Naive Bayes</td>\n",
       "      <td>Training</td>\n",
       "      <td>0.662571</td>\n",
       "    </tr>\n",
       "    <tr>\n",
       "      <th>3</th>\n",
       "      <td>Ensembled Naive Bayes</td>\n",
       "      <td>Training</td>\n",
       "      <td>0.639275</td>\n",
       "    </tr>\n",
       "    <tr>\n",
       "      <th>4</th>\n",
       "      <td>Random Forest</td>\n",
       "      <td>Training</td>\n",
       "      <td>0.586138</td>\n",
       "    </tr>\n",
       "    <tr>\n",
       "      <th>5</th>\n",
       "      <td>Gradient Boosting</td>\n",
       "      <td>Training</td>\n",
       "      <td>0.436240</td>\n",
       "    </tr>\n",
       "    <tr>\n",
       "      <th>6</th>\n",
       "      <td>QDA</td>\n",
       "      <td>Training</td>\n",
       "      <td>0.641839</td>\n",
       "    </tr>\n",
       "    <tr>\n",
       "      <th>7</th>\n",
       "      <td>LDA</td>\n",
       "      <td>Training</td>\n",
       "      <td>1.341030</td>\n",
       "    </tr>\n",
       "    <tr>\n",
       "      <th>8</th>\n",
       "      <td>Logistic Regression</td>\n",
       "      <td>Holdout</td>\n",
       "      <td>0.640161</td>\n",
       "    </tr>\n",
       "    <tr>\n",
       "      <th>9</th>\n",
       "      <td>Gaussian Naive Bayes</td>\n",
       "      <td>Holdout</td>\n",
       "      <td>0.702393</td>\n",
       "    </tr>\n",
       "    <tr>\n",
       "      <th>10</th>\n",
       "      <td>Bernoulli Naive Bayes</td>\n",
       "      <td>Holdout</td>\n",
       "      <td>0.699336</td>\n",
       "    </tr>\n",
       "    <tr>\n",
       "      <th>11</th>\n",
       "      <td>Ensembled Naive Bayes</td>\n",
       "      <td>Holdout</td>\n",
       "      <td>0.687823</td>\n",
       "    </tr>\n",
       "    <tr>\n",
       "      <th>12</th>\n",
       "      <td>Random Forest</td>\n",
       "      <td>Holdout</td>\n",
       "      <td>0.627704</td>\n",
       "    </tr>\n",
       "    <tr>\n",
       "      <th>13</th>\n",
       "      <td>Gradient Boosting</td>\n",
       "      <td>Holdout</td>\n",
       "      <td>0.523201</td>\n",
       "    </tr>\n",
       "    <tr>\n",
       "      <th>14</th>\n",
       "      <td>QDA</td>\n",
       "      <td>Holdout</td>\n",
       "      <td>0.681756</td>\n",
       "    </tr>\n",
       "    <tr>\n",
       "      <th>15</th>\n",
       "      <td>LDA</td>\n",
       "      <td>Holdout</td>\n",
       "      <td>1.231305</td>\n",
       "    </tr>\n",
       "  </tbody>\n",
       "</table>\n",
       "</div>"
      ],
      "text/plain": [
       "                   models      Test  Loss Value\n",
       "0     Logistic Regression  Training    0.612739\n",
       "1    Gaussian Naive Bayes  Training    0.661861\n",
       "2   Bernoulli Naive Bayes  Training    0.662571\n",
       "3   Ensembled Naive Bayes  Training    0.639275\n",
       "4           Random Forest  Training    0.586138\n",
       "5       Gradient Boosting  Training    0.436240\n",
       "6                     QDA  Training    0.641839\n",
       "7                     LDA  Training    1.341030\n",
       "8     Logistic Regression   Holdout    0.640161\n",
       "9    Gaussian Naive Bayes   Holdout    0.702393\n",
       "10  Bernoulli Naive Bayes   Holdout    0.699336\n",
       "11  Ensembled Naive Bayes   Holdout    0.687823\n",
       "12          Random Forest   Holdout    0.627704\n",
       "13      Gradient Boosting   Holdout    0.523201\n",
       "14                    QDA   Holdout    0.681756\n",
       "15                    LDA   Holdout    1.231305"
      ]
     },
     "execution_count": 851,
     "metadata": {},
     "output_type": "execute_result"
    }
   ],
   "source": [
    "results_summ_loss = pd.DataFrame({'models': models[:-1], 'Training': loss_train, 'Holdout': loss_holdout})\n",
    "results_summ_loss = results_summ_loss.melt(id_vars=['models'])\n",
    "results_summ_loss = results_summ_loss.rename(index=str, columns={'value': 'Loss Value', 'variable': 'Test'})\n",
    "results_summ_loss"
   ]
  },
  {
   "cell_type": "code",
   "execution_count": 852,
   "metadata": {},
   "outputs": [
    {
     "data": {
      "text/plain": [
       "['Gradient Boosting',\n",
       " 'Random Forest',\n",
       " 'Logistic Regression',\n",
       " 'QDA',\n",
       " 'Ensembled Naive Bayes',\n",
       " 'Bernoulli Naive Bayes',\n",
       " 'Gaussian Naive Bayes',\n",
       " 'LDA']"
      ]
     },
     "execution_count": 852,
     "metadata": {},
     "output_type": "execute_result"
    }
   ],
   "source": [
    "order_loss = results_summ_loss[results_summ_loss['Test']=='Holdout'].sort_values('Loss Value').models.tolist()\n",
    "order_loss"
   ]
  },
  {
   "cell_type": "code",
   "execution_count": 853,
   "metadata": {},
   "outputs": [
    {
     "data": {
      "text/plain": [
       "<matplotlib.axes._subplots.AxesSubplot at 0x1f2c2c470>"
      ]
     },
     "execution_count": 853,
     "metadata": {},
     "output_type": "execute_result"
    },
    {
     "data": {
      "text/plain": [
       "Text(0.5,1,'Training and Holdout Loss')"
      ]
     },
     "execution_count": 853,
     "metadata": {},
     "output_type": "execute_result"
    },
    {
     "data": {
      "text/plain": [
       "Text(0,0.5,'')"
      ]
     },
     "execution_count": 853,
     "metadata": {},
     "output_type": "execute_result"
    },
    {
     "data": {
      "image/png": "[encoded data removed]",
      "text/plain": [
       "<Figure size 432x288 with 1 Axes>"
      ]
     },
     "metadata": {},
     "output_type": "display_data"
    }
   ],
   "source": [
    "sns.barplot(y='models', x='Loss Value', hue='Test', order=order_loss, data=results_summ_loss)\n",
    "plt.title('Training and Holdout Loss')\n",
    "#plt.xlim(0.5, 1)\n",
    "plt.ylabel('')\n",
    "plt.tight_layout()\n",
    "\n",
    "plt.savefig('figures/model_comparison_loss.png', dpi=200, figsize=(9,4))"
   ]
  },
  {
   "cell_type": "markdown",
   "metadata": {},
   "source": [
    "# Debugging Loss Function Optimization"
   ]
  },
  {
   "cell_type": "code",
   "execution_count": 800,
   "metadata": {},
   "outputs": [],
   "source": [
    "def ModelScore2(prob_pred, actuals, prob_cut, fn_penalty = 15):\n",
    "\n",
    "    tn, fp, fn, tp = confusion_matrix(actuals, prob_pred > prob_cut).ravel()\n",
    "    \n",
    "    return fn_penalty*fn + 1*fp\n",
    "\n",
    "preds = gb.predict_proba(X_train)[:,1]"
   ]
  },
  {
   "cell_type": "code",
   "execution_count": 802,
   "metadata": {},
   "outputs": [],
   "source": [
    "x = np.linspace(0,1,101)\n",
    "y = np.zeros(101)\n",
    "i = 0\n",
    "\n",
    "for each in x:\n",
    "    y[i] = ModelScore2(preds, Y_train, each)\n",
    "    i = i+1"
   ]
  },
  {
   "cell_type": "code",
   "execution_count": 838,
   "metadata": {},
   "outputs": [
    {
     "data": {
      "text/plain": [
       "((0.0771484375, 0.4362399048907473), (0.0771484375, 0.5232009939965396))"
      ]
     },
     "execution_count": 838,
     "metadata": {},
     "output_type": "execute_result"
    }
   ],
   "source": [
    "ModelOpt(gb.predict_proba(X_train)[:,1], Y_train,\n",
    "                          gb.predict_proba(X_holdout)[:,1], Y_holdout)"
   ]
  },
  {
   "cell_type": "code",
   "execution_count": 839,
   "metadata": {
    "scrolled": true
   },
   "outputs": [
    {
     "data": {
      "text/plain": [
       "[<matplotlib.lines.Line2D at 0x1f2ab1358>]"
      ]
     },
     "execution_count": 839,
     "metadata": {},
     "output_type": "execute_result"
    },
    {
     "data": {
      "text/plain": [
       "<matplotlib.lines.Line2D at 0x1f1f6e898>"
      ]
     },
     "execution_count": 839,
     "metadata": {},
     "output_type": "execute_result"
    },
    {
     "data": {
      "text/plain": [
       "<matplotlib.lines.Line2D at 0x1f2ab1a90>"
      ]
     },
     "execution_count": 839,
     "metadata": {},
     "output_type": "execute_result"
    },
    {
     "data": {
      "image/png": "[encoded data removed]",
      "text/plain": [
       "<Figure size 432x288 with 1 Axes>"
      ]
     },
     "metadata": {},
     "output_type": "display_data"
    }
   ],
   "source": [
    "plt.plot(x, y)\n",
    "plt.axvline(0.25, color='r')\n",
    "plt.axvline(0.0771484375, color='purple')"
   ]
  },
  {
   "cell_type": "code",
   "execution_count": 809,
   "metadata": {},
   "outputs": [
    {
     "data": {
      "text/plain": [
       "0.4331277708476085"
      ]
     },
     "execution_count": 809,
     "metadata": {},
     "output_type": "execute_result"
    }
   ],
   "source": [
    "min(y)/len(X_train)"
   ]
  },
  {
   "cell_type": "code",
   "execution_count": 819,
   "metadata": {},
   "outputs": [
    {
     "data": {
      "text/plain": [
       "8       369785.0\n",
       "9       374309.0\n",
       "10      387952.0\n",
       "7       396791.0\n",
       "11      403328.0\n",
       "12      416333.0\n",
       "13      469173.0\n",
       "14      515557.0\n",
       "15      550629.0\n",
       "16      564802.0\n",
       "17      584192.0\n",
       "18      606492.0\n",
       "19      614785.0\n",
       "20      625433.0\n",
       "6       630641.0\n",
       "21      631694.0\n",
       "22      639915.0\n",
       "23      646285.0\n",
       "24      655695.0\n",
       "25      670563.0\n",
       "26      676941.0\n",
       "27      684062.0\n",
       "28      698876.0\n",
       "29      717656.0\n",
       "30      733247.0\n",
       "31      751641.0\n",
       "0       777428.0\n",
       "5       777428.0\n",
       "4       777428.0\n",
       "3       777428.0\n",
       "         ...    \n",
       "96     1144905.0\n",
       "97     1144905.0\n",
       "98     1144905.0\n",
       "77     1144905.0\n",
       "99     1144905.0\n",
       "76     1144905.0\n",
       "74     1144905.0\n",
       "53     1144905.0\n",
       "54     1144905.0\n",
       "55     1144905.0\n",
       "56     1144905.0\n",
       "57     1144905.0\n",
       "58     1144905.0\n",
       "59     1144905.0\n",
       "60     1144905.0\n",
       "61     1144905.0\n",
       "62     1144905.0\n",
       "63     1144905.0\n",
       "64     1144905.0\n",
       "65     1144905.0\n",
       "66     1144905.0\n",
       "67     1144905.0\n",
       "68     1144905.0\n",
       "69     1144905.0\n",
       "70     1144905.0\n",
       "71     1144905.0\n",
       "72     1144905.0\n",
       "73     1144905.0\n",
       "75     1144905.0\n",
       "100    1144905.0\n",
       "Length: 101, dtype: float64"
      ]
     },
     "execution_count": 819,
     "metadata": {},
     "output_type": "execute_result"
    },
    {
     "data": {
      "text/plain": [
       "0.08"
      ]
     },
     "execution_count": 819,
     "metadata": {},
     "output_type": "execute_result"
    }
   ],
   "source": [
    "#Find threshold --> 0.08\n",
    "pd.Series(y).sort_values()\n",
    "x[8]"
   ]
  },
  {
   "cell_type": "code",
   "execution_count": 813,
   "metadata": {},
   "outputs": [],
   "source": [
    "# Update gb\n",
    "results_summ_loss.iloc[5,2] = min(y)/len(X_train)"
   ]
  },
  {
   "cell_type": "code",
   "execution_count": 823,
   "metadata": {},
   "outputs": [],
   "source": [
    "results_summ_loss.iloc[13, 2] = ModelScore2(gb.predict_proba(X_holdout)[:,1], Y_holdout, 0.08)/len(Y_holdout)"
   ]
  },
  {
   "cell_type": "code",
   "execution_count": 825,
   "metadata": {},
   "outputs": [
    {
     "data": {
      "text/plain": [
       "['Gradient Boosting',\n",
       " 'Logistic Regression',\n",
       " 'Random Forest',\n",
       " 'Ensembled Naive Bayes',\n",
       " 'QDA',\n",
       " 'Gaussian Naive Bayes',\n",
       " 'Bernoulli Naive Bayes',\n",
       " 'LDA']"
      ]
     },
     "execution_count": 825,
     "metadata": {},
     "output_type": "execute_result"
    }
   ],
   "source": [
    "order_loss = results_summ_loss[results_summ_loss['Test']=='Holdout'].sort_values('Loss Value').models.tolist()\n",
    "order_loss"
   ]
  },
  {
   "cell_type": "code",
   "execution_count": 826,
   "metadata": {},
   "outputs": [
    {
     "data": {
      "text/plain": [
       "<matplotlib.axes._subplots.AxesSubplot at 0x186222160>"
      ]
     },
     "execution_count": 826,
     "metadata": {},
     "output_type": "execute_result"
    },
    {
     "data": {
      "text/plain": [
       "Text(0.5,1,'Training and Holdout Loss')"
      ]
     },
     "execution_count": 826,
     "metadata": {},
     "output_type": "execute_result"
    },
    {
     "data": {
      "text/plain": [
       "Text(0,0.5,'')"
      ]
     },
     "execution_count": 826,
     "metadata": {},
     "output_type": "execute_result"
    },
    {
     "data": {
      "image/png": "[encoded data removed]",
      "text/plain": [
       "<Figure size 432x288 with 1 Axes>"
      ]
     },
     "metadata": {},
     "output_type": "display_data"
    }
   ],
   "source": [
    "sns.barplot(y='models', x='Loss Value', hue='Test', order=order_loss, data=results_summ_loss)\n",
    "plt.title('Training and Holdout Loss')\n",
    "#plt.xlim(0.5, 1)\n",
    "plt.ylabel('')\n",
    "plt.tight_layout()\n",
    "\n",
    "plt.savefig('figures/model_comparison_loss.png', dpi=200, figsize=(9,4))"
   ]
  },
  {
   "cell_type": "code",
   "execution_count": 827,
   "metadata": {},
   "outputs": [],
   "source": [
    "def ModelScore2(prob_pred, actuals, prob_cut, fn_penalty = 15):\n",
    "\n",
    "    tn, fp, fn, tp = confusion_matrix(actuals, prob_pred > prob_cut).ravel()\n",
    "    \n",
    "    return fn_penalty*fn + 1*fp\n",
    "\n",
    "preds = rf.predict_proba(X_train)[:,1]"
   ]
  },
  {
   "cell_type": "code",
   "execution_count": 828,
   "metadata": {},
   "outputs": [],
   "source": [
    "x = np.linspace(0,1,101)\n",
    "y = np.zeros(101)\n",
    "i = 0\n",
    "\n",
    "for each in x:\n",
    "    y[i] = ModelScore2(preds, Y_train, each)\n",
    "    i = i+1"
   ]
  },
  {
   "cell_type": "code",
   "execution_count": 833,
   "metadata": {},
   "outputs": [
    {
     "data": {
      "text/plain": [
       "((0.0888671875, 0.5861377092959924), (0.0888671875, 0.6277041699083804))"
      ]
     },
     "execution_count": 833,
     "metadata": {},
     "output_type": "execute_result"
    }
   ],
   "source": [
    "ModelOpt(rf.predict_proba(X_train)[:,1], Y_train,\n",
    "                          rf.predict_proba(X_holdout)[:,1], Y_holdout)"
   ]
  },
  {
   "cell_type": "code",
   "execution_count": 837,
   "metadata": {
    "scrolled": true
   },
   "outputs": [
    {
     "data": {
      "text/plain": [
       "[<matplotlib.lines.Line2D at 0x1e9180f60>]"
      ]
     },
     "execution_count": 837,
     "metadata": {},
     "output_type": "execute_result"
    },
    {
     "data": {
      "text/plain": [
       "<matplotlib.lines.Line2D at 0x1f5d23eb8>"
      ]
     },
     "execution_count": 837,
     "metadata": {},
     "output_type": "execute_result"
    },
    {
     "data": {
      "text/plain": [
       "<matplotlib.lines.Line2D at 0x1f15aa6d8>"
      ]
     },
     "execution_count": 837,
     "metadata": {},
     "output_type": "execute_result"
    },
    {
     "data": {
      "image/png": "[encoded data removed]",
      "text/plain": [
       "<Figure size 432x288 with 1 Axes>"
      ]
     },
     "metadata": {},
     "output_type": "display_data"
    }
   ],
   "source": [
    "plt.plot(x, y)\n",
    "plt.axvline(0.1162109375, color='r')\n",
    "plt.axvline(0.0888671875, color='purple')"
   ]
  }
 ],
 "metadata": {
  "kernelspec": {
   "display_name": "Python [default]",
   "language": "python",
   "name": "python3"
  },
  "language_info": {
   "codemirror_mode": {
    "name": "ipython",
    "version": 3
   },
   "file_extension": ".py",
   "mimetype": "text/x-python",
   "name": "python",
   "nbconvert_exporter": "python",
   "pygments_lexer": "ipython3",
   "version": "3.6.6"
  }
 },
 "nbformat": 4,
 "nbformat_minor": 2
}
